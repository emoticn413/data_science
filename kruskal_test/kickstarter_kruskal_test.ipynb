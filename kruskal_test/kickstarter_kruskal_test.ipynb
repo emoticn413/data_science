{
 "cells": [
  {
   "cell_type": "markdown",
   "metadata": {
    "id": "kyhdwuKwemG0"
   },
   "source": [
    "## Measuring Varying Project Goals to Assess Potential Greater Return of Amount Pledged**\n",
    "\n",
    "For my project, I’ll be examining a dataset containing multiple years of Kickstarter project data to assess the degree of success based on the initial asking goal amount, relative to excess money pledged.  The data comes from Kaggle by user Mickaël Moullié, chosen for its large count, having relatively recent data, and converting all monetary values into U.S. dollars to make for easier translation for globally funded projects involving multiple currencies.  I’m only going to assess projects between 1-30 days, as that’s what Kickstarter recommends to have see the greatest chance at project success.\n",
    "My key metric is the pledged amount divided by set goal.  \n",
    "      `key_metric = pledged / goal`\n",
    "\n",
    "This is so that these two values have a relationship that can be measured more equally between different goal tiers, vs just having the pledge amount.  With this metric, extreme values would indicate either very successful or very ambitious projects, relative to goal amount, and could be determined to be outliers to discard.  To compare as equal projects as possible, I will be testing within each of the 15 main categories.  \n",
    "\n",
    "array(['Games', 'Fashion', 'Film & Video', 'Technology', 'Art', 'Music',\n",
    "       'Journalism', 'Design', 'Publishing', 'Comics', 'Crafts', 'Food',\n",
    "       'Dance', 'Theater', 'Photography'], dtype=object)\n",
    "\n",
    "```\n",
    "kickstarter_df['main_category'].unique()\n",
    "\n",
    "array(['Games', 'Fashion', 'Film & Video', 'Technology', 'Art', 'Music',\n",
    "       'Journalism', 'Design', 'Publishing', 'Comics', 'Crafts', 'Food',\n",
    "       'Dance', 'Theater', 'Photography'], dtype=object)\n",
    "```\n",
    "\n",
    "From there I will set a low and high tier of goals as my two test groups.  My null hypothesis is that the amount pledged over goal within the same category between lower and higher initial goals are equal; my alternative hypothesis is that they differ.  \n",
    "\n",
    "\n",
    "\n",
    "The significance of this test would be showing that, if we can reject the null, there is a significant difference in amount pledged based on how you define your project by goal.  For example, if the key metric is positive when comparing a lower and higher initial goal tier group, then, on average, setting a higher goal amount ends up leading to relatively more funds.  This could indicate that backers who want to support a project aren’t deterred from donating solely based off the higher amount needed to raise, vs supporting a project that can be successful with less funds.  Knowing this, a project creator could set their goal higher than needed, because they will end up earning even more money over their goal.  Alternatively, if there’s no significant difference, then we can’t prove that, on average, any project earns relatively more than another based off of initial goal, and creators should just ask for the minimum amount they need.\n",
    "\n",
    "\n",
    "All these points aim to inform those creating Kickstarter projects how their user set goals could end up affecting the total amount of money they will get.  While there are additional details influenced or decided by the creator, such as the popularity of the project creator, length of project, and the rewards offered for contributing, these tests aim to give a general insight into project success for one facet all projects have in common.\n",
    "\n"
   ]
  },
  {
   "cell_type": "code",
   "execution_count": null,
   "metadata": {
    "id": "I58lKWu4VTb_"
   },
   "outputs": [],
   "source": [
    "import numpy as np\n",
    "import pandas as pd\n",
    "import matplotlib.pyplot as plt\n",
    "import seaborn as sns\n",
    "from scipy import stats\n",
    "from datetime import timedelta\n",
    "import math"
   ]
  },
  {
   "cell_type": "code",
   "execution_count": null,
   "metadata": {
    "colab": {
     "base_uri": "https://localhost:8080/",
     "height": 89,
     "resources": {
      "http://localhost:8080/nbextensions/google.colab/files.js": {
       "data": "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",
       "headers": [
        [
         "content-type",
         "application/javascript"
        ]
       ],
       "ok": true,
       "status": 200,
       "status_text": ""
      }
     }
    },
    "id": "aUaDcnEssdOX",
    "outputId": "dfd9b38c-ad23-4bae-881c-4bc29aeb7d2b"
   },
   "outputs": [
    {
     "data": {
      "text/html": [
       "\n",
       "     <input type=\"file\" id=\"files-5089ce3e-93c2-484a-a2e9-c30375b8d2eb\" name=\"files[]\" multiple disabled\n",
       "        style=\"border:none\" />\n",
       "     <output id=\"result-5089ce3e-93c2-484a-a2e9-c30375b8d2eb\">\n",
       "      Upload widget is only available when the cell has been executed in the\n",
       "      current browser session. Please rerun this cell to enable.\n",
       "      </output>\n",
       "      <script src=\"/nbextensions/google.colab/files.js\"></script> "
      ],
      "text/plain": [
       "<IPython.core.display.HTML object>"
      ]
     },
     "metadata": {
      "tags": []
     },
     "output_type": "display_data"
    },
    {
     "name": "stdout",
     "output_type": "stream",
     "text": [
      "Saving kaggle.json to kaggle (2).json\n"
     ]
    },
    {
     "data": {
      "text/plain": [
       "{'kaggle.json': b'{\"username\":\"trevinwacker\",\"key\":\"0f9d2d3e94ca0976d5a64006016364bb\"}'}"
      ]
     },
     "execution_count": 97,
     "metadata": {
      "tags": []
     },
     "output_type": "execute_result"
    }
   ],
   "source": [
    "# Must create new Kaggle API token to download kaggle.json\n",
    "# Found how to download kaggle datasets from this url: https://www.kaggle.com/general/74235\n",
    "\n",
    "import pandas as pd\n",
    "! pip install -q kaggle\n",
    "from google.colab import files\n",
    "\n",
    "files.upload()  # upload kaggle.json\n",
    "\n",
    "\n",
    "\n"
   ]
  },
  {
   "cell_type": "code",
   "execution_count": null,
   "metadata": {
    "colab": {
     "base_uri": "https://localhost:8080/"
    },
    "id": "gDKjXlbgQh7n",
    "outputId": "f092a56f-2b56-498d-d53b-a4b5a1c081aa"
   },
   "outputs": [
    {
     "name": "stdout",
     "output_type": "stream",
     "text": [
      "mkdir: cannot create directory ‘/root/.kaggle’: File exists\n",
      "Warning: Looks like you're using an outdated API Version, please consider updating (server 1.5.9 / client 1.5.4)\n",
      "ref                                                     title                                              size  lastUpdated          downloadCount  \n",
      "------------------------------------------------------  -----------------------------------------------  ------  -------------------  -------------  \n",
      "unanimad/us-election-2020                               US Election 2020                                  428KB  2020-11-23 12:01:34           8090  \n",
      "antgoldbloom/covid19-data-from-john-hopkins-university  COVID-19 data from John Hopkins University          3MB  2020-11-23 06:03:57           3998  \n",
      "manchunhui/us-election-2020-tweets                      US Election 2020 Tweets                           353MB  2020-11-09 18:51:59           3306  \n",
      "headsortails/us-election-2020-presidential-debates      US Election 2020 - Presidential Debates           199MB  2020-10-23 16:56:10            632  \n",
      "etsc9287/2020-general-election-polls                    Election, COVID, and Demographic Data by County  1020KB  2020-11-14 19:52:25           1344  \n",
      "radustoicescu/2020-united-states-presidential-election  2020 United States presidential election           11MB  2019-07-04 15:00:45            887  \n",
      "shivamb/netflix-shows                                   Netflix Movies and TV Shows                       971KB  2020-01-20 07:33:56          63150  \n",
      "terenceshin/covid19s-impact-on-airport-traffic          COVID-19's Impact on Airport Traffic              106KB  2020-10-19 12:40:17           5118  \n",
      "sootersaalu/amazon-top-50-bestselling-books-2009-2019   Amazon Top 50 Bestselling Books 2009 - 2019        15KB  2020-10-13 09:39:21           5635  \n",
      "nehaprabhavalkar/indian-food-101                        Indian Food 101                                     7KB  2020-09-30 06:23:43           8088  \n",
      "karangadiya/fifa19                                      FIFA 19 complete player dataset                     2MB  2018-12-21 03:52:59         105593  \n",
      "heeraldedhia/groceries-dataset                          Groceries dataset                                 257KB  2020-09-17 04:36:08           8591  \n",
      "andrewmvd/trip-advisor-hotel-reviews                    Trip Advisor Hotel Reviews                          5MB  2020-09-30 08:31:20           5681  \n",
      "docstein/brics-world-bank-indicators                    BRICS World Bank Indicators                         4MB  2020-10-22 12:18:40           1441  \n",
      "omarhanyy/500-greatest-songs-of-all-time                500 Greatest Songs of All Time                    114KB  2020-11-19 19:08:28           1872  \n",
      "google/tinyquickdraw                                    QuickDraw Sketches                                 11GB  2018-04-18 19:38:04           2505  \n",
      "datasnaek/youtube-new                                   Trending YouTube Video Statistics                 201MB  2019-06-03 00:56:47         116727  \n",
      "uciml/mushroom-classification                           Mushroom Classification                            34KB  2016-12-01 23:08:00          55588  \n",
      "anikannal/solar-power-generation-data                   Solar Power Generation Data                         2MB  2020-08-18 15:52:03          10694  \n",
      "zynicide/wine-reviews                                   Wine Reviews                                       51MB  2017-11-27 17:08:04         120078  \n"
     ]
    }
   ],
   "source": [
    "! mkdir ~/.kaggle\n",
    "! cp kaggle.json ~/.kaggle/\n",
    "! chmod 600 ~/.kaggle/kaggle.json\n",
    "\n",
    "! kaggle datasets list"
   ]
  },
  {
   "cell_type": "code",
   "execution_count": null,
   "metadata": {
    "colab": {
     "base_uri": "https://localhost:8080/"
    },
    "id": "rQpVa_dpUIem",
    "outputId": "538127e5-46dd-43d0-e17a-5d39d3e1cf04"
   },
   "outputs": [
    {
     "name": "stdout",
     "output_type": "stream",
     "text": [
      "kickstarter-projects.zip: Skipping, found more recently modified local copy (use --force to force download)\n",
      "Archive:  kickstarter-projects.zip\n",
      "replace Downloads/ks-projects-201612.csv? [y]es, [n]o, [A]ll, [N]one, [r]ename: n\n",
      "replace Downloads/ks-projects-201801.csv? [y]es, [n]o, [A]ll, [N]one, [r]ename: n\n"
     ]
    }
   ],
   "source": [
    "! kaggle datasets download -d kemical/kickstarter-projects\n",
    "\n",
    "! unzip kickstarter-projects.zip -d Downloads\n",
    "\n",
    "with open('Downloads/ks-projects-201801.csv', encoding=\"utf8\", errors='ignore') as f: ## This code/trick was found here on StackOverflow: https://stackoverflow.com/questions/42339876/error-unicodedecodeerror-utf-8-codec-cant-decode-byte-0xff-in-position-0-in\n",
    "  ks_df_original = pd.read_csv(f) ## I only had this initially and it wouldn't read (except f was the pathway). This works except it has a unicode error ('utf-8' can't read)\n",
    "                                  ## Adding as note to myself!!"
   ]
  },
  {
   "cell_type": "code",
   "execution_count": null,
   "metadata": {
    "colab": {
     "base_uri": "https://localhost:8080/"
    },
    "id": "3wgWUvteQcqu",
    "outputId": "e0d46c98-bc53-4cce-a988-82eca9dcf0b3"
   },
   "outputs": [
    {
     "data": {
      "text/plain": [
       "ID                    int64\n",
       "name                 object\n",
       "category             object\n",
       "main_category        object\n",
       "currency             object\n",
       "deadline             object\n",
       "goal                float64\n",
       "launched             object\n",
       "pledged             float64\n",
       "state                object\n",
       "backers               int64\n",
       "country              object\n",
       "usd pledged         float64\n",
       "usd_pledged_real    float64\n",
       "usd_goal_real       float64\n",
       "dtype: object"
      ]
     },
     "execution_count": 100,
     "metadata": {
      "tags": []
     },
     "output_type": "execute_result"
    }
   ],
   "source": [
    "ks_df_original.dtypes  ## Looking at dataframe types"
   ]
  },
  {
   "cell_type": "code",
   "execution_count": null,
   "metadata": {
    "colab": {
     "base_uri": "https://localhost:8080/",
     "height": 479
    },
    "id": "W0tasqc1Wr5h",
    "outputId": "d49defe9-1d2f-4fd0-d8c3-083fa13de7db"
   },
   "outputs": [
    {
     "data": {
      "text/html": [
       "<div>\n",
       "<style scoped>\n",
       "    .dataframe tbody tr th:only-of-type {\n",
       "        vertical-align: middle;\n",
       "    }\n",
       "\n",
       "    .dataframe tbody tr th {\n",
       "        vertical-align: top;\n",
       "    }\n",
       "\n",
       "    .dataframe thead th {\n",
       "        text-align: right;\n",
       "    }\n",
       "</style>\n",
       "<table border=\"1\" class=\"dataframe\">\n",
       "  <thead>\n",
       "    <tr style=\"text-align: right;\">\n",
       "      <th></th>\n",
       "      <th>ID</th>\n",
       "      <th>name</th>\n",
       "      <th>category</th>\n",
       "      <th>main_category</th>\n",
       "      <th>currency</th>\n",
       "      <th>deadline</th>\n",
       "      <th>goal</th>\n",
       "      <th>launched</th>\n",
       "      <th>pledged</th>\n",
       "      <th>state</th>\n",
       "      <th>backers</th>\n",
       "      <th>country</th>\n",
       "      <th>usd pledged</th>\n",
       "      <th>usd_pledged_real</th>\n",
       "      <th>usd_goal_real</th>\n",
       "    </tr>\n",
       "  </thead>\n",
       "  <tbody>\n",
       "    <tr>\n",
       "      <th>0</th>\n",
       "      <td>1000002330</td>\n",
       "      <td>The Songs of Adelaide &amp; Abullah</td>\n",
       "      <td>Poetry</td>\n",
       "      <td>Publishing</td>\n",
       "      <td>GBP</td>\n",
       "      <td>2015-10-09</td>\n",
       "      <td>1000.0</td>\n",
       "      <td>2015-08-11 12:12:28</td>\n",
       "      <td>0.0</td>\n",
       "      <td>failed</td>\n",
       "      <td>0</td>\n",
       "      <td>GB</td>\n",
       "      <td>0.0</td>\n",
       "      <td>0.0</td>\n",
       "      <td>1533.95</td>\n",
       "    </tr>\n",
       "    <tr>\n",
       "      <th>1</th>\n",
       "      <td>1000003930</td>\n",
       "      <td>Greeting From Earth: ZGAC Arts Capsule For ET</td>\n",
       "      <td>Narrative Film</td>\n",
       "      <td>Film &amp; Video</td>\n",
       "      <td>USD</td>\n",
       "      <td>2017-11-01</td>\n",
       "      <td>30000.0</td>\n",
       "      <td>2017-09-02 04:43:57</td>\n",
       "      <td>2421.0</td>\n",
       "      <td>failed</td>\n",
       "      <td>15</td>\n",
       "      <td>US</td>\n",
       "      <td>100.0</td>\n",
       "      <td>2421.0</td>\n",
       "      <td>30000.00</td>\n",
       "    </tr>\n",
       "    <tr>\n",
       "      <th>2</th>\n",
       "      <td>1000004038</td>\n",
       "      <td>Where is Hank?</td>\n",
       "      <td>Narrative Film</td>\n",
       "      <td>Film &amp; Video</td>\n",
       "      <td>USD</td>\n",
       "      <td>2013-02-26</td>\n",
       "      <td>45000.0</td>\n",
       "      <td>2013-01-12 00:20:50</td>\n",
       "      <td>220.0</td>\n",
       "      <td>failed</td>\n",
       "      <td>3</td>\n",
       "      <td>US</td>\n",
       "      <td>220.0</td>\n",
       "      <td>220.0</td>\n",
       "      <td>45000.00</td>\n",
       "    </tr>\n",
       "    <tr>\n",
       "      <th>3</th>\n",
       "      <td>1000007540</td>\n",
       "      <td>ToshiCapital Rekordz Needs Help to Complete Album</td>\n",
       "      <td>Music</td>\n",
       "      <td>Music</td>\n",
       "      <td>USD</td>\n",
       "      <td>2012-04-16</td>\n",
       "      <td>5000.0</td>\n",
       "      <td>2012-03-17 03:24:11</td>\n",
       "      <td>1.0</td>\n",
       "      <td>failed</td>\n",
       "      <td>1</td>\n",
       "      <td>US</td>\n",
       "      <td>1.0</td>\n",
       "      <td>1.0</td>\n",
       "      <td>5000.00</td>\n",
       "    </tr>\n",
       "    <tr>\n",
       "      <th>4</th>\n",
       "      <td>1000011046</td>\n",
       "      <td>Community Film Project: The Art of Neighborhoo...</td>\n",
       "      <td>Film &amp; Video</td>\n",
       "      <td>Film &amp; Video</td>\n",
       "      <td>USD</td>\n",
       "      <td>2015-08-29</td>\n",
       "      <td>19500.0</td>\n",
       "      <td>2015-07-04 08:35:03</td>\n",
       "      <td>1283.0</td>\n",
       "      <td>canceled</td>\n",
       "      <td>14</td>\n",
       "      <td>US</td>\n",
       "      <td>1283.0</td>\n",
       "      <td>1283.0</td>\n",
       "      <td>19500.00</td>\n",
       "    </tr>\n",
       "  </tbody>\n",
       "</table>\n",
       "</div>"
      ],
      "text/plain": [
       "           ID  ... usd_goal_real\n",
       "0  1000002330  ...       1533.95\n",
       "1  1000003930  ...      30000.00\n",
       "2  1000004038  ...      45000.00\n",
       "3  1000007540  ...       5000.00\n",
       "4  1000011046  ...      19500.00\n",
       "\n",
       "[5 rows x 15 columns]"
      ]
     },
     "execution_count": 101,
     "metadata": {
      "tags": []
     },
     "output_type": "execute_result"
    }
   ],
   "source": [
    "ks_df_original.head()  ## Seeing original dataset before cleaning"
   ]
  },
  {
   "cell_type": "code",
   "execution_count": null,
   "metadata": {
    "colab": {
     "base_uri": "https://localhost:8080/"
    },
    "id": "hH8qJyxs_WjW",
    "outputId": "60ed7fd5-6292-4e60-dceb-9e10dc216875"
   },
   "outputs": [
    {
     "name": "stdout",
     "output_type": "stream",
     "text": [
      "<class 'pandas.core.frame.DataFrame'>\n",
      "RangeIndex: 378661 entries, 0 to 378660\n",
      "Data columns (total 15 columns):\n",
      " #   Column            Non-Null Count   Dtype  \n",
      "---  ------            --------------   -----  \n",
      " 0   ID                378661 non-null  int64  \n",
      " 1   name              378657 non-null  object \n",
      " 2   category          378661 non-null  object \n",
      " 3   main_category     378661 non-null  object \n",
      " 4   currency          378661 non-null  object \n",
      " 5   deadline          378661 non-null  object \n",
      " 6   goal              378661 non-null  float64\n",
      " 7   launched          378661 non-null  object \n",
      " 8   pledged           378661 non-null  float64\n",
      " 9   state             378661 non-null  object \n",
      " 10  backers           378661 non-null  int64  \n",
      " 11  country           378661 non-null  object \n",
      " 12  usd pledged       374864 non-null  float64\n",
      " 13  usd_pledged_real  378661 non-null  float64\n",
      " 14  usd_goal_real     378661 non-null  float64\n",
      "dtypes: float64(5), int64(2), object(8)\n",
      "memory usage: 43.3+ MB\n"
     ]
    }
   ],
   "source": [
    "ks_df_original.info() # There are some null values in the usd_pledged_real field that will need to be addressed."
   ]
  },
  {
   "cell_type": "code",
   "execution_count": null,
   "metadata": {
    "id": "zt-4z5igu_Ha"
   },
   "outputs": [],
   "source": [
    "ks_df = ks_df_original   ## Making a new df to clean"
   ]
  },
  {
   "cell_type": "code",
   "execution_count": null,
   "metadata": {
    "colab": {
     "base_uri": "https://localhost:8080/"
    },
    "id": "PWNZbfhARahp",
    "outputId": "11aad728-6db9-4dc6-f268-401c84684a7c"
   },
   "outputs": [
    {
     "name": "stdout",
     "output_type": "stream",
     "text": [
      "<class 'pandas.core.frame.DataFrame'>\n",
      "Int64Index: 374860 entries, 0 to 378660\n",
      "Data columns (total 15 columns):\n",
      " #   Column            Non-Null Count   Dtype  \n",
      "---  ------            --------------   -----  \n",
      " 0   ID                374860 non-null  int64  \n",
      " 1   name              374860 non-null  object \n",
      " 2   category          374860 non-null  object \n",
      " 3   main_category     374860 non-null  object \n",
      " 4   currency          374860 non-null  object \n",
      " 5   deadline          374860 non-null  object \n",
      " 6   goal              374860 non-null  float64\n",
      " 7   launched          374860 non-null  object \n",
      " 8   pledged           374860 non-null  float64\n",
      " 9   state             374860 non-null  object \n",
      " 10  backers           374860 non-null  int64  \n",
      " 11  country           374860 non-null  object \n",
      " 12  usd pledged       374860 non-null  float64\n",
      " 13  usd_pledged_real  374860 non-null  float64\n",
      " 14  usd_goal_real     374860 non-null  float64\n",
      "dtypes: float64(5), int64(2), object(8)\n",
      "memory usage: 45.8+ MB\n"
     ]
    }
   ],
   "source": [
    "ks_df.dropna(inplace=True)                   ## Getting rid of all the rows where we don't have proper info\n",
    "ks_df.info()"
   ]
  },
  {
   "cell_type": "code",
   "execution_count": null,
   "metadata": {
    "colab": {
     "base_uri": "https://localhost:8080/",
     "height": 459
    },
    "id": "mvaJfdhTxPWV",
    "outputId": "8c5ed4c8-7365-4a64-c30a-2e80796d03ba"
   },
   "outputs": [
    {
     "data": {
      "text/html": [
       "<div>\n",
       "<style scoped>\n",
       "    .dataframe tbody tr th:only-of-type {\n",
       "        vertical-align: middle;\n",
       "    }\n",
       "\n",
       "    .dataframe tbody tr th {\n",
       "        vertical-align: top;\n",
       "    }\n",
       "\n",
       "    .dataframe thead th {\n",
       "        text-align: right;\n",
       "    }\n",
       "</style>\n",
       "<table border=\"1\" class=\"dataframe\">\n",
       "  <thead>\n",
       "    <tr style=\"text-align: right;\">\n",
       "      <th></th>\n",
       "      <th>ID</th>\n",
       "      <th>name</th>\n",
       "      <th>category</th>\n",
       "      <th>main_category</th>\n",
       "      <th>currency</th>\n",
       "      <th>deadline</th>\n",
       "      <th>goal</th>\n",
       "      <th>launched</th>\n",
       "      <th>state</th>\n",
       "      <th>backers</th>\n",
       "      <th>country</th>\n",
       "      <th>usd pledged</th>\n",
       "      <th>usd_pledged_real</th>\n",
       "      <th>usd_goal_real</th>\n",
       "    </tr>\n",
       "  </thead>\n",
       "  <tbody>\n",
       "    <tr>\n",
       "      <th>0</th>\n",
       "      <td>1000002330</td>\n",
       "      <td>The Songs of Adelaide &amp; Abullah</td>\n",
       "      <td>Poetry</td>\n",
       "      <td>Publishing</td>\n",
       "      <td>GBP</td>\n",
       "      <td>2015-10-09</td>\n",
       "      <td>1000.0</td>\n",
       "      <td>2015-08-11 12:12:28</td>\n",
       "      <td>failed</td>\n",
       "      <td>0</td>\n",
       "      <td>GB</td>\n",
       "      <td>0.0</td>\n",
       "      <td>0.0</td>\n",
       "      <td>1533.95</td>\n",
       "    </tr>\n",
       "    <tr>\n",
       "      <th>1</th>\n",
       "      <td>1000003930</td>\n",
       "      <td>Greeting From Earth: ZGAC Arts Capsule For ET</td>\n",
       "      <td>Narrative Film</td>\n",
       "      <td>Film &amp; Video</td>\n",
       "      <td>USD</td>\n",
       "      <td>2017-11-01</td>\n",
       "      <td>30000.0</td>\n",
       "      <td>2017-09-02 04:43:57</td>\n",
       "      <td>failed</td>\n",
       "      <td>15</td>\n",
       "      <td>US</td>\n",
       "      <td>100.0</td>\n",
       "      <td>2421.0</td>\n",
       "      <td>30000.00</td>\n",
       "    </tr>\n",
       "    <tr>\n",
       "      <th>2</th>\n",
       "      <td>1000004038</td>\n",
       "      <td>Where is Hank?</td>\n",
       "      <td>Narrative Film</td>\n",
       "      <td>Film &amp; Video</td>\n",
       "      <td>USD</td>\n",
       "      <td>2013-02-26</td>\n",
       "      <td>45000.0</td>\n",
       "      <td>2013-01-12 00:20:50</td>\n",
       "      <td>failed</td>\n",
       "      <td>3</td>\n",
       "      <td>US</td>\n",
       "      <td>220.0</td>\n",
       "      <td>220.0</td>\n",
       "      <td>45000.00</td>\n",
       "    </tr>\n",
       "    <tr>\n",
       "      <th>3</th>\n",
       "      <td>1000007540</td>\n",
       "      <td>ToshiCapital Rekordz Needs Help to Complete Album</td>\n",
       "      <td>Music</td>\n",
       "      <td>Music</td>\n",
       "      <td>USD</td>\n",
       "      <td>2012-04-16</td>\n",
       "      <td>5000.0</td>\n",
       "      <td>2012-03-17 03:24:11</td>\n",
       "      <td>failed</td>\n",
       "      <td>1</td>\n",
       "      <td>US</td>\n",
       "      <td>1.0</td>\n",
       "      <td>1.0</td>\n",
       "      <td>5000.00</td>\n",
       "    </tr>\n",
       "    <tr>\n",
       "      <th>4</th>\n",
       "      <td>1000011046</td>\n",
       "      <td>Community Film Project: The Art of Neighborhoo...</td>\n",
       "      <td>Film &amp; Video</td>\n",
       "      <td>Film &amp; Video</td>\n",
       "      <td>USD</td>\n",
       "      <td>2015-08-29</td>\n",
       "      <td>19500.0</td>\n",
       "      <td>2015-07-04 08:35:03</td>\n",
       "      <td>canceled</td>\n",
       "      <td>14</td>\n",
       "      <td>US</td>\n",
       "      <td>1283.0</td>\n",
       "      <td>1283.0</td>\n",
       "      <td>19500.00</td>\n",
       "    </tr>\n",
       "  </tbody>\n",
       "</table>\n",
       "</div>"
      ],
      "text/plain": [
       "           ID  ... usd_goal_real\n",
       "0  1000002330  ...       1533.95\n",
       "1  1000003930  ...      30000.00\n",
       "2  1000004038  ...      45000.00\n",
       "3  1000007540  ...       5000.00\n",
       "4  1000011046  ...      19500.00\n",
       "\n",
       "[5 rows x 14 columns]"
      ]
     },
     "execution_count": 105,
     "metadata": {
      "tags": []
     },
     "output_type": "execute_result"
    }
   ],
   "source": [
    "# The 'pledged' field is in native currency, so to avoid confusion I'm deleting it\n",
    "ks_df.drop('pledged', axis=1, inplace=True)\n",
    "ks_df.head()"
   ]
  },
  {
   "cell_type": "code",
   "execution_count": null,
   "metadata": {
    "colab": {
     "base_uri": "https://localhost:8080/",
     "height": 289
    },
    "id": "irsxRxJSFjL_",
    "outputId": "5f496bca-a962-44e5-9caa-28b86d3261a6"
   },
   "outputs": [
    {
     "data": {
      "text/html": [
       "<div>\n",
       "<style scoped>\n",
       "    .dataframe tbody tr th:only-of-type {\n",
       "        vertical-align: middle;\n",
       "    }\n",
       "\n",
       "    .dataframe tbody tr th {\n",
       "        vertical-align: top;\n",
       "    }\n",
       "\n",
       "    .dataframe thead th {\n",
       "        text-align: right;\n",
       "    }\n",
       "</style>\n",
       "<table border=\"1\" class=\"dataframe\">\n",
       "  <thead>\n",
       "    <tr style=\"text-align: right;\">\n",
       "      <th></th>\n",
       "      <th>ID</th>\n",
       "      <th>name</th>\n",
       "      <th>category</th>\n",
       "      <th>main_category</th>\n",
       "      <th>currency</th>\n",
       "      <th>deadline</th>\n",
       "      <th>launched</th>\n",
       "      <th>state</th>\n",
       "      <th>backers</th>\n",
       "      <th>country</th>\n",
       "      <th>usd_pledged_real</th>\n",
       "      <th>usd_goal_real</th>\n",
       "    </tr>\n",
       "  </thead>\n",
       "  <tbody>\n",
       "    <tr>\n",
       "      <th>0</th>\n",
       "      <td>1000002330</td>\n",
       "      <td>The Songs of Adelaide &amp; Abullah</td>\n",
       "      <td>Poetry</td>\n",
       "      <td>Publishing</td>\n",
       "      <td>GBP</td>\n",
       "      <td>2015-10-09</td>\n",
       "      <td>2015-08-11 12:12:28</td>\n",
       "      <td>failed</td>\n",
       "      <td>0</td>\n",
       "      <td>GB</td>\n",
       "      <td>0.0</td>\n",
       "      <td>1533.95</td>\n",
       "    </tr>\n",
       "    <tr>\n",
       "      <th>1</th>\n",
       "      <td>1000003930</td>\n",
       "      <td>Greeting From Earth: ZGAC Arts Capsule For ET</td>\n",
       "      <td>Narrative Film</td>\n",
       "      <td>Film &amp; Video</td>\n",
       "      <td>USD</td>\n",
       "      <td>2017-11-01</td>\n",
       "      <td>2017-09-02 04:43:57</td>\n",
       "      <td>failed</td>\n",
       "      <td>15</td>\n",
       "      <td>US</td>\n",
       "      <td>2421.0</td>\n",
       "      <td>30000.00</td>\n",
       "    </tr>\n",
       "    <tr>\n",
       "      <th>2</th>\n",
       "      <td>1000004038</td>\n",
       "      <td>Where is Hank?</td>\n",
       "      <td>Narrative Film</td>\n",
       "      <td>Film &amp; Video</td>\n",
       "      <td>USD</td>\n",
       "      <td>2013-02-26</td>\n",
       "      <td>2013-01-12 00:20:50</td>\n",
       "      <td>failed</td>\n",
       "      <td>3</td>\n",
       "      <td>US</td>\n",
       "      <td>220.0</td>\n",
       "      <td>45000.00</td>\n",
       "    </tr>\n",
       "    <tr>\n",
       "      <th>3</th>\n",
       "      <td>1000007540</td>\n",
       "      <td>ToshiCapital Rekordz Needs Help to Complete Album</td>\n",
       "      <td>Music</td>\n",
       "      <td>Music</td>\n",
       "      <td>USD</td>\n",
       "      <td>2012-04-16</td>\n",
       "      <td>2012-03-17 03:24:11</td>\n",
       "      <td>failed</td>\n",
       "      <td>1</td>\n",
       "      <td>US</td>\n",
       "      <td>1.0</td>\n",
       "      <td>5000.00</td>\n",
       "    </tr>\n",
       "    <tr>\n",
       "      <th>4</th>\n",
       "      <td>1000011046</td>\n",
       "      <td>Community Film Project: The Art of Neighborhoo...</td>\n",
       "      <td>Film &amp; Video</td>\n",
       "      <td>Film &amp; Video</td>\n",
       "      <td>USD</td>\n",
       "      <td>2015-08-29</td>\n",
       "      <td>2015-07-04 08:35:03</td>\n",
       "      <td>canceled</td>\n",
       "      <td>14</td>\n",
       "      <td>US</td>\n",
       "      <td>1283.0</td>\n",
       "      <td>19500.00</td>\n",
       "    </tr>\n",
       "  </tbody>\n",
       "</table>\n",
       "</div>"
      ],
      "text/plain": [
       "           ID  ... usd_goal_real\n",
       "0  1000002330  ...       1533.95\n",
       "1  1000003930  ...      30000.00\n",
       "2  1000004038  ...      45000.00\n",
       "3  1000007540  ...       5000.00\n",
       "4  1000011046  ...      19500.00\n",
       "\n",
       "[5 rows x 12 columns]"
      ]
     },
     "execution_count": 106,
     "metadata": {
      "tags": []
     },
     "output_type": "execute_result"
    }
   ],
   "source": [
    "# The 'goal' and 'usd pledged' fields represent both the goal set and contribution made to a project in USD, but not the total amount pledged converted into USD,\n",
    "# so I'm dropping them to avoid confusion\n",
    "ks_df.drop('usd pledged', axis=1, inplace=True)\n",
    "ks_df.drop('goal', axis=1, inplace=True)\n",
    "ks_df.head()"
   ]
  },
  {
   "cell_type": "code",
   "execution_count": null,
   "metadata": {
    "id": "NPCyIlB8xCWt"
   },
   "outputs": [],
   "source": [
    "# For accessibility, I'm redefining usd_pledged_real and usd_goal_real into pledged and goal, respectively, to be more concise\n",
    "ks_df.rename(columns={'usd_pledged_real':'pledged', 'usd_goal_real':'goal'}, inplace=True)"
   ]
  },
  {
   "cell_type": "code",
   "execution_count": null,
   "metadata": {
    "colab": {
     "base_uri": "https://localhost:8080/"
    },
    "id": "Mjq1VU63Dz4z",
    "outputId": "4130744a-fe44-4183-d732-33161133c201"
   },
   "outputs": [
    {
     "data": {
      "text/plain": [
       "array(['failed', 'canceled', 'successful', 'live', 'suspended'],\n",
       "      dtype=object)"
      ]
     },
     "execution_count": 108,
     "metadata": {
      "tags": []
     },
     "output_type": "execute_result"
    }
   ],
   "source": [
    "# Let's see what different states there are in the dataframe\n",
    "ks_df['state'].unique()\n"
   ]
  },
  {
   "cell_type": "code",
   "execution_count": null,
   "metadata": {
    "colab": {
     "base_uri": "https://localhost:8080/"
    },
    "id": "n1XONVKY4KTC",
    "outputId": "ee211a4c-ef56-4a50-e0ce-67a33f6ab5ab"
   },
   "outputs": [
    {
     "data": {
      "text/plain": [
       "array(['failed', 'successful'], dtype=object)"
      ]
     },
     "execution_count": 109,
     "metadata": {
      "tags": []
     },
     "output_type": "execute_result"
    }
   ],
   "source": [
    "# We only want to look completed projects, either having failed or succeeded, so we want to get rid of all projects where state = 'live', 'suspended', or 'canceled'\n",
    "ks_df = ks_df[ks_df['state'] != 'canceled']\n",
    "ks_df = ks_df[ks_df['state'] != 'live']\n",
    "ks_df = ks_df[ks_df['state'] != 'suspended']\n",
    "ks_df['state'].unique()"
   ]
  },
  {
   "cell_type": "code",
   "execution_count": null,
   "metadata": {
    "colab": {
     "base_uri": "https://localhost:8080/"
    },
    "id": "wYVPq2PUA-WD",
    "outputId": "aec61932-5258-47da-acf2-f3e176f502c6"
   },
   "outputs": [
    {
     "data": {
      "text/plain": [
       "array(['successful', 'failed'], dtype=object)"
      ]
     },
     "execution_count": 110,
     "metadata": {
      "tags": []
     },
     "output_type": "execute_result"
    }
   ],
   "source": [
    "# Let's make sure the state field is accurate.\n",
    "successful = ks_df[ks_df['pledged'] >= ks_df['goal']]  # Df with actual successful projects\n",
    "successful['state'].unique()"
   ]
  },
  {
   "cell_type": "code",
   "execution_count": null,
   "metadata": {
    "colab": {
     "base_uri": "https://localhost:8080/",
     "height": 289
    },
    "id": "UWtek-hN5QXs",
    "outputId": "c1603f71-9666-44b0-9c3e-4289fbcc1711"
   },
   "outputs": [
    {
     "data": {
      "text/html": [
       "<div>\n",
       "<style scoped>\n",
       "    .dataframe tbody tr th:only-of-type {\n",
       "        vertical-align: middle;\n",
       "    }\n",
       "\n",
       "    .dataframe tbody tr th {\n",
       "        vertical-align: top;\n",
       "    }\n",
       "\n",
       "    .dataframe thead th {\n",
       "        text-align: right;\n",
       "    }\n",
       "</style>\n",
       "<table border=\"1\" class=\"dataframe\">\n",
       "  <thead>\n",
       "    <tr style=\"text-align: right;\">\n",
       "      <th></th>\n",
       "      <th>ID</th>\n",
       "      <th>name</th>\n",
       "      <th>category</th>\n",
       "      <th>main_category</th>\n",
       "      <th>currency</th>\n",
       "      <th>deadline</th>\n",
       "      <th>launched</th>\n",
       "      <th>state</th>\n",
       "      <th>backers</th>\n",
       "      <th>country</th>\n",
       "      <th>pledged</th>\n",
       "      <th>goal</th>\n",
       "    </tr>\n",
       "  </thead>\n",
       "  <tbody>\n",
       "    <tr>\n",
       "      <th>0</th>\n",
       "      <td>1000002330</td>\n",
       "      <td>The Songs of Adelaide &amp; Abullah</td>\n",
       "      <td>Poetry</td>\n",
       "      <td>Publishing</td>\n",
       "      <td>GBP</td>\n",
       "      <td>2015-10-09</td>\n",
       "      <td>2015-08-11 12:12:28</td>\n",
       "      <td>failed</td>\n",
       "      <td>0</td>\n",
       "      <td>GB</td>\n",
       "      <td>0.0</td>\n",
       "      <td>1533.95</td>\n",
       "    </tr>\n",
       "    <tr>\n",
       "      <th>1</th>\n",
       "      <td>1000003930</td>\n",
       "      <td>Greeting From Earth: ZGAC Arts Capsule For ET</td>\n",
       "      <td>Narrative Film</td>\n",
       "      <td>Film &amp; Video</td>\n",
       "      <td>USD</td>\n",
       "      <td>2017-11-01</td>\n",
       "      <td>2017-09-02 04:43:57</td>\n",
       "      <td>failed</td>\n",
       "      <td>15</td>\n",
       "      <td>US</td>\n",
       "      <td>2421.0</td>\n",
       "      <td>30000.00</td>\n",
       "    </tr>\n",
       "    <tr>\n",
       "      <th>2</th>\n",
       "      <td>1000004038</td>\n",
       "      <td>Where is Hank?</td>\n",
       "      <td>Narrative Film</td>\n",
       "      <td>Film &amp; Video</td>\n",
       "      <td>USD</td>\n",
       "      <td>2013-02-26</td>\n",
       "      <td>2013-01-12 00:20:50</td>\n",
       "      <td>failed</td>\n",
       "      <td>3</td>\n",
       "      <td>US</td>\n",
       "      <td>220.0</td>\n",
       "      <td>45000.00</td>\n",
       "    </tr>\n",
       "    <tr>\n",
       "      <th>3</th>\n",
       "      <td>1000007540</td>\n",
       "      <td>ToshiCapital Rekordz Needs Help to Complete Album</td>\n",
       "      <td>Music</td>\n",
       "      <td>Music</td>\n",
       "      <td>USD</td>\n",
       "      <td>2012-04-16</td>\n",
       "      <td>2012-03-17 03:24:11</td>\n",
       "      <td>failed</td>\n",
       "      <td>1</td>\n",
       "      <td>US</td>\n",
       "      <td>1.0</td>\n",
       "      <td>5000.00</td>\n",
       "    </tr>\n",
       "    <tr>\n",
       "      <th>5</th>\n",
       "      <td>1000014025</td>\n",
       "      <td>Monarch Espresso Bar</td>\n",
       "      <td>Restaurants</td>\n",
       "      <td>Food</td>\n",
       "      <td>USD</td>\n",
       "      <td>2016-04-01</td>\n",
       "      <td>2016-02-26 13:38:27</td>\n",
       "      <td>successful</td>\n",
       "      <td>224</td>\n",
       "      <td>US</td>\n",
       "      <td>52375.0</td>\n",
       "      <td>50000.00</td>\n",
       "    </tr>\n",
       "  </tbody>\n",
       "</table>\n",
       "</div>"
      ],
      "text/plain": [
       "           ID  ...      goal\n",
       "0  1000002330  ...   1533.95\n",
       "1  1000003930  ...  30000.00\n",
       "2  1000004038  ...  45000.00\n",
       "3  1000007540  ...   5000.00\n",
       "5  1000014025  ...  50000.00\n",
       "\n",
       "[5 rows x 12 columns]"
      ]
     },
     "execution_count": 111,
     "metadata": {
      "tags": []
     },
     "output_type": "execute_result"
    }
   ],
   "source": [
    "# Because there are still projects labeled as 'failed' in the state field, we know it's not fully accurate, so we not use it as a reference.\n",
    "ks_df.head()"
   ]
  },
  {
   "cell_type": "code",
   "execution_count": null,
   "metadata": {
    "colab": {
     "base_uri": "https://localhost:8080/",
     "height": 529
    },
    "id": "E5uhp7Esj3-p",
    "outputId": "ac33a755-0e5e-4516-8be0-2b05eabb382a"
   },
   "outputs": [
    {
     "data": {
      "text/html": [
       "<div>\n",
       "<style scoped>\n",
       "    .dataframe tbody tr th:only-of-type {\n",
       "        vertical-align: middle;\n",
       "    }\n",
       "\n",
       "    .dataframe tbody tr th {\n",
       "        vertical-align: top;\n",
       "    }\n",
       "\n",
       "    .dataframe thead th {\n",
       "        text-align: right;\n",
       "    }\n",
       "</style>\n",
       "<table border=\"1\" class=\"dataframe\">\n",
       "  <thead>\n",
       "    <tr style=\"text-align: right;\">\n",
       "      <th></th>\n",
       "      <th>ID</th>\n",
       "      <th>name</th>\n",
       "      <th>category</th>\n",
       "      <th>main_category</th>\n",
       "      <th>currency</th>\n",
       "      <th>deadline</th>\n",
       "      <th>launched</th>\n",
       "      <th>state</th>\n",
       "      <th>backers</th>\n",
       "      <th>country</th>\n",
       "      <th>pledged</th>\n",
       "      <th>goal</th>\n",
       "      <th>day_length</th>\n",
       "    </tr>\n",
       "  </thead>\n",
       "  <tbody>\n",
       "    <tr>\n",
       "      <th>0</th>\n",
       "      <td>1000002330</td>\n",
       "      <td>The Songs of Adelaide &amp; Abullah</td>\n",
       "      <td>Poetry</td>\n",
       "      <td>Publishing</td>\n",
       "      <td>GBP</td>\n",
       "      <td>2015-10-09</td>\n",
       "      <td>2015-08-11</td>\n",
       "      <td>failed</td>\n",
       "      <td>0</td>\n",
       "      <td>GB</td>\n",
       "      <td>0.0</td>\n",
       "      <td>1533.95</td>\n",
       "      <td>59 days</td>\n",
       "    </tr>\n",
       "    <tr>\n",
       "      <th>1</th>\n",
       "      <td>1000003930</td>\n",
       "      <td>Greeting From Earth: ZGAC Arts Capsule For ET</td>\n",
       "      <td>Narrative Film</td>\n",
       "      <td>Film &amp; Video</td>\n",
       "      <td>USD</td>\n",
       "      <td>2017-11-01</td>\n",
       "      <td>2017-09-02</td>\n",
       "      <td>failed</td>\n",
       "      <td>15</td>\n",
       "      <td>US</td>\n",
       "      <td>2421.0</td>\n",
       "      <td>30000.00</td>\n",
       "      <td>60 days</td>\n",
       "    </tr>\n",
       "    <tr>\n",
       "      <th>2</th>\n",
       "      <td>1000004038</td>\n",
       "      <td>Where is Hank?</td>\n",
       "      <td>Narrative Film</td>\n",
       "      <td>Film &amp; Video</td>\n",
       "      <td>USD</td>\n",
       "      <td>2013-02-26</td>\n",
       "      <td>2013-01-12</td>\n",
       "      <td>failed</td>\n",
       "      <td>3</td>\n",
       "      <td>US</td>\n",
       "      <td>220.0</td>\n",
       "      <td>45000.00</td>\n",
       "      <td>45 days</td>\n",
       "    </tr>\n",
       "    <tr>\n",
       "      <th>3</th>\n",
       "      <td>1000007540</td>\n",
       "      <td>ToshiCapital Rekordz Needs Help to Complete Album</td>\n",
       "      <td>Music</td>\n",
       "      <td>Music</td>\n",
       "      <td>USD</td>\n",
       "      <td>2012-04-16</td>\n",
       "      <td>2012-03-17</td>\n",
       "      <td>failed</td>\n",
       "      <td>1</td>\n",
       "      <td>US</td>\n",
       "      <td>1.0</td>\n",
       "      <td>5000.00</td>\n",
       "      <td>30 days</td>\n",
       "    </tr>\n",
       "    <tr>\n",
       "      <th>5</th>\n",
       "      <td>1000014025</td>\n",
       "      <td>Monarch Espresso Bar</td>\n",
       "      <td>Restaurants</td>\n",
       "      <td>Food</td>\n",
       "      <td>USD</td>\n",
       "      <td>2016-04-01</td>\n",
       "      <td>2016-02-26</td>\n",
       "      <td>successful</td>\n",
       "      <td>224</td>\n",
       "      <td>US</td>\n",
       "      <td>52375.0</td>\n",
       "      <td>50000.00</td>\n",
       "      <td>35 days</td>\n",
       "    </tr>\n",
       "    <tr>\n",
       "      <th>6</th>\n",
       "      <td>1000023410</td>\n",
       "      <td>Support Solar Roasted Coffee &amp; Green Energy!  ...</td>\n",
       "      <td>Food</td>\n",
       "      <td>Food</td>\n",
       "      <td>USD</td>\n",
       "      <td>2014-12-21</td>\n",
       "      <td>2014-12-01</td>\n",
       "      <td>successful</td>\n",
       "      <td>16</td>\n",
       "      <td>US</td>\n",
       "      <td>1205.0</td>\n",
       "      <td>1000.00</td>\n",
       "      <td>20 days</td>\n",
       "    </tr>\n",
       "    <tr>\n",
       "      <th>7</th>\n",
       "      <td>1000030581</td>\n",
       "      <td>Chaser Strips. Our Strips make Shots their B*tch!</td>\n",
       "      <td>Drinks</td>\n",
       "      <td>Food</td>\n",
       "      <td>USD</td>\n",
       "      <td>2016-03-17</td>\n",
       "      <td>2016-02-01</td>\n",
       "      <td>failed</td>\n",
       "      <td>40</td>\n",
       "      <td>US</td>\n",
       "      <td>453.0</td>\n",
       "      <td>25000.00</td>\n",
       "      <td>45 days</td>\n",
       "    </tr>\n",
       "    <tr>\n",
       "      <th>10</th>\n",
       "      <td>100004721</td>\n",
       "      <td>Of Jesus and Madmen</td>\n",
       "      <td>Nonfiction</td>\n",
       "      <td>Publishing</td>\n",
       "      <td>CAD</td>\n",
       "      <td>2013-10-09</td>\n",
       "      <td>2013-09-09</td>\n",
       "      <td>failed</td>\n",
       "      <td>0</td>\n",
       "      <td>CA</td>\n",
       "      <td>0.0</td>\n",
       "      <td>2406.39</td>\n",
       "      <td>30 days</td>\n",
       "    </tr>\n",
       "    <tr>\n",
       "      <th>11</th>\n",
       "      <td>100005484</td>\n",
       "      <td>Lisa Lim New CD!</td>\n",
       "      <td>Indie Rock</td>\n",
       "      <td>Music</td>\n",
       "      <td>USD</td>\n",
       "      <td>2013-04-08</td>\n",
       "      <td>2013-03-09</td>\n",
       "      <td>successful</td>\n",
       "      <td>100</td>\n",
       "      <td>US</td>\n",
       "      <td>12700.0</td>\n",
       "      <td>12500.00</td>\n",
       "      <td>30 days</td>\n",
       "    </tr>\n",
       "    <tr>\n",
       "      <th>12</th>\n",
       "      <td>1000055792</td>\n",
       "      <td>The Cottage Market</td>\n",
       "      <td>Crafts</td>\n",
       "      <td>Crafts</td>\n",
       "      <td>USD</td>\n",
       "      <td>2014-10-02</td>\n",
       "      <td>2014-09-02</td>\n",
       "      <td>failed</td>\n",
       "      <td>0</td>\n",
       "      <td>US</td>\n",
       "      <td>0.0</td>\n",
       "      <td>5000.00</td>\n",
       "      <td>30 days</td>\n",
       "    </tr>\n",
       "  </tbody>\n",
       "</table>\n",
       "</div>"
      ],
      "text/plain": [
       "            ID  ... day_length\n",
       "0   1000002330  ...    59 days\n",
       "1   1000003930  ...    60 days\n",
       "2   1000004038  ...    45 days\n",
       "3   1000007540  ...    30 days\n",
       "5   1000014025  ...    35 days\n",
       "6   1000023410  ...    20 days\n",
       "7   1000030581  ...    45 days\n",
       "10   100004721  ...    30 days\n",
       "11   100005484  ...    30 days\n",
       "12  1000055792  ...    30 days\n",
       "\n",
       "[10 rows x 13 columns]"
      ]
     },
     "execution_count": 112,
     "metadata": {
      "tags": []
     },
     "output_type": "execute_result"
    }
   ],
   "source": [
    "## Kickstarter's FAQ recommends having projects be within 30days, as success declines after that\n",
    "## Let's cut down all the projects to 0-30 days\n",
    "ks_df['deadline'] = pd.DatetimeIndex(data=ks_df['deadline'], freq='infer', ambiguous='infer').date          ## Converts the deadline & launched fields into\n",
    "ks_df['launched'] = pd.DatetimeIndex(data=ks_df['launched'], freq='infer', ambiguous='infer').date          ## only dates\n",
    "ks_df['day_length'] = ks_df['deadline'] - ks_df['launched']\n",
    "ks_df.head(10)"
   ]
  },
  {
   "cell_type": "code",
   "execution_count": null,
   "metadata": {
    "colab": {
     "base_uri": "https://localhost:8080/",
     "height": 733
    },
    "id": "-eNc5FkFlKAt",
    "outputId": "14382236-b9fb-46bf-f0aa-141102fd093e"
   },
   "outputs": [
    {
     "data": {
      "text/html": [
       "<div>\n",
       "<style scoped>\n",
       "    .dataframe tbody tr th:only-of-type {\n",
       "        vertical-align: middle;\n",
       "    }\n",
       "\n",
       "    .dataframe tbody tr th {\n",
       "        vertical-align: top;\n",
       "    }\n",
       "\n",
       "    .dataframe thead th {\n",
       "        text-align: right;\n",
       "    }\n",
       "</style>\n",
       "<table border=\"1\" class=\"dataframe\">\n",
       "  <thead>\n",
       "    <tr style=\"text-align: right;\">\n",
       "      <th></th>\n",
       "      <th>ID</th>\n",
       "      <th>name</th>\n",
       "      <th>category</th>\n",
       "      <th>main_category</th>\n",
       "      <th>currency</th>\n",
       "      <th>deadline</th>\n",
       "      <th>launched</th>\n",
       "      <th>state</th>\n",
       "      <th>backers</th>\n",
       "      <th>country</th>\n",
       "      <th>pledged</th>\n",
       "      <th>goal</th>\n",
       "      <th>day_length</th>\n",
       "      <th>test</th>\n",
       "    </tr>\n",
       "  </thead>\n",
       "  <tbody>\n",
       "    <tr>\n",
       "      <th>3</th>\n",
       "      <td>1000007540</td>\n",
       "      <td>ToshiCapital Rekordz Needs Help to Complete Album</td>\n",
       "      <td>Music</td>\n",
       "      <td>Music</td>\n",
       "      <td>USD</td>\n",
       "      <td>2012-04-16</td>\n",
       "      <td>2012-03-17</td>\n",
       "      <td>failed</td>\n",
       "      <td>1</td>\n",
       "      <td>US</td>\n",
       "      <td>1.00</td>\n",
       "      <td>5000.00</td>\n",
       "      <td>30 days</td>\n",
       "      <td>2592000000000000</td>\n",
       "    </tr>\n",
       "    <tr>\n",
       "      <th>6</th>\n",
       "      <td>1000023410</td>\n",
       "      <td>Support Solar Roasted Coffee &amp; Green Energy!  ...</td>\n",
       "      <td>Food</td>\n",
       "      <td>Food</td>\n",
       "      <td>USD</td>\n",
       "      <td>2014-12-21</td>\n",
       "      <td>2014-12-01</td>\n",
       "      <td>successful</td>\n",
       "      <td>16</td>\n",
       "      <td>US</td>\n",
       "      <td>1205.00</td>\n",
       "      <td>1000.00</td>\n",
       "      <td>20 days</td>\n",
       "      <td>1728000000000000</td>\n",
       "    </tr>\n",
       "    <tr>\n",
       "      <th>10</th>\n",
       "      <td>100004721</td>\n",
       "      <td>Of Jesus and Madmen</td>\n",
       "      <td>Nonfiction</td>\n",
       "      <td>Publishing</td>\n",
       "      <td>CAD</td>\n",
       "      <td>2013-10-09</td>\n",
       "      <td>2013-09-09</td>\n",
       "      <td>failed</td>\n",
       "      <td>0</td>\n",
       "      <td>CA</td>\n",
       "      <td>0.00</td>\n",
       "      <td>2406.39</td>\n",
       "      <td>30 days</td>\n",
       "      <td>2592000000000000</td>\n",
       "    </tr>\n",
       "    <tr>\n",
       "      <th>11</th>\n",
       "      <td>100005484</td>\n",
       "      <td>Lisa Lim New CD!</td>\n",
       "      <td>Indie Rock</td>\n",
       "      <td>Music</td>\n",
       "      <td>USD</td>\n",
       "      <td>2013-04-08</td>\n",
       "      <td>2013-03-09</td>\n",
       "      <td>successful</td>\n",
       "      <td>100</td>\n",
       "      <td>US</td>\n",
       "      <td>12700.00</td>\n",
       "      <td>12500.00</td>\n",
       "      <td>30 days</td>\n",
       "      <td>2592000000000000</td>\n",
       "    </tr>\n",
       "    <tr>\n",
       "      <th>12</th>\n",
       "      <td>1000055792</td>\n",
       "      <td>The Cottage Market</td>\n",
       "      <td>Crafts</td>\n",
       "      <td>Crafts</td>\n",
       "      <td>USD</td>\n",
       "      <td>2014-10-02</td>\n",
       "      <td>2014-09-02</td>\n",
       "      <td>failed</td>\n",
       "      <td>0</td>\n",
       "      <td>US</td>\n",
       "      <td>0.00</td>\n",
       "      <td>5000.00</td>\n",
       "      <td>30 days</td>\n",
       "      <td>2592000000000000</td>\n",
       "    </tr>\n",
       "    <tr>\n",
       "      <th>14</th>\n",
       "      <td>1000057089</td>\n",
       "      <td>Tombstone: Old West tabletop game and miniatur...</td>\n",
       "      <td>Tabletop Games</td>\n",
       "      <td>Games</td>\n",
       "      <td>GBP</td>\n",
       "      <td>2017-05-03</td>\n",
       "      <td>2017-04-05</td>\n",
       "      <td>successful</td>\n",
       "      <td>761</td>\n",
       "      <td>GB</td>\n",
       "      <td>121857.33</td>\n",
       "      <td>6469.73</td>\n",
       "      <td>28 days</td>\n",
       "      <td>2419200000000000</td>\n",
       "    </tr>\n",
       "    <tr>\n",
       "      <th>15</th>\n",
       "      <td>1000064368</td>\n",
       "      <td>Survival Rings</td>\n",
       "      <td>Design</td>\n",
       "      <td>Design</td>\n",
       "      <td>USD</td>\n",
       "      <td>2015-02-28</td>\n",
       "      <td>2015-01-29</td>\n",
       "      <td>failed</td>\n",
       "      <td>11</td>\n",
       "      <td>US</td>\n",
       "      <td>664.00</td>\n",
       "      <td>2500.00</td>\n",
       "      <td>30 days</td>\n",
       "      <td>2592000000000000</td>\n",
       "    </tr>\n",
       "    <tr>\n",
       "      <th>16</th>\n",
       "      <td>1000064918</td>\n",
       "      <td>The Beard</td>\n",
       "      <td>Comic Books</td>\n",
       "      <td>Comics</td>\n",
       "      <td>USD</td>\n",
       "      <td>2014-11-08</td>\n",
       "      <td>2014-10-09</td>\n",
       "      <td>failed</td>\n",
       "      <td>16</td>\n",
       "      <td>US</td>\n",
       "      <td>395.00</td>\n",
       "      <td>1500.00</td>\n",
       "      <td>30 days</td>\n",
       "      <td>2592000000000000</td>\n",
       "    </tr>\n",
       "    <tr>\n",
       "      <th>17</th>\n",
       "      <td>1000068480</td>\n",
       "      <td>Notes From London: Above &amp; Below</td>\n",
       "      <td>Art Books</td>\n",
       "      <td>Publishing</td>\n",
       "      <td>USD</td>\n",
       "      <td>2015-05-10</td>\n",
       "      <td>2015-04-10</td>\n",
       "      <td>failed</td>\n",
       "      <td>20</td>\n",
       "      <td>US</td>\n",
       "      <td>789.00</td>\n",
       "      <td>3000.00</td>\n",
       "      <td>30 days</td>\n",
       "      <td>2592000000000000</td>\n",
       "    </tr>\n",
       "    <tr>\n",
       "      <th>18</th>\n",
       "      <td>1000070642</td>\n",
       "      <td>Mike Corey's Darkness &amp; Light Album</td>\n",
       "      <td>Music</td>\n",
       "      <td>Music</td>\n",
       "      <td>USD</td>\n",
       "      <td>2012-08-17</td>\n",
       "      <td>2012-08-02</td>\n",
       "      <td>successful</td>\n",
       "      <td>7</td>\n",
       "      <td>US</td>\n",
       "      <td>250.00</td>\n",
       "      <td>250.00</td>\n",
       "      <td>15 days</td>\n",
       "      <td>1296000000000000</td>\n",
       "    </tr>\n",
       "  </tbody>\n",
       "</table>\n",
       "</div>"
      ],
      "text/plain": [
       "            ID  ...              test\n",
       "3   1000007540  ...  2592000000000000\n",
       "6   1000023410  ...  1728000000000000\n",
       "10   100004721  ...  2592000000000000\n",
       "11   100005484  ...  2592000000000000\n",
       "12  1000055792  ...  2592000000000000\n",
       "14  1000057089  ...  2419200000000000\n",
       "15  1000064368  ...  2592000000000000\n",
       "16  1000064918  ...  2592000000000000\n",
       "17  1000068480  ...  2592000000000000\n",
       "18  1000070642  ...  1296000000000000\n",
       "\n",
       "[10 rows x 14 columns]"
      ]
     },
     "execution_count": 113,
     "metadata": {
      "tags": []
     },
     "output_type": "execute_result"
    }
   ],
   "source": [
    "### Turning day_length into an integer\n",
    "ks_df['test'] = pd.to_numeric(ks_df['day_length'], errors='coerce') ## Was unable to find python language to turn timedelta object into interger so using this workaround\n",
    "ks_df = ks_df[ks_df['test'] <= 2592000000000000]  # This long value is equal to 30days in day_length\n",
    "ks_df.head(10)"
   ]
  },
  {
   "cell_type": "code",
   "execution_count": null,
   "metadata": {
    "colab": {
     "base_uri": "https://localhost:8080/",
     "height": 629
    },
    "id": "ihxc8pGXJzUV",
    "outputId": "ec18d72c-2c98-4442-a527-a94b814aa2c6"
   },
   "outputs": [
    {
     "name": "stdout",
     "output_type": "stream",
     "text": [
      "<class 'pandas.core.frame.DataFrame'>\n",
      "Int64Index: 211281 entries, 3 to 378660\n",
      "Data columns (total 13 columns):\n",
      " #   Column         Non-Null Count   Dtype          \n",
      "---  ------         --------------   -----          \n",
      " 0   ID             211281 non-null  int64          \n",
      " 1   name           211281 non-null  object         \n",
      " 2   category       211281 non-null  object         \n",
      " 3   main_category  211281 non-null  object         \n",
      " 4   currency       211281 non-null  object         \n",
      " 5   deadline       211281 non-null  object         \n",
      " 6   launched       211281 non-null  object         \n",
      " 7   state          211281 non-null  object         \n",
      " 8   backers        211281 non-null  int64          \n",
      " 9   country        211281 non-null  object         \n",
      " 10  pledged        211281 non-null  float64        \n",
      " 11  goal           211281 non-null  float64        \n",
      " 12  day_length     211281 non-null  timedelta64[ns]\n",
      "dtypes: float64(2), int64(2), object(8), timedelta64[ns](1)\n",
      "memory usage: 22.6+ MB\n"
     ]
    },
    {
     "data": {
      "text/html": [
       "<div>\n",
       "<style scoped>\n",
       "    .dataframe tbody tr th:only-of-type {\n",
       "        vertical-align: middle;\n",
       "    }\n",
       "\n",
       "    .dataframe tbody tr th {\n",
       "        vertical-align: top;\n",
       "    }\n",
       "\n",
       "    .dataframe thead th {\n",
       "        text-align: right;\n",
       "    }\n",
       "</style>\n",
       "<table border=\"1\" class=\"dataframe\">\n",
       "  <thead>\n",
       "    <tr style=\"text-align: right;\">\n",
       "      <th></th>\n",
       "      <th>ID</th>\n",
       "      <th>name</th>\n",
       "      <th>category</th>\n",
       "      <th>main_category</th>\n",
       "      <th>currency</th>\n",
       "      <th>deadline</th>\n",
       "      <th>launched</th>\n",
       "      <th>state</th>\n",
       "      <th>backers</th>\n",
       "      <th>country</th>\n",
       "      <th>pledged</th>\n",
       "      <th>goal</th>\n",
       "      <th>day_length</th>\n",
       "    </tr>\n",
       "  </thead>\n",
       "  <tbody>\n",
       "    <tr>\n",
       "      <th>3</th>\n",
       "      <td>1000007540</td>\n",
       "      <td>ToshiCapital Rekordz Needs Help to Complete Album</td>\n",
       "      <td>Music</td>\n",
       "      <td>Music</td>\n",
       "      <td>USD</td>\n",
       "      <td>2012-04-16</td>\n",
       "      <td>2012-03-17</td>\n",
       "      <td>failed</td>\n",
       "      <td>1</td>\n",
       "      <td>US</td>\n",
       "      <td>1.0</td>\n",
       "      <td>5000.00</td>\n",
       "      <td>30 days</td>\n",
       "    </tr>\n",
       "    <tr>\n",
       "      <th>6</th>\n",
       "      <td>1000023410</td>\n",
       "      <td>Support Solar Roasted Coffee &amp; Green Energy!  ...</td>\n",
       "      <td>Food</td>\n",
       "      <td>Food</td>\n",
       "      <td>USD</td>\n",
       "      <td>2014-12-21</td>\n",
       "      <td>2014-12-01</td>\n",
       "      <td>successful</td>\n",
       "      <td>16</td>\n",
       "      <td>US</td>\n",
       "      <td>1205.0</td>\n",
       "      <td>1000.00</td>\n",
       "      <td>20 days</td>\n",
       "    </tr>\n",
       "    <tr>\n",
       "      <th>10</th>\n",
       "      <td>100004721</td>\n",
       "      <td>Of Jesus and Madmen</td>\n",
       "      <td>Nonfiction</td>\n",
       "      <td>Publishing</td>\n",
       "      <td>CAD</td>\n",
       "      <td>2013-10-09</td>\n",
       "      <td>2013-09-09</td>\n",
       "      <td>failed</td>\n",
       "      <td>0</td>\n",
       "      <td>CA</td>\n",
       "      <td>0.0</td>\n",
       "      <td>2406.39</td>\n",
       "      <td>30 days</td>\n",
       "    </tr>\n",
       "    <tr>\n",
       "      <th>11</th>\n",
       "      <td>100005484</td>\n",
       "      <td>Lisa Lim New CD!</td>\n",
       "      <td>Indie Rock</td>\n",
       "      <td>Music</td>\n",
       "      <td>USD</td>\n",
       "      <td>2013-04-08</td>\n",
       "      <td>2013-03-09</td>\n",
       "      <td>successful</td>\n",
       "      <td>100</td>\n",
       "      <td>US</td>\n",
       "      <td>12700.0</td>\n",
       "      <td>12500.00</td>\n",
       "      <td>30 days</td>\n",
       "    </tr>\n",
       "    <tr>\n",
       "      <th>12</th>\n",
       "      <td>1000055792</td>\n",
       "      <td>The Cottage Market</td>\n",
       "      <td>Crafts</td>\n",
       "      <td>Crafts</td>\n",
       "      <td>USD</td>\n",
       "      <td>2014-10-02</td>\n",
       "      <td>2014-09-02</td>\n",
       "      <td>failed</td>\n",
       "      <td>0</td>\n",
       "      <td>US</td>\n",
       "      <td>0.0</td>\n",
       "      <td>5000.00</td>\n",
       "      <td>30 days</td>\n",
       "    </tr>\n",
       "  </tbody>\n",
       "</table>\n",
       "</div>"
      ],
      "text/plain": [
       "            ID  ... day_length\n",
       "3   1000007540  ...    30 days\n",
       "6   1000023410  ...    20 days\n",
       "10   100004721  ...    30 days\n",
       "11   100005484  ...    30 days\n",
       "12  1000055792  ...    30 days\n",
       "\n",
       "[5 rows x 13 columns]"
      ]
     },
     "execution_count": 114,
     "metadata": {
      "tags": []
     },
     "output_type": "execute_result"
    }
   ],
   "source": [
    "ks_df.drop('test', axis=1, inplace=True) # Dropping test field to keep eliminate unneeded and confusing field of dataframe\n",
    "ks_df.info()\n",
    "ks_df.head()"
   ]
  },
  {
   "cell_type": "code",
   "execution_count": null,
   "metadata": {
    "colab": {
     "base_uri": "https://localhost:8080/",
     "height": 641
    },
    "id": "CMnVL5DoUjDZ",
    "outputId": "c7407f10-5a32-4ab5-9a58-6b79e7b6cf77"
   },
   "outputs": [
    {
     "name": "stdout",
     "output_type": "stream",
     "text": [
      "(array([  192.,  2819., 10384., 23977., 27642., 40350., 43604., 32629.,\n",
      "       29684.]), array([2009, 2010, 2011, 2012, 2013, 2014, 2015, 2016, 2017, 2018]), <a list of 9 Patch objects>)\n"
     ]
    },
    {
     "data": {
      "text/html": [
       "<div>\n",
       "<style scoped>\n",
       "    .dataframe tbody tr th:only-of-type {\n",
       "        vertical-align: middle;\n",
       "    }\n",
       "\n",
       "    .dataframe tbody tr th {\n",
       "        vertical-align: top;\n",
       "    }\n",
       "\n",
       "    .dataframe thead th {\n",
       "        text-align: right;\n",
       "    }\n",
       "</style>\n",
       "<table border=\"1\" class=\"dataframe\">\n",
       "  <thead>\n",
       "    <tr style=\"text-align: right;\">\n",
       "      <th></th>\n",
       "      <th>ID</th>\n",
       "      <th>name</th>\n",
       "      <th>category</th>\n",
       "      <th>main_category</th>\n",
       "      <th>currency</th>\n",
       "      <th>deadline</th>\n",
       "      <th>launched</th>\n",
       "      <th>state</th>\n",
       "      <th>backers</th>\n",
       "      <th>country</th>\n",
       "      <th>pledged</th>\n",
       "      <th>goal</th>\n",
       "      <th>day_length</th>\n",
       "    </tr>\n",
       "    <tr>\n",
       "      <th>year</th>\n",
       "      <th></th>\n",
       "      <th></th>\n",
       "      <th></th>\n",
       "      <th></th>\n",
       "      <th></th>\n",
       "      <th></th>\n",
       "      <th></th>\n",
       "      <th></th>\n",
       "      <th></th>\n",
       "      <th></th>\n",
       "      <th></th>\n",
       "      <th></th>\n",
       "      <th></th>\n",
       "    </tr>\n",
       "  </thead>\n",
       "  <tbody>\n",
       "    <tr>\n",
       "      <th>2009</th>\n",
       "      <td>192</td>\n",
       "      <td>192</td>\n",
       "      <td>192</td>\n",
       "      <td>192</td>\n",
       "      <td>192</td>\n",
       "      <td>192</td>\n",
       "      <td>192</td>\n",
       "      <td>192</td>\n",
       "      <td>192</td>\n",
       "      <td>192</td>\n",
       "      <td>192</td>\n",
       "      <td>192</td>\n",
       "      <td>192</td>\n",
       "    </tr>\n",
       "    <tr>\n",
       "      <th>2010</th>\n",
       "      <td>2819</td>\n",
       "      <td>2819</td>\n",
       "      <td>2819</td>\n",
       "      <td>2819</td>\n",
       "      <td>2819</td>\n",
       "      <td>2819</td>\n",
       "      <td>2819</td>\n",
       "      <td>2819</td>\n",
       "      <td>2819</td>\n",
       "      <td>2819</td>\n",
       "      <td>2819</td>\n",
       "      <td>2819</td>\n",
       "      <td>2819</td>\n",
       "    </tr>\n",
       "    <tr>\n",
       "      <th>2011</th>\n",
       "      <td>10384</td>\n",
       "      <td>10384</td>\n",
       "      <td>10384</td>\n",
       "      <td>10384</td>\n",
       "      <td>10384</td>\n",
       "      <td>10384</td>\n",
       "      <td>10384</td>\n",
       "      <td>10384</td>\n",
       "      <td>10384</td>\n",
       "      <td>10384</td>\n",
       "      <td>10384</td>\n",
       "      <td>10384</td>\n",
       "      <td>10384</td>\n",
       "    </tr>\n",
       "    <tr>\n",
       "      <th>2012</th>\n",
       "      <td>23977</td>\n",
       "      <td>23977</td>\n",
       "      <td>23977</td>\n",
       "      <td>23977</td>\n",
       "      <td>23977</td>\n",
       "      <td>23977</td>\n",
       "      <td>23977</td>\n",
       "      <td>23977</td>\n",
       "      <td>23977</td>\n",
       "      <td>23977</td>\n",
       "      <td>23977</td>\n",
       "      <td>23977</td>\n",
       "      <td>23977</td>\n",
       "    </tr>\n",
       "    <tr>\n",
       "      <th>2013</th>\n",
       "      <td>27642</td>\n",
       "      <td>27642</td>\n",
       "      <td>27642</td>\n",
       "      <td>27642</td>\n",
       "      <td>27642</td>\n",
       "      <td>27642</td>\n",
       "      <td>27642</td>\n",
       "      <td>27642</td>\n",
       "      <td>27642</td>\n",
       "      <td>27642</td>\n",
       "      <td>27642</td>\n",
       "      <td>27642</td>\n",
       "      <td>27642</td>\n",
       "    </tr>\n",
       "    <tr>\n",
       "      <th>2014</th>\n",
       "      <td>40350</td>\n",
       "      <td>40350</td>\n",
       "      <td>40350</td>\n",
       "      <td>40350</td>\n",
       "      <td>40350</td>\n",
       "      <td>40350</td>\n",
       "      <td>40350</td>\n",
       "      <td>40350</td>\n",
       "      <td>40350</td>\n",
       "      <td>40350</td>\n",
       "      <td>40350</td>\n",
       "      <td>40350</td>\n",
       "      <td>40350</td>\n",
       "    </tr>\n",
       "    <tr>\n",
       "      <th>2015</th>\n",
       "      <td>43604</td>\n",
       "      <td>43604</td>\n",
       "      <td>43604</td>\n",
       "      <td>43604</td>\n",
       "      <td>43604</td>\n",
       "      <td>43604</td>\n",
       "      <td>43604</td>\n",
       "      <td>43604</td>\n",
       "      <td>43604</td>\n",
       "      <td>43604</td>\n",
       "      <td>43604</td>\n",
       "      <td>43604</td>\n",
       "      <td>43604</td>\n",
       "    </tr>\n",
       "    <tr>\n",
       "      <th>2016</th>\n",
       "      <td>32629</td>\n",
       "      <td>32629</td>\n",
       "      <td>32629</td>\n",
       "      <td>32629</td>\n",
       "      <td>32629</td>\n",
       "      <td>32629</td>\n",
       "      <td>32629</td>\n",
       "      <td>32629</td>\n",
       "      <td>32629</td>\n",
       "      <td>32629</td>\n",
       "      <td>32629</td>\n",
       "      <td>32629</td>\n",
       "      <td>32629</td>\n",
       "    </tr>\n",
       "    <tr>\n",
       "      <th>2017</th>\n",
       "      <td>29684</td>\n",
       "      <td>29684</td>\n",
       "      <td>29684</td>\n",
       "      <td>29684</td>\n",
       "      <td>29684</td>\n",
       "      <td>29684</td>\n",
       "      <td>29684</td>\n",
       "      <td>29684</td>\n",
       "      <td>29684</td>\n",
       "      <td>29684</td>\n",
       "      <td>29684</td>\n",
       "      <td>29684</td>\n",
       "      <td>29684</td>\n",
       "    </tr>\n",
       "  </tbody>\n",
       "</table>\n",
       "</div>"
      ],
      "text/plain": [
       "         ID   name  category  ...  pledged   goal  day_length\n",
       "year                          ...                            \n",
       "2009    192    192       192  ...      192    192         192\n",
       "2010   2819   2819      2819  ...     2819   2819        2819\n",
       "2011  10384  10384     10384  ...    10384  10384       10384\n",
       "2012  23977  23977     23977  ...    23977  23977       23977\n",
       "2013  27642  27642     27642  ...    27642  27642       27642\n",
       "2014  40350  40350     40350  ...    40350  40350       40350\n",
       "2015  43604  43604     43604  ...    43604  43604       43604\n",
       "2016  32629  32629     32629  ...    32629  32629       32629\n",
       "2017  29684  29684     29684  ...    29684  29684       29684\n",
       "\n",
       "[9 rows x 13 columns]"
      ]
     },
     "execution_count": 115,
     "metadata": {
      "tags": []
     },
     "output_type": "execute_result"
    },
    {
     "data": {
      "image/png": "[encoded data removed]",
      "text/plain": [
       "<Figure size 432x288 with 1 Axes>"
      ]
     },
     "metadata": {
      "needs_background": "light",
      "tags": []
     },
     "output_type": "display_data"
    }
   ],
   "source": [
    "#Now time to determine if we should keep all years                                                 \n",
    "ks_df['year'] = pd.DatetimeIndex(data=ks_df['launched'], freq='infer', ambiguous='infer').year\n",
    "print(plt.hist(ks_df['year'], range(2009, 2019))) #Kickstarter was founded in 2009 and the data is only through the year 2017\n",
    "ks_df.groupby('year').count()"
   ]
  },
  {
   "cell_type": "code",
   "execution_count": null,
   "metadata": {
    "colab": {
     "base_uri": "https://localhost:8080/"
    },
    "id": "SXaSg_exUYVS",
    "outputId": "07feb096-6a29-4c03-babb-71f351bd387c"
   },
   "outputs": [
    {
     "name": "stdout",
     "output_type": "stream",
     "text": [
      "<class 'pandas.core.frame.DataFrame'>\n",
      "Int64Index: 29684 entries, 14 to 378654\n",
      "Data columns (total 14 columns):\n",
      " #   Column         Non-Null Count  Dtype          \n",
      "---  ------         --------------  -----          \n",
      " 0   ID             29684 non-null  int64          \n",
      " 1   name           29684 non-null  object         \n",
      " 2   category       29684 non-null  object         \n",
      " 3   main_category  29684 non-null  object         \n",
      " 4   currency       29684 non-null  object         \n",
      " 5   deadline       29684 non-null  object         \n",
      " 6   launched       29684 non-null  object         \n",
      " 7   state          29684 non-null  object         \n",
      " 8   backers        29684 non-null  int64          \n",
      " 9   country        29684 non-null  object         \n",
      " 10  pledged        29684 non-null  float64        \n",
      " 11  goal           29684 non-null  float64        \n",
      " 12  day_length     29684 non-null  timedelta64[ns]\n",
      " 13  year           29684 non-null  int64          \n",
      "dtypes: float64(2), int64(3), object(8), timedelta64[ns](1)\n",
      "memory usage: 3.4+ MB\n"
     ]
    }
   ],
   "source": [
    "# It stands to reason the most recent data would be the most applicable to guage current user behavior, so I'm only going to use projects from 2017.\n",
    "# There are lots of datapoints that are contained there, likely enough to test on once we divide this data into further categories.\n",
    "ks_df = ks_df[ks_df['year'] == 2017]\n",
    "ks_df.info()"
   ]
  },
  {
   "cell_type": "code",
   "execution_count": null,
   "metadata": {
    "colab": {
     "base_uri": "https://localhost:8080/"
    },
    "id": "5b93ulxH9H9Y",
    "outputId": "73f3efb8-65c8-47f2-c170-c8e893845606"
   },
   "outputs": [
    {
     "name": "stdout",
     "output_type": "stream",
     "text": [
      "<class 'pandas.core.frame.DataFrame'>\n",
      "Int64Index: 29683 entries, 14 to 378654\n",
      "Data columns (total 14 columns):\n",
      " #   Column         Non-Null Count  Dtype          \n",
      "---  ------         --------------  -----          \n",
      " 0   ID             29683 non-null  int64          \n",
      " 1   name           29683 non-null  object         \n",
      " 2   category       29683 non-null  object         \n",
      " 3   main_category  29683 non-null  object         \n",
      " 4   currency       29683 non-null  object         \n",
      " 5   deadline       29683 non-null  object         \n",
      " 6   launched       29683 non-null  object         \n",
      " 7   state          29683 non-null  object         \n",
      " 8   backers        29683 non-null  int64          \n",
      " 9   country        29683 non-null  object         \n",
      " 10  pledged        29683 non-null  float64        \n",
      " 11  goal           29683 non-null  float64        \n",
      " 12  day_length     29683 non-null  timedelta64[ns]\n",
      " 13  year           29683 non-null  int64          \n",
      "dtypes: float64(2), int64(3), object(8), timedelta64[ns](1)\n",
      "memory usage: 3.4+ MB\n"
     ]
    }
   ],
   "source": [
    "# Finally we want goal to be greater than or equal to 0, and pledged to be greater than or equal to 1\n",
    "ks_df = ks_df[ks_df['goal'] >= 1]\n",
    "ks_df = ks_df[ks_df['pledged'] >= 0]\n",
    "ks_df.info() "
   ]
  },
  {
   "cell_type": "code",
   "execution_count": null,
   "metadata": {
    "id": "5JAlVohJpNYW"
   },
   "outputs": [],
   "source": [
    "# Didn't changed anything but good to verify!"
   ]
  },
  {
   "cell_type": "code",
   "execution_count": null,
   "metadata": {
    "colab": {
     "base_uri": "https://localhost:8080/",
     "height": 496
    },
    "id": "P0M3tQ8a7DBP",
    "outputId": "8e0b5234-6581-4096-850b-7b71fcdb2f5c"
   },
   "outputs": [
    {
     "data": {
      "text/html": [
       "<div>\n",
       "<style scoped>\n",
       "    .dataframe tbody tr th:only-of-type {\n",
       "        vertical-align: middle;\n",
       "    }\n",
       "\n",
       "    .dataframe tbody tr th {\n",
       "        vertical-align: top;\n",
       "    }\n",
       "\n",
       "    .dataframe thead th {\n",
       "        text-align: right;\n",
       "    }\n",
       "</style>\n",
       "<table border=\"1\" class=\"dataframe\">\n",
       "  <thead>\n",
       "    <tr style=\"text-align: right;\">\n",
       "      <th></th>\n",
       "      <th>ID</th>\n",
       "      <th>name</th>\n",
       "      <th>category</th>\n",
       "      <th>main_category</th>\n",
       "      <th>currency</th>\n",
       "      <th>deadline</th>\n",
       "      <th>launched</th>\n",
       "      <th>state</th>\n",
       "      <th>backers</th>\n",
       "      <th>country</th>\n",
       "      <th>pledged</th>\n",
       "      <th>goal</th>\n",
       "      <th>day_length</th>\n",
       "      <th>year</th>\n",
       "      <th>key_metric</th>\n",
       "    </tr>\n",
       "  </thead>\n",
       "  <tbody>\n",
       "    <tr>\n",
       "      <th>14</th>\n",
       "      <td>1000057089</td>\n",
       "      <td>Tombstone: Old West tabletop game and miniatur...</td>\n",
       "      <td>Tabletop Games</td>\n",
       "      <td>Games</td>\n",
       "      <td>GBP</td>\n",
       "      <td>2017-05-03</td>\n",
       "      <td>2017-04-05</td>\n",
       "      <td>successful</td>\n",
       "      <td>761</td>\n",
       "      <td>GB</td>\n",
       "      <td>121857.33</td>\n",
       "      <td>6469.73</td>\n",
       "      <td>28 days</td>\n",
       "      <td>2017</td>\n",
       "      <td>18.834995</td>\n",
       "    </tr>\n",
       "    <tr>\n",
       "      <th>21</th>\n",
       "      <td>1000081649</td>\n",
       "      <td>MikeyJ clothing brand fundraiser</td>\n",
       "      <td>Childrenswear</td>\n",
       "      <td>Fashion</td>\n",
       "      <td>AUD</td>\n",
       "      <td>2017-09-07</td>\n",
       "      <td>2017-08-08</td>\n",
       "      <td>failed</td>\n",
       "      <td>1</td>\n",
       "      <td>AU</td>\n",
       "      <td>0.81</td>\n",
       "      <td>2026.10</td>\n",
       "      <td>30 days</td>\n",
       "      <td>2017</td>\n",
       "      <td>0.000400</td>\n",
       "    </tr>\n",
       "    <tr>\n",
       "      <th>29</th>\n",
       "      <td>100011318</td>\n",
       "      <td>My Moon - Animated Short Film</td>\n",
       "      <td>Animation</td>\n",
       "      <td>Film &amp; Video</td>\n",
       "      <td>USD</td>\n",
       "      <td>2017-05-03</td>\n",
       "      <td>2017-04-03</td>\n",
       "      <td>successful</td>\n",
       "      <td>840</td>\n",
       "      <td>US</td>\n",
       "      <td>57577.31</td>\n",
       "      <td>50000.00</td>\n",
       "      <td>30 days</td>\n",
       "      <td>2017</td>\n",
       "      <td>1.151546</td>\n",
       "    </tr>\n",
       "    <tr>\n",
       "      <th>43</th>\n",
       "      <td>1000170964</td>\n",
       "      <td>Penny Bingo Playing Card Game fun for the whol...</td>\n",
       "      <td>Tabletop Games</td>\n",
       "      <td>Games</td>\n",
       "      <td>USD</td>\n",
       "      <td>2017-03-27</td>\n",
       "      <td>2017-03-02</td>\n",
       "      <td>failed</td>\n",
       "      <td>25</td>\n",
       "      <td>US</td>\n",
       "      <td>856.00</td>\n",
       "      <td>1500.00</td>\n",
       "      <td>25 days</td>\n",
       "      <td>2017</td>\n",
       "      <td>0.570667</td>\n",
       "    </tr>\n",
       "    <tr>\n",
       "      <th>67</th>\n",
       "      <td>1000256230</td>\n",
       "      <td>Shreddit - Privacy on Reddit</td>\n",
       "      <td>Software</td>\n",
       "      <td>Technology</td>\n",
       "      <td>GBP</td>\n",
       "      <td>2017-07-02</td>\n",
       "      <td>2017-06-02</td>\n",
       "      <td>failed</td>\n",
       "      <td>0</td>\n",
       "      <td>GB</td>\n",
       "      <td>0.00</td>\n",
       "      <td>2579.35</td>\n",
       "      <td>30 days</td>\n",
       "      <td>2017</td>\n",
       "      <td>0.000000</td>\n",
       "    </tr>\n",
       "  </tbody>\n",
       "</table>\n",
       "</div>"
      ],
      "text/plain": [
       "            ID  ... key_metric\n",
       "14  1000057089  ...  18.834995\n",
       "21  1000081649  ...   0.000400\n",
       "29   100011318  ...   1.151546\n",
       "43  1000170964  ...   0.570667\n",
       "67  1000256230  ...   0.000000\n",
       "\n",
       "[5 rows x 15 columns]"
      ]
     },
     "execution_count": 119,
     "metadata": {
      "tags": []
     },
     "output_type": "execute_result"
    }
   ],
   "source": [
    "# Now let's define our key metric\n",
    "ks_df['key_metric'] = (ks_df['pledged'] / ks_df['goal']) # Measuring how much more/less pledged amount is compared to goal\n",
    "ks_df.head()\n",
    "# For key metric values:\n",
    "## key_metric < 1    The pledged didn't meet the goal and the project failed\n",
    "## key_metric = 1    The pledged met the goal exactly and the project was successful\n",
    "## key_metric > 1    The pledged beat the goal and the project exceeded expectations"
   ]
  },
  {
   "cell_type": "code",
   "execution_count": null,
   "metadata": {
    "colab": {
     "base_uri": "https://localhost:8080/"
    },
    "id": "BoywjAYP-60H",
    "outputId": "072619c5-917b-46dc-c0cb-5e43a390b39a"
   },
   "outputs": [
    {
     "name": "stdout",
     "output_type": "stream",
     "text": [
      "Key metric stats for successful projects:\n",
      "count    12881.000000\n",
      "mean         5.579564\n",
      "std        102.863947\n",
      "min          1.000000\n",
      "25%          1.068667\n",
      "50%          1.279983\n",
      "75%          2.277347\n",
      "max       9302.500000\n",
      "Name: key_metric, dtype: float64\n",
      "\n",
      "Key metric stats for failed projects\n",
      "count    16802.000000\n",
      "mean         0.098540\n",
      "std          0.165299\n",
      "min          0.000000\n",
      "25%          0.000364\n",
      "50%          0.016668\n",
      "75%          0.122010\n",
      "max          0.991000\n",
      "Name: key_metric, dtype: float64\n"
     ]
    }
   ],
   "source": [
    "#Let's see some overall stats on the key_metric\n",
    "successful = ks_df[ks_df['key_metric'] >= 1]\n",
    "failed = ks_df[ks_df['key_metric'] < 1]\n",
    "\n",
    "print('Key metric stats for successful projects:')\n",
    "print(successful['key_metric'].describe())\n",
    "print()\n",
    "print('Key metric stats for failed projects')\n",
    "print(failed['key_metric'].describe())"
   ]
  },
  {
   "cell_type": "code",
   "execution_count": null,
   "metadata": {
    "colab": {
     "base_uri": "https://localhost:8080/",
     "height": 333
    },
    "id": "SaclJRgIAPFI",
    "outputId": "c7e4585d-c0d9-4378-8413-fcad08a66918"
   },
   "outputs": [
    {
     "data": {
      "text/plain": [
       "(array([13112.,  1744.,   970.,   540.,   278.,   136.,  2635.,  2982.,\n",
       "         1372.,   786.]),\n",
       " array([0.  , 0.15, 0.3 , 0.45, 0.6 , 0.75, 0.9 , 1.05, 1.2 , 1.35, 1.5 ]),\n",
       " <a list of 10 Patch objects>)"
      ]
     },
     "execution_count": 121,
     "metadata": {
      "tags": []
     },
     "output_type": "execute_result"
    },
    {
     "data": {
      "image/png": "[encoded data removed]",
      "text/plain": [
       "<Figure size 432x288 with 1 Axes>"
      ]
     },
     "metadata": {
      "needs_background": "light",
      "tags": []
     },
     "output_type": "display_data"
    }
   ],
   "source": [
    "# Let's look at the distribution near 1\n",
    "plt.hist(ks_df['key_metric'], range=(0, 1.5))\n"
   ]
  },
  {
   "cell_type": "markdown",
   "metadata": {
    "id": "4YolbjEaMCuw"
   },
   "source": [
    "This looks as expected, with many projects being put up that aren't successful at all, not so many values for partially successful projects, and a jump around\n",
    "1, representing close to or perfectly successful projects\n"
   ]
  },
  {
   "cell_type": "code",
   "execution_count": null,
   "metadata": {
    "colab": {
     "base_uri": "https://localhost:8080/"
    },
    "id": "1s5pw-3ip_j6",
    "outputId": "25e6ae89-87e1-4068-dfba-256156db8945"
   },
   "outputs": [
    {
     "data": {
      "text/plain": [
       "array(['Games', 'Fashion', 'Film & Video', 'Technology', 'Art', 'Music',\n",
       "       'Journalism', 'Design', 'Publishing', 'Comics', 'Crafts', 'Food',\n",
       "       'Dance', 'Theater', 'Photography'], dtype=object)"
      ]
     },
     "execution_count": 122,
     "metadata": {
      "tags": []
     },
     "output_type": "execute_result"
    }
   ],
   "source": [
    "# There are fifteen main categories.  Tests will be conducted within dataframes of only a single category to test as equal projects as possible\n",
    "ks_df['main_category'].unique()"
   ]
  },
  {
   "cell_type": "code",
   "execution_count": null,
   "metadata": {
    "id": "BZZkbZULR32n"
   },
   "outputs": [],
   "source": [
    "#### Now we want to see if having a higher asking goal increases the percent amount over you get back.\n",
    "##### To measure this, I'm going divide datasets by lower goal and higher goal, and then running a Kruskel test on their respective key_metrics\n",
    "##### Kruskel seems to be the most appropriate test as distribution of the key metric doesn't follow a normal distribution for any category"
   ]
  },
  {
   "cell_type": "code",
   "execution_count": null,
   "metadata": {
    "id": "u4mx1b-PHp9h"
   },
   "outputs": [],
   "source": [
    "### Testing between lower goal and higher goal project\n",
    "\n",
    "def sig_test(df):   ## For running a test on a dataframe\n",
    "  median = df['goal'].median()\n",
    "  lower_group = df[df['goal'] < median]\n",
    "  upper_group = df[df['goal'] > median]\n",
    "  iqr = 1.5 * (upper_group['key_metric'].quantile(0.75) - upper_group['key_metric'].quantile(0.25)) #Eliminating outliers\n",
    "  upper_group = upper_group[upper_group['key_metric'] <= (upper_group['key_metric'].quantile(0.75) + iqr)]\n",
    "  lower_group = lower_group[lower_group['key_metric'] >= (lower_group['key_metric'].quantile(0.25) - iqr)]\n",
    "  return stats.kruskal(lower_group['key_metric'], upper_group['key_metric'])\n"
   ]
  },
  {
   "cell_type": "markdown",
   "metadata": {},
   "source": [
    "scipy.stats.kruskal(*args, **kwargs)[source]\n",
    "Compute the Kruskal-Wallis H-test for independent samples.\n",
    "\n",
    "The Kruskal-Wallis H-test tests the null hypothesis that the population median of all of the groups are equal. It is a non-parametric version of ANOVA. The test works on 2 or more independent samples, which may have different sizes. Note that rejecting the null hypothesis does not indicate which of the groups differs. Post hoc comparisons between groups are required to determine which groups are different."
   ]
  },
  {
   "cell_type": "code",
   "execution_count": null,
   "metadata": {
    "colab": {
     "base_uri": "https://localhost:8080/"
    },
    "id": "8gmHh0nOs9HV",
    "outputId": "6d118889-0dfc-4b52-808f-dbd8e03157a7"
   },
   "outputs": [
    {
     "data": {
      "text/plain": [
       "['For category Games: KruskalResult(statistic=439.4856615313702, pvalue=1.400832593434571e-97)',\n",
       " 'For category Fashion: KruskalResult(statistic=169.19465568784025, pvalue=1.1093385547074797e-38)',\n",
       " 'For category Film & Video: KruskalResult(statistic=61.2317791621017, pvalue=5.073594033956713e-15)',\n",
       " 'For category Technology: KruskalResult(statistic=262.275160044925, pvalue=5.477643054262004e-59)',\n",
       " 'For category Art: KruskalResult(statistic=397.54383196629817, pvalue=1.8863211091032133e-88)',\n",
       " 'For category Music: KruskalResult(statistic=40.08831568968806, pvalue=2.427365479602974e-10)',\n",
       " 'For category Journalism: KruskalResult(statistic=56.56827578310781, pvalue=5.4280540616091223e-14)',\n",
       " 'For category Design: KruskalResult(statistic=256.52886519078396, pvalue=9.798506059900671e-58)',\n",
       " 'For category Publishing: KruskalResult(statistic=115.34958297239376, pvalue=6.597837914033077e-27)',\n",
       " 'For category Comics: KruskalResult(statistic=162.8498440094919, pvalue=2.6978946286679313e-37)',\n",
       " 'For category Crafts: KruskalResult(statistic=315.11525960869704, pvalue=1.6785284118974425e-70)',\n",
       " 'For category Food: KruskalResult(statistic=284.0269825424998, pvalue=9.955631579799351e-64)',\n",
       " 'For category Dance: KruskalResult(statistic=11.833656469346415, pvalue=0.0005816965455431101)',\n",
       " 'For category Theater: KruskalResult(statistic=12.686956953416072, pvalue=0.0003682150210933639)',\n",
       " 'For category Photography: KruskalResult(statistic=9.746664471772926, pvalue=0.0017964839147223772)']"
      ]
     },
     "execution_count": 125,
     "metadata": {
      "tags": []
     },
     "output_type": "execute_result"
    }
   ],
   "source": [
    "categories = ks_df['main_category'].unique()\n",
    "\n",
    "def all_results(df):\n",
    "  all_stats = []\n",
    "  for i in categories:    ## Testing on all categories\n",
    "   test_cat = ks_df[ks_df['main_category'] == i]\n",
    "   j = sig_test(test_cat)\n",
    "   all_stats.append(\"For category \" + str(i) + ': ' + str(j))\n",
    "  return all_stats  # Returns all stats from tests on individual categories\n",
    "\n",
    "all_results(ks_df)"
   ]
  },
  {
   "cell_type": "code",
   "execution_count": null,
   "metadata": {
    "id": "dflYFVwvtv0u"
   },
   "outputs": [],
   "source": [
    "### P-values of all categories are rejecting the H0, indicating that there is statistically significance in the key_metric for lower goal and higher goal projects\n",
    "### It seems a difference in initial goal amounts leads to a difference in pledge amount"
   ]
  },
  {
   "cell_type": "code",
   "execution_count": null,
   "metadata": {
    "id": "qEEA5eOYuIsB"
   },
   "outputs": [],
   "source": [
    "### To be a little more nuanced, I'm now going to break down goal amount into smaller quantile groups (by 0.1) to see if there's a difference \n",
    "### on a smaller scale."
   ]
  },
  {
   "cell_type": "code",
   "execution_count": null,
   "metadata": {
    "id": "ZmnibP2aTO5U"
   },
   "outputs": [],
   "source": [
    "quantiles = [0.1, 0.2, 0.3, 0.4, 0.5, 0.6, 0.7, 0.8, 0.9]\n",
    "\n",
    "def sig_test_2(df):\n",
    "  tests = []\n",
    "  for i in quantiles:\n",
    "    lower_group = df[df['goal'] > df['goal'].quantile(i - 0.1)]      \n",
    "    lower_group = df[df['goal'] < df['goal'].quantile(i)]\n",
    "\n",
    "    upper_group = df[df['goal'] > df['goal'].quantile(i)]\n",
    "    upper_group = df[df['goal'] < df['goal'].quantile(i + 0.1)]\n",
    "\n",
    "    j =  \"Test between quantiles \" + str(i - 0.1) + ' and ' + str(i) + ' & ' + str(i) + ' and ' + str(i+0.1) + ': ' + str(stats.kruskal(lower_group['key_metric'], upper_group['key_metric']))\n",
    "    tests.append(j)\n",
    "  return tests"
   ]
  },
  {
   "cell_type": "code",
   "execution_count": null,
   "metadata": {
    "colab": {
     "base_uri": "https://localhost:8080/"
    },
    "id": "exsYcOpmcwyO",
    "outputId": "8df40eca-0148-4321-c129-00f4cfcb7e87"
   },
   "outputs": [
    {
     "name": "stdout",
     "output_type": "stream",
     "text": [
      "What category do you want to test on?\n",
      "Publishing\n"
     ]
    },
    {
     "data": {
      "text/plain": [
       "['Test between quantiles 0.0 and 0.1 & 0.1 and 0.2: KruskalResult(statistic=1.354800670936844, pvalue=0.24444060720066624)',\n",
       " 'Test between quantiles 0.1 and 0.2 & 0.2 and 0.30000000000000004: KruskalResult(statistic=1.4023652694646547, pvalue=0.23632794860089526)',\n",
       " 'Test between quantiles 0.19999999999999998 and 0.3 & 0.3 and 0.4: KruskalResult(statistic=2.177406098444457, pvalue=0.1400503277566755)',\n",
       " 'Test between quantiles 0.30000000000000004 and 0.4 & 0.4 and 0.5: KruskalResult(statistic=0.49713837118636217, pvalue=0.48076020288476495)',\n",
       " 'Test between quantiles 0.4 and 0.5 & 0.5 and 0.6: KruskalResult(statistic=0.1074414126406304, pvalue=0.7430760676657397)',\n",
       " 'Test between quantiles 0.5 and 0.6 & 0.6 and 0.7: KruskalResult(statistic=3.296872796395154, pvalue=0.06941191117322408)',\n",
       " 'Test between quantiles 0.6 and 0.7 & 0.7 and 0.7999999999999999: KruskalResult(statistic=0.0001846727140636548, pvalue=0.9891575342100807)',\n",
       " 'Test between quantiles 0.7000000000000001 and 0.8 & 0.8 and 0.9: KruskalResult(statistic=2.0834617272455476, pvalue=0.14890215144688398)',\n",
       " 'Test between quantiles 0.8 and 0.9 & 0.9 and 1.0: KruskalResult(statistic=3.888294263905215, pvalue=0.048623783814327866)']"
      ]
     },
     "execution_count": 129,
     "metadata": {
      "tags": []
     },
     "output_type": "execute_result"
    }
   ],
   "source": [
    "print(\"What category do you want to test on?\")\n",
    "test_category_df = ks_df[ks_df['main_category'] == input()]\n",
    "sig_test_2(test_category_df)"
   ]
  },
  {
   "cell_type": "code",
   "execution_count": null,
   "metadata": {
    "colab": {
     "base_uri": "https://localhost:8080/"
    },
    "id": "-CRvtz4Zj0aG",
    "outputId": "972055bd-0301-4f66-91b5-c302a668a04b"
   },
   "outputs": [
    {
     "data": {
      "text/plain": [
       "[\"For category Games with length 3952: ['Test between quantiles 0.0 and 0.1 & 0.1 and 0.2: KruskalResult(statistic=0.6334803762358122, pvalue=0.42608155565020966)', 'Test between quantiles 0.1 and 0.2 & 0.2 and 0.30000000000000004: KruskalResult(statistic=5.9442306723017015, pvalue=0.014765534484196015)', 'Test between quantiles 0.19999999999999998 and 0.3 & 0.3 and 0.4: KruskalResult(statistic=9.240255445631096, pvalue=0.002367519241816715)', 'Test between quantiles 0.30000000000000004 and 0.4 & 0.4 and 0.5: KruskalResult(statistic=1.222098993440914, pvalue=0.2689491167326763)', 'Test between quantiles 0.4 and 0.5 & 0.5 and 0.6: KruskalResult(statistic=7.398546851963086, pvalue=0.0065276587134362974)', 'Test between quantiles 0.5 and 0.6 & 0.6 and 0.7: KruskalResult(statistic=0.9978971838614419, pvalue=0.3178198633480547)', 'Test between quantiles 0.6 and 0.7 & 0.7 and 0.7999999999999999: KruskalResult(statistic=4.319764881928502, pvalue=0.03767212709470824)', 'Test between quantiles 0.7000000000000001 and 0.8 & 0.8 and 0.9: KruskalResult(statistic=1.9697382927215812, pvalue=0.1604756434544708)', 'Test between quantiles 0.8 and 0.9 & 0.9 and 1.0: KruskalResult(statistic=6.118454376703998, pvalue=0.013377772165348556)']: For category Games\",\n",
       " \"For category Fashion with length 2482: ['Test between quantiles 0.0 and 0.1 & 0.1 and 0.2: KruskalResult(statistic=1.8184311649114648, pvalue=0.1775001330173872)', 'Test between quantiles 0.1 and 0.2 & 0.2 and 0.30000000000000004: KruskalResult(statistic=5.095140568948993, pvalue=0.023992969472692034)', 'Test between quantiles 0.19999999999999998 and 0.3 & 0.3 and 0.4: KruskalResult(statistic=6.758845862546345, pvalue=0.009328407511695029)', 'Test between quantiles 0.30000000000000004 and 0.4 & 0.4 and 0.5: KruskalResult(statistic=5.940068208995257, pvalue=0.0148004458993919)', 'Test between quantiles 0.4 and 0.5 & 0.5 and 0.6: KruskalResult(statistic=3.255866179223892, pvalue=0.07116832705474302)', 'Test between quantiles 0.5 and 0.6 & 0.6 and 0.7: KruskalResult(statistic=1.5640880542340978, pvalue=0.2110676530107054)', 'Test between quantiles 0.6 and 0.7 & 0.7 and 0.7999999999999999: KruskalResult(statistic=0.5158617131474672, pvalue=0.4726123157928256)', 'Test between quantiles 0.7000000000000001 and 0.8 & 0.8 and 0.9: KruskalResult(statistic=0.5853535653413133, pvalue=0.44422151183305203)', 'Test between quantiles 0.8 and 0.9 & 0.9 and 1.0: KruskalResult(statistic=4.727829975976391, pvalue=0.0296783069329468)']: For category Fashion\",\n",
       " \"For category Film & Video with length 3181: ['Test between quantiles 0.0 and 0.1 & 0.1 and 0.2: KruskalResult(statistic=0.7619868936668234, pvalue=0.38270744376588095)', 'Test between quantiles 0.1 and 0.2 & 0.2 and 0.30000000000000004: KruskalResult(statistic=0.5182191226062707, pvalue=0.4716023437668555)', 'Test between quantiles 0.19999999999999998 and 0.3 & 0.3 and 0.4: KruskalResult(statistic=1.1325900033981702, pvalue=0.28722356005780947)', 'Test between quantiles 0.30000000000000004 and 0.4 & 0.4 and 0.5: KruskalResult(statistic=0.5641972826647401, pvalue=0.4525740197305822)', 'Test between quantiles 0.4 and 0.5 & 0.5 and 0.6: KruskalResult(statistic=1.3955558948498412, pvalue=0.23746907815912888)', 'Test between quantiles 0.5 and 0.6 & 0.6 and 0.7: KruskalResult(statistic=0.1615552059048507, pvalue=0.6877286943770876)', 'Test between quantiles 0.6 and 0.7 & 0.7 and 0.7999999999999999: KruskalResult(statistic=0.12453678627004759, pvalue=0.724165135599032)', 'Test between quantiles 0.7000000000000001 and 0.8 & 0.8 and 0.9: KruskalResult(statistic=0.855401791690932, pvalue=0.3550286749194492)', 'Test between quantiles 0.8 and 0.9 & 0.9 and 1.0: KruskalResult(statistic=4.913432745649112, pvalue=0.026648629703966743)']: For category Film & Video\",\n",
       " \"For category Technology with length 2831: ['Test between quantiles 0.0 and 0.1 & 0.1 and 0.2: KruskalResult(statistic=4.573375777598599, pvalue=0.03247251583666924)', 'Test between quantiles 0.1 and 0.2 & 0.2 and 0.30000000000000004: KruskalResult(statistic=4.5793139147575985, pvalue=0.032360169086502494)', 'Test between quantiles 0.19999999999999998 and 0.3 & 0.3 and 0.4: KruskalResult(statistic=1.6810980077389557, pvalue=0.19477861699355875)', 'Test between quantiles 0.30000000000000004 and 0.4 & 0.4 and 0.5: KruskalResult(statistic=1.810827954865168, pvalue=0.17840894082505998)', 'Test between quantiles 0.4 and 0.5 & 0.5 and 0.6: KruskalResult(statistic=0.1490534915098205, pvalue=0.6994415215024758)', 'Test between quantiles 0.5 and 0.6 & 0.6 and 0.7: KruskalResult(statistic=1.1572588170769582, pvalue=0.28203476390299487)', 'Test between quantiles 0.6 and 0.7 & 0.7 and 0.7999999999999999: KruskalResult(statistic=0.24956662507220323, pvalue=0.6173803954662083)', 'Test between quantiles 0.7000000000000001 and 0.8 & 0.8 and 0.9: KruskalResult(statistic=1.003243757426499, pvalue=0.3165268844709115)', 'Test between quantiles 0.8 and 0.9 & 0.9 and 1.0: KruskalResult(statistic=4.424699411369786, pvalue=0.035422351775573915)']: For category Technology\",\n",
       " \"For category Art with length 2648: ['Test between quantiles 0.0 and 0.1 & 0.1 and 0.2: KruskalResult(statistic=7.718280947252934, pvalue=0.005466442283086724)', 'Test between quantiles 0.1 and 0.2 & 0.2 and 0.30000000000000004: KruskalResult(statistic=5.829025180991939, pvalue=0.015763856338947647)', 'Test between quantiles 0.19999999999999998 and 0.3 & 0.3 and 0.4: KruskalResult(statistic=1.9295960398066656, pvalue=0.16480264694246619)', 'Test between quantiles 0.30000000000000004 and 0.4 & 0.4 and 0.5: KruskalResult(statistic=1.826573170178386, pvalue=0.1765328423433591)', 'Test between quantiles 0.4 and 0.5 & 0.5 and 0.6: KruskalResult(statistic=3.815538871013979, pvalue=0.050779268726362105)', 'Test between quantiles 0.5 and 0.6 & 0.6 and 0.7: KruskalResult(statistic=3.7134942049589386, pvalue=0.05397428811212659)', 'Test between quantiles 0.6 and 0.7 & 0.7 and 0.7999999999999999: KruskalResult(statistic=5.021512646058389, pvalue=0.02503429043343492)', 'Test between quantiles 0.7000000000000001 and 0.8 & 0.8 and 0.9: KruskalResult(statistic=4.228851563130445, pvalue=0.03974232301555947)', 'Test between quantiles 0.8 and 0.9 & 0.9 and 1.0: KruskalResult(statistic=7.653268109925062, pvalue=0.005666956744581355)']: For category Art\",\n",
       " \"For category Music with length 2840: ['Test between quantiles 0.0 and 0.1 & 0.1 and 0.2: KruskalResult(statistic=0.15955900921887697, pvalue=0.6895628510736842)', 'Test between quantiles 0.1 and 0.2 & 0.2 and 0.30000000000000004: KruskalResult(statistic=0.038291472924935836, pvalue=0.8448590183500302)', 'Test between quantiles 0.19999999999999998 and 0.3 & 0.3 and 0.4: KruskalResult(statistic=0.7697153362468777, pvalue=0.3803051297379939)', 'Test between quantiles 0.30000000000000004 and 0.4 & 0.4 and 0.5: KruskalResult(statistic=0.6056407640463303, pvalue=0.4364338765838732)', 'Test between quantiles 0.4 and 0.5 & 0.5 and 0.6: KruskalResult(statistic=0.029959136331998416, pvalue=0.8625829824538702)', 'Test between quantiles 0.5 and 0.6 & 0.6 and 0.7: KruskalResult(statistic=1.355560615673768, pvalue=0.2443083498692611)', 'Test between quantiles 0.6 and 0.7 & 0.7 and 0.7999999999999999: KruskalResult(statistic=0.065932805649558, pvalue=0.7973533646721599)', 'Test between quantiles 0.7000000000000001 and 0.8 & 0.8 and 0.9: KruskalResult(statistic=1.444849499085192, pvalue=0.2293561953749725)', 'Test between quantiles 0.8 and 0.9 & 0.9 and 1.0: KruskalResult(statistic=3.6345080682926425, pvalue=0.056593326991102456)']: For category Music\",\n",
       " \"For category Journalism with length 340: ['Test between quantiles 0.0 and 0.1 & 0.1 and 0.2: KruskalResult(statistic=0.1711032781651162, pvalue=0.6791331451503124)', 'Test between quantiles 0.1 and 0.2 & 0.2 and 0.30000000000000004: KruskalResult(statistic=0.6499017744298332, pvalue=0.42014779993921747)', 'Test between quantiles 0.19999999999999998 and 0.3 & 0.3 and 0.4: KruskalResult(statistic=0.030290368278632424, pvalue=0.8618330179512598)', 'Test between quantiles 0.30000000000000004 and 0.4 & 0.4 and 0.5: KruskalResult(statistic=0.0046049235446386635, pvalue=0.9458974094807047)', 'Test between quantiles 0.4 and 0.5 & 0.5 and 0.6: KruskalResult(statistic=0.07715762008349109, pvalue=0.7811869219574392)', 'Test between quantiles 0.5 and 0.6 & 0.6 and 0.7: KruskalResult(statistic=0.9458942982427473, pvalue=0.3307665748430017)', 'Test between quantiles 0.6 and 0.7 & 0.7 and 0.7999999999999999: KruskalResult(statistic=0.13351053419883718, pvalue=0.7148196081976124)', 'Test between quantiles 0.7000000000000001 and 0.8 & 0.8 and 0.9: KruskalResult(statistic=0.015836193488959302, pvalue=0.8998570435036393)', 'Test between quantiles 0.8 and 0.9 & 0.9 and 1.0: KruskalResult(statistic=0.5703449903899106, pvalue=0.4501218589611734)']: For category Journalism\",\n",
       " \"For category Design with length 2757: ['Test between quantiles 0.0 and 0.1 & 0.1 and 0.2: KruskalResult(statistic=0.5064093389852089, pvalue=0.4766973706658537)', 'Test between quantiles 0.1 and 0.2 & 0.2 and 0.30000000000000004: KruskalResult(statistic=4.651384164603867, pvalue=0.03102851784780917)', 'Test between quantiles 0.19999999999999998 and 0.3 & 0.3 and 0.4: KruskalResult(statistic=5.050380902837922, pvalue=0.024620525362757866)', 'Test between quantiles 0.30000000000000004 and 0.4 & 0.4 and 0.5: KruskalResult(statistic=3.374494059178737, pvalue=0.06621290666995583)', 'Test between quantiles 0.4 and 0.5 & 0.5 and 0.6: KruskalResult(statistic=0.9236497259598496, pvalue=0.33651849469231065)', 'Test between quantiles 0.5 and 0.6 & 0.6 and 0.7: KruskalResult(statistic=2.4320094330252995, pvalue=0.11888042130329474)', 'Test between quantiles 0.6 and 0.7 & 0.7 and 0.7999999999999999: KruskalResult(statistic=1.1647306762714527, pvalue=0.2804865959925705)', 'Test between quantiles 0.7000000000000001 and 0.8 & 0.8 and 0.9: KruskalResult(statistic=1.8570465576839368, pvalue=0.17296605718567862)', 'Test between quantiles 0.8 and 0.9 & 0.9 and 1.0: KruskalResult(statistic=5.81628077841738, pvalue=0.015878486028507614)']: For category Design\",\n",
       " \"For category Publishing with length 3091: ['Test between quantiles 0.0 and 0.1 & 0.1 and 0.2: KruskalResult(statistic=1.354800670936844, pvalue=0.24444060720066624)', 'Test between quantiles 0.1 and 0.2 & 0.2 and 0.30000000000000004: KruskalResult(statistic=1.4023652694646547, pvalue=0.23632794860089526)', 'Test between quantiles 0.19999999999999998 and 0.3 & 0.3 and 0.4: KruskalResult(statistic=2.177406098444457, pvalue=0.1400503277566755)', 'Test between quantiles 0.30000000000000004 and 0.4 & 0.4 and 0.5: KruskalResult(statistic=0.49713837118636217, pvalue=0.48076020288476495)', 'Test between quantiles 0.4 and 0.5 & 0.5 and 0.6: KruskalResult(statistic=0.1074414126406304, pvalue=0.7430760676657397)', 'Test between quantiles 0.5 and 0.6 & 0.6 and 0.7: KruskalResult(statistic=3.296872796395154, pvalue=0.06941191117322408)', 'Test between quantiles 0.6 and 0.7 & 0.7 and 0.7999999999999999: KruskalResult(statistic=0.0001846727140636548, pvalue=0.9891575342100807)', 'Test between quantiles 0.7000000000000001 and 0.8 & 0.8 and 0.9: KruskalResult(statistic=2.0834617272455476, pvalue=0.14890215144688398)', 'Test between quantiles 0.8 and 0.9 & 0.9 and 1.0: KruskalResult(statistic=3.888294263905215, pvalue=0.048623783814327866)']: For category Publishing\",\n",
       " \"For category Comics with length 1294: ['Test between quantiles 0.0 and 0.1 & 0.1 and 0.2: KruskalResult(statistic=18.090263591671363, pvalue=2.1067596600543487e-05)', 'Test between quantiles 0.1 and 0.2 & 0.2 and 0.30000000000000004: KruskalResult(statistic=4.6620269150882265, pvalue=0.030836768188371784)', 'Test between quantiles 0.19999999999999998 and 0.3 & 0.3 and 0.4: KruskalResult(statistic=3.132474576526356, pvalue=0.07674716323914071)', 'Test between quantiles 0.30000000000000004 and 0.4 & 0.4 and 0.5: KruskalResult(statistic=5.257656935144475, pvalue=0.02185041625333268)', 'Test between quantiles 0.4 and 0.5 & 0.5 and 0.6: KruskalResult(statistic=2.1050333607557445, pvalue=0.1468151412493358)', 'Test between quantiles 0.5 and 0.6 & 0.6 and 0.7: KruskalResult(statistic=1.666740523023684, pvalue=0.1966956838977998)', 'Test between quantiles 0.6 and 0.7 & 0.7 and 0.7999999999999999: KruskalResult(statistic=3.079427059436568, pvalue=0.07928845235370678)', 'Test between quantiles 0.7000000000000001 and 0.8 & 0.8 and 0.9: KruskalResult(statistic=1.8304228382720749, pvalue=0.17607761010304657)', 'Test between quantiles 0.8 and 0.9 & 0.9 and 1.0: KruskalResult(statistic=0.580405966488792, pvalue=0.44615323901870485)']: For category Comics\",\n",
       " \"For category Crafts with length 1018: ['Test between quantiles 0.0 and 0.1 & 0.1 and 0.2: KruskalResult(statistic=4.373268019424412, pvalue=0.036506913447363856)', 'Test between quantiles 0.1 and 0.2 & 0.2 and 0.30000000000000004: KruskalResult(statistic=3.3294611197377852, pvalue=0.06804916686863385)', 'Test between quantiles 0.19999999999999998 and 0.3 & 0.3 and 0.4: KruskalResult(statistic=1.6433660195415527, pvalue=0.1998642617771335)', 'Test between quantiles 0.30000000000000004 and 0.4 & 0.4 and 0.5: KruskalResult(statistic=1.914856757843916, pvalue=0.16642475868616374)', 'Test between quantiles 0.4 and 0.5 & 0.5 and 0.6: KruskalResult(statistic=2.2835895407261333, pvalue=0.13074895548556822)', 'Test between quantiles 0.5 and 0.6 & 0.6 and 0.7: KruskalResult(statistic=2.686121798120395, pvalue=0.1012259165843326)', 'Test between quantiles 0.6 and 0.7 & 0.7 and 0.7999999999999999: KruskalResult(statistic=4.3380991431512115, pvalue=0.03726850965613255)', 'Test between quantiles 0.7000000000000001 and 0.8 & 0.8 and 0.9: KruskalResult(statistic=2.2299112487498713, pvalue=0.13536162282324343)', 'Test between quantiles 0.8 and 0.9 & 0.9 and 1.0: KruskalResult(statistic=2.378045355573409, pvalue=0.12305142628856164)']: For category Crafts\",\n",
       " \"For category Food with length 1854: ['Test between quantiles 0.0 and 0.1 & 0.1 and 0.2: KruskalResult(statistic=4.115915020046374, pvalue=0.04248153875845835)', 'Test between quantiles 0.1 and 0.2 & 0.2 and 0.30000000000000004: KruskalResult(statistic=1.2941309343440393, pvalue=0.25528806546375243)', 'Test between quantiles 0.19999999999999998 and 0.3 & 0.3 and 0.4: KruskalResult(statistic=2.767172590004816, pvalue=0.09621597744986733)', 'Test between quantiles 0.30000000000000004 and 0.4 & 0.4 and 0.5: KruskalResult(statistic=0.05109463982805803, pvalue=0.8211693494481269)', 'Test between quantiles 0.4 and 0.5 & 0.5 and 0.6: KruskalResult(statistic=0.6502054659551206, pvalue=0.42003922969803764)', 'Test between quantiles 0.5 and 0.6 & 0.6 and 0.7: KruskalResult(statistic=0.351508924270275, pvalue=0.553260205030476)', 'Test between quantiles 0.6 and 0.7 & 0.7 and 0.7999999999999999: KruskalResult(statistic=0.8095643050688621, pvalue=0.3682490953819222)', 'Test between quantiles 0.7000000000000001 and 0.8 & 0.8 and 0.9: KruskalResult(statistic=1.72817703948843, pvalue=0.18864387396965368)', 'Test between quantiles 0.8 and 0.9 & 0.9 and 1.0: KruskalResult(statistic=7.690106691521622, pvalue=0.005552434509065754)']: For category Food\",\n",
       " \"For category Dance with length 213: ['Test between quantiles 0.0 and 0.1 & 0.1 and 0.2: KruskalResult(statistic=0.12798584541003385, pvalue=0.7205295925678126)', 'Test between quantiles 0.1 and 0.2 & 0.2 and 0.30000000000000004: KruskalResult(statistic=1.6479936655448963, pvalue=0.19923222404601684)', 'Test between quantiles 0.19999999999999998 and 0.3 & 0.3 and 0.4: KruskalResult(statistic=0.4727301484594107, pvalue=0.491733846623331)', 'Test between quantiles 0.30000000000000004 and 0.4 & 0.4 and 0.5: KruskalResult(statistic=0.027285005825041682, pvalue=0.8688009405484057)', 'Test between quantiles 0.4 and 0.5 & 0.5 and 0.6: KruskalResult(statistic=0.11137723217988955, pvalue=0.7385815916955603)', 'Test between quantiles 0.5 and 0.6 & 0.6 and 0.7: KruskalResult(statistic=0.034608592224741226, pvalue=0.8524182185562376)', 'Test between quantiles 0.6 and 0.7 & 0.7 and 0.7999999999999999: KruskalResult(statistic=0.06284127052449892, pvalue=0.8020602784351638)', 'Test between quantiles 0.7000000000000001 and 0.8 & 0.8 and 0.9: KruskalResult(statistic=0.6347801567850015, pvalue=0.42560732315493555)', 'Test between quantiles 0.8 and 0.9 & 0.9 and 1.0: KruskalResult(statistic=1.0832690021951827, pvalue=0.29796740727814053)']: For category Dance\",\n",
       " \"For category Theater with length 556: ['Test between quantiles 0.0 and 0.1 & 0.1 and 0.2: KruskalResult(statistic=0.01210238819235547, pvalue=0.9124007662165103)', 'Test between quantiles 0.1 and 0.2 & 0.2 and 0.30000000000000004: KruskalResult(statistic=3.1553250372228796e-05, pvalue=0.9955181240761837)', 'Test between quantiles 0.19999999999999998 and 0.3 & 0.3 and 0.4: KruskalResult(statistic=0.05386355250674426, pvalue=0.8164718189364837)', 'Test between quantiles 0.30000000000000004 and 0.4 & 0.4 and 0.5: KruskalResult(statistic=0.024450368422096018, pvalue=0.8757444285235029)', 'Test between quantiles 0.4 and 0.5 & 0.5 and 0.6: KruskalResult(statistic=0.022105341078232577, pvalue=0.8818072085045325)', 'Test between quantiles 0.5 and 0.6 & 0.6 and 0.7: KruskalResult(statistic=0.04284992654679075, pvalue=0.836008110665155)', 'Test between quantiles 0.6 and 0.7 & 0.7 and 0.7999999999999999: KruskalResult(statistic=0.2522035297848853, pvalue=0.6155277604591401)', 'Test between quantiles 0.7000000000000001 and 0.8 & 0.8 and 0.9: KruskalResult(statistic=0.357522418078254, pvalue=0.5498854511389084)', 'Test between quantiles 0.8 and 0.9 & 0.9 and 1.0: KruskalResult(statistic=1.341187718495657, pvalue=0.2468246202496604)']: For category Theater\",\n",
       " \"For category Photography with length 626: ['Test between quantiles 0.0 and 0.1 & 0.1 and 0.2: KruskalResult(statistic=4.19686096479868, pvalue=0.04049887992822005)', 'Test between quantiles 0.1 and 0.2 & 0.2 and 0.30000000000000004: KruskalResult(statistic=0.15605578567243936, pvalue=0.6928141301200559)', 'Test between quantiles 0.19999999999999998 and 0.3 & 0.3 and 0.4: KruskalResult(statistic=2.9580553271291397, pvalue=0.08545065663385107)', 'Test between quantiles 0.30000000000000004 and 0.4 & 0.4 and 0.5: KruskalResult(statistic=1.065555423183415, pvalue=0.30195153286574405)', 'Test between quantiles 0.4 and 0.5 & 0.5 and 0.6: KruskalResult(statistic=0.4222634970975779, pvalue=0.5158097587041732)', 'Test between quantiles 0.5 and 0.6 & 0.6 and 0.7: KruskalResult(statistic=0.22616309574154975, pvalue=0.6343835462017039)', 'Test between quantiles 0.6 and 0.7 & 0.7 and 0.7999999999999999: KruskalResult(statistic=0.009550318358208389, pvalue=0.922150083540886)', 'Test between quantiles 0.7000000000000001 and 0.8 & 0.8 and 0.9: KruskalResult(statistic=0.015967998051731897, pvalue=0.89944336669496)', 'Test between quantiles 0.8 and 0.9 & 0.9 and 1.0: KruskalResult(statistic=0.23430445489866833, pvalue=0.6283503463669435)']: For category Photography\"]"
      ]
     },
     "execution_count": 130,
     "metadata": {
      "tags": []
     },
     "output_type": "execute_result"
    }
   ],
   "source": [
    "categories = ks_df['main_category'].unique()\n",
    "\n",
    "def all_results(df):\n",
    "  all_stats = []\n",
    "  for i in categories:\n",
    "   test_cat = ks_df[ks_df['main_category'] == i]\n",
    "   j = sig_test_2(test_cat)\n",
    "   all_stats.append(\"For category \" + str(i) + ' with length ' + str(len(test_cat)) + ': ' + str(j) + ': For category ' + str(i))\n",
    "  return all_stats\n",
    "\n",
    "all_results(ks_df)"
   ]
  },
  {
   "cell_type": "code",
   "execution_count": null,
   "metadata": {
    "id": "kVXZ3R9fnO2t"
   },
   "outputs": [],
   "source": [
    "## The resulting output is very messy so I'll look for a way to clean up, but wanted to see if this was all good so far!!"
   ]
  }
 ],
 "metadata": {
  "colab": {
   "collapsed_sections": [],
   "name": "Capstone_1: Report",
   "provenance": []
  },
  "kernelspec": {
   "display_name": "Python 3",
   "language": "python",
   "name": "python3"
  },
  "language_info": {
   "codemirror_mode": {
    "name": "ipython",
    "version": 3
   },
   "file_extension": ".py",
   "mimetype": "text/x-python",
   "name": "python",
   "nbconvert_exporter": "python",
   "pygments_lexer": "ipython3",
   "version": "3.7.0"
  }
 },
 "nbformat": 4,
 "nbformat_minor": 1
}
