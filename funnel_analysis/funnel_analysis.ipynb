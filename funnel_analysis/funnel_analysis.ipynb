{
 "cells": [
  {
   "cell_type": "markdown",
   "metadata": {},
   "source": [
    "# Challenge Description\n",
    "\n",
    "You are looking at data from an e-commerce website. The site is very simple and has just 4\n",
    "pages:\n",
    "    The first page is the home page. When you come to the site for the first time, you can\n",
    "    only land on the homepage as a first page.\n",
    "    \n",
    "    From the home page, the user can perform a search and land on the search page.\n",
    "    \n",
    "    From the search page, if the user clicks on a product, she will get to the payment page,\n",
    "    where she is asked to provide payment information in order to buy that product.\n",
    "    \n",
    "    If she does decide to buy, she ends up on the confirmation page\n",
    "The company CEO isn't very happy with the volume of sales and, especially, of sales coming\n",
    "from new users. Therefore, she asked you to investigate whether there is something wrong in\n",
    "the conversion funnel or, in general, if you could suggest how conversion rate can be improved.\n",
    "Specifically, she is interested in :\n",
    "\n",
    "    A full picture of funnel conversion rate for both desktop and mobile\n",
    "    Some insights on what the product team should focus on in order to improve\n",
    "    conversion rate as well as anything you might discover that could help improve conversion rate."
   ]
  },
  {
   "cell_type": "code",
   "execution_count": 1,
   "metadata": {},
   "outputs": [],
   "source": [
    "import numpy as np\n",
    "import pandas as pd\n",
    "import matplotlib.pyplot as plt\n",
    "import seaborn as sns"
   ]
  },
  {
   "cell_type": "code",
   "execution_count": 4,
   "metadata": {},
   "outputs": [],
   "source": [
    "user_table = pd.read_csv('user_table.csv')\n",
    "homepage_table = pd.read_csv('home_page_table.csv')\n",
    "searchpage_table = pd.read_csv('search_page_table.csv')\n",
    "paymentpage_table = pd.read_csv('payment_page_table.csv')\n",
    "paymentconfirm_table = pd.read_csv('payment_confirmation_table.csv')"
   ]
  },
  {
   "cell_type": "code",
   "execution_count": 6,
   "metadata": {},
   "outputs": [
    {
     "name": "stdout",
     "output_type": "stream",
     "text": [
      "<class 'pandas.core.frame.DataFrame'>\n",
      "RangeIndex: 90400 entries, 0 to 90399\n",
      "Data columns (total 4 columns):\n",
      "user_id    90400 non-null int64\n",
      "date       90400 non-null object\n",
      "device     90400 non-null object\n",
      "sex        90400 non-null object\n",
      "dtypes: int64(1), object(3)\n",
      "memory usage: 2.8+ MB\n"
     ]
    }
   ],
   "source": [
    "user_table.info()"
   ]
  },
  {
   "cell_type": "code",
   "execution_count": 7,
   "metadata": {},
   "outputs": [
    {
     "data": {
      "text/html": [
       "<div>\n",
       "<style scoped>\n",
       "    .dataframe tbody tr th:only-of-type {\n",
       "        vertical-align: middle;\n",
       "    }\n",
       "\n",
       "    .dataframe tbody tr th {\n",
       "        vertical-align: top;\n",
       "    }\n",
       "\n",
       "    .dataframe thead th {\n",
       "        text-align: right;\n",
       "    }\n",
       "</style>\n",
       "<table border=\"1\" class=\"dataframe\">\n",
       "  <thead>\n",
       "    <tr style=\"text-align: right;\">\n",
       "      <th></th>\n",
       "      <th>user_id</th>\n",
       "    </tr>\n",
       "  </thead>\n",
       "  <tbody>\n",
       "    <tr>\n",
       "      <th>count</th>\n",
       "      <td>90400.000000</td>\n",
       "    </tr>\n",
       "    <tr>\n",
       "      <th>mean</th>\n",
       "      <td>498709.683473</td>\n",
       "    </tr>\n",
       "    <tr>\n",
       "      <th>std</th>\n",
       "      <td>289040.674085</td>\n",
       "    </tr>\n",
       "    <tr>\n",
       "      <th>min</th>\n",
       "      <td>17.000000</td>\n",
       "    </tr>\n",
       "    <tr>\n",
       "      <th>25%</th>\n",
       "      <td>247978.750000</td>\n",
       "    </tr>\n",
       "    <tr>\n",
       "      <th>50%</th>\n",
       "      <td>498267.000000</td>\n",
       "    </tr>\n",
       "    <tr>\n",
       "      <th>75%</th>\n",
       "      <td>749789.250000</td>\n",
       "    </tr>\n",
       "    <tr>\n",
       "      <th>max</th>\n",
       "      <td>999979.000000</td>\n",
       "    </tr>\n",
       "  </tbody>\n",
       "</table>\n",
       "</div>"
      ],
      "text/plain": [
       "             user_id\n",
       "count   90400.000000\n",
       "mean   498709.683473\n",
       "std    289040.674085\n",
       "min        17.000000\n",
       "25%    247978.750000\n",
       "50%    498267.000000\n",
       "75%    749789.250000\n",
       "max    999979.000000"
      ]
     },
     "execution_count": 7,
     "metadata": {},
     "output_type": "execute_result"
    }
   ],
   "source": [
    "user_table.describe()"
   ]
  },
  {
   "cell_type": "code",
   "execution_count": 8,
   "metadata": {},
   "outputs": [
    {
     "data": {
      "text/html": [
       "<div>\n",
       "<style scoped>\n",
       "    .dataframe tbody tr th:only-of-type {\n",
       "        vertical-align: middle;\n",
       "    }\n",
       "\n",
       "    .dataframe tbody tr th {\n",
       "        vertical-align: top;\n",
       "    }\n",
       "\n",
       "    .dataframe thead th {\n",
       "        text-align: right;\n",
       "    }\n",
       "</style>\n",
       "<table border=\"1\" class=\"dataframe\">\n",
       "  <thead>\n",
       "    <tr style=\"text-align: right;\">\n",
       "      <th></th>\n",
       "      <th>date</th>\n",
       "      <th>device</th>\n",
       "      <th>sex</th>\n",
       "    </tr>\n",
       "  </thead>\n",
       "  <tbody>\n",
       "    <tr>\n",
       "      <th>count</th>\n",
       "      <td>90400</td>\n",
       "      <td>90400</td>\n",
       "      <td>90400</td>\n",
       "    </tr>\n",
       "    <tr>\n",
       "      <th>unique</th>\n",
       "      <td>120</td>\n",
       "      <td>2</td>\n",
       "      <td>2</td>\n",
       "    </tr>\n",
       "    <tr>\n",
       "      <th>top</th>\n",
       "      <td>2015-02-08</td>\n",
       "      <td>Desktop</td>\n",
       "      <td>Male</td>\n",
       "    </tr>\n",
       "    <tr>\n",
       "      <th>freq</th>\n",
       "      <td>877</td>\n",
       "      <td>60200</td>\n",
       "      <td>45325</td>\n",
       "    </tr>\n",
       "  </tbody>\n",
       "</table>\n",
       "</div>"
      ],
      "text/plain": [
       "              date   device    sex\n",
       "count        90400    90400  90400\n",
       "unique         120        2      2\n",
       "top     2015-02-08  Desktop   Male\n",
       "freq           877    60200  45325"
      ]
     },
     "execution_count": 8,
     "metadata": {},
     "output_type": "execute_result"
    }
   ],
   "source": [
    "user_table[['date', 'device', 'sex']].describe()"
   ]
  },
  {
   "cell_type": "code",
   "execution_count": 10,
   "metadata": {},
   "outputs": [
    {
     "name": "stdout",
     "output_type": "stream",
     "text": [
      "<class 'pandas.core.frame.DataFrame'>\n",
      "RangeIndex: 90400 entries, 0 to 90399\n",
      "Data columns (total 2 columns):\n",
      "user_id    90400 non-null int64\n",
      "page       90400 non-null object\n",
      "dtypes: int64(1), object(1)\n",
      "memory usage: 1.4+ MB\n"
     ]
    }
   ],
   "source": [
    "homepage_table.info()"
   ]
  },
  {
   "cell_type": "code",
   "execution_count": 11,
   "metadata": {},
   "outputs": [
    {
     "data": {
      "text/html": [
       "<div>\n",
       "<style scoped>\n",
       "    .dataframe tbody tr th:only-of-type {\n",
       "        vertical-align: middle;\n",
       "    }\n",
       "\n",
       "    .dataframe tbody tr th {\n",
       "        vertical-align: top;\n",
       "    }\n",
       "\n",
       "    .dataframe thead th {\n",
       "        text-align: right;\n",
       "    }\n",
       "</style>\n",
       "<table border=\"1\" class=\"dataframe\">\n",
       "  <thead>\n",
       "    <tr style=\"text-align: right;\">\n",
       "      <th></th>\n",
       "      <th>user_id</th>\n",
       "      <th>page</th>\n",
       "    </tr>\n",
       "  </thead>\n",
       "  <tbody>\n",
       "    <tr>\n",
       "      <th>54550</th>\n",
       "      <td>605397</td>\n",
       "      <td>home_page</td>\n",
       "    </tr>\n",
       "    <tr>\n",
       "      <th>39492</th>\n",
       "      <td>990531</td>\n",
       "      <td>home_page</td>\n",
       "    </tr>\n",
       "    <tr>\n",
       "      <th>9766</th>\n",
       "      <td>103963</td>\n",
       "      <td>home_page</td>\n",
       "    </tr>\n",
       "    <tr>\n",
       "      <th>56050</th>\n",
       "      <td>585422</td>\n",
       "      <td>home_page</td>\n",
       "    </tr>\n",
       "    <tr>\n",
       "      <th>48707</th>\n",
       "      <td>467297</td>\n",
       "      <td>home_page</td>\n",
       "    </tr>\n",
       "  </tbody>\n",
       "</table>\n",
       "</div>"
      ],
      "text/plain": [
       "       user_id       page\n",
       "54550   605397  home_page\n",
       "39492   990531  home_page\n",
       "9766    103963  home_page\n",
       "56050   585422  home_page\n",
       "48707   467297  home_page"
      ]
     },
     "execution_count": 11,
     "metadata": {},
     "output_type": "execute_result"
    }
   ],
   "source": [
    "homepage_table.sample(5)"
   ]
  },
  {
   "cell_type": "code",
   "execution_count": 12,
   "metadata": {},
   "outputs": [
    {
     "data": {
      "text/plain": [
       "array(['home_page'], dtype=object)"
      ]
     },
     "execution_count": 12,
     "metadata": {},
     "output_type": "execute_result"
    }
   ],
   "source": [
    "homepage_table.page.unique()"
   ]
  },
  {
   "cell_type": "code",
   "execution_count": 13,
   "metadata": {},
   "outputs": [
    {
     "name": "stdout",
     "output_type": "stream",
     "text": [
      "<class 'pandas.core.frame.DataFrame'>\n",
      "RangeIndex: 45200 entries, 0 to 45199\n",
      "Data columns (total 2 columns):\n",
      "user_id    45200 non-null int64\n",
      "page       45200 non-null object\n",
      "dtypes: int64(1), object(1)\n",
      "memory usage: 706.3+ KB\n"
     ]
    }
   ],
   "source": [
    "searchpage_table.info()"
   ]
  },
  {
   "cell_type": "code",
   "execution_count": 14,
   "metadata": {},
   "outputs": [
    {
     "data": {
      "text/html": [
       "<div>\n",
       "<style scoped>\n",
       "    .dataframe tbody tr th:only-of-type {\n",
       "        vertical-align: middle;\n",
       "    }\n",
       "\n",
       "    .dataframe tbody tr th {\n",
       "        vertical-align: top;\n",
       "    }\n",
       "\n",
       "    .dataframe thead th {\n",
       "        text-align: right;\n",
       "    }\n",
       "</style>\n",
       "<table border=\"1\" class=\"dataframe\">\n",
       "  <thead>\n",
       "    <tr style=\"text-align: right;\">\n",
       "      <th></th>\n",
       "      <th>user_id</th>\n",
       "      <th>page</th>\n",
       "    </tr>\n",
       "  </thead>\n",
       "  <tbody>\n",
       "    <tr>\n",
       "      <th>10293</th>\n",
       "      <td>395808</td>\n",
       "      <td>search_page</td>\n",
       "    </tr>\n",
       "  </tbody>\n",
       "</table>\n",
       "</div>"
      ],
      "text/plain": [
       "       user_id         page\n",
       "10293   395808  search_page"
      ]
     },
     "execution_count": 14,
     "metadata": {},
     "output_type": "execute_result"
    }
   ],
   "source": [
    "searchpage_table.sample()"
   ]
  },
  {
   "cell_type": "code",
   "execution_count": 15,
   "metadata": {},
   "outputs": [
    {
     "data": {
      "text/plain": [
       "array(['search_page'], dtype=object)"
      ]
     },
     "execution_count": 15,
     "metadata": {},
     "output_type": "execute_result"
    }
   ],
   "source": [
    "searchpage_table.page.unique()"
   ]
  },
  {
   "cell_type": "code",
   "execution_count": 16,
   "metadata": {},
   "outputs": [
    {
     "name": "stdout",
     "output_type": "stream",
     "text": [
      "<class 'pandas.core.frame.DataFrame'>\n",
      "RangeIndex: 6030 entries, 0 to 6029\n",
      "Data columns (total 2 columns):\n",
      "user_id    6030 non-null int64\n",
      "page       6030 non-null object\n",
      "dtypes: int64(1), object(1)\n",
      "memory usage: 94.3+ KB\n"
     ]
    }
   ],
   "source": [
    "paymentpage_table.info()"
   ]
  },
  {
   "cell_type": "code",
   "execution_count": 17,
   "metadata": {},
   "outputs": [
    {
     "name": "stdout",
     "output_type": "stream",
     "text": [
      "<class 'pandas.core.frame.DataFrame'>\n",
      "RangeIndex: 452 entries, 0 to 451\n",
      "Data columns (total 2 columns):\n",
      "user_id    452 non-null int64\n",
      "page       452 non-null object\n",
      "dtypes: int64(1), object(1)\n",
      "memory usage: 7.1+ KB\n"
     ]
    }
   ],
   "source": [
    "paymentconfirm_table.info()"
   ]
  },
  {
   "cell_type": "code",
   "execution_count": 19,
   "metadata": {},
   "outputs": [],
   "source": [
    "merger = [user_table, homepage_table, searchpage_table, paymentpage_table, paymentconfirm_table]"
   ]
  },
  {
   "cell_type": "code",
   "execution_count": 26,
   "metadata": {},
   "outputs": [],
   "source": [
    "from functools import reduce\n",
    "\n",
    "merge_table = reduce(lambda  left,right: pd.merge(left,right,on=['user_id'],\n",
    "                                            how='outer'), merger)"
   ]
  },
  {
   "cell_type": "code",
   "execution_count": 27,
   "metadata": {},
   "outputs": [
    {
     "data": {
      "text/html": [
       "<div>\n",
       "<style scoped>\n",
       "    .dataframe tbody tr th:only-of-type {\n",
       "        vertical-align: middle;\n",
       "    }\n",
       "\n",
       "    .dataframe tbody tr th {\n",
       "        vertical-align: top;\n",
       "    }\n",
       "\n",
       "    .dataframe thead th {\n",
       "        text-align: right;\n",
       "    }\n",
       "</style>\n",
       "<table border=\"1\" class=\"dataframe\">\n",
       "  <thead>\n",
       "    <tr style=\"text-align: right;\">\n",
       "      <th></th>\n",
       "      <th>user_id</th>\n",
       "      <th>date</th>\n",
       "      <th>device</th>\n",
       "      <th>sex</th>\n",
       "      <th>page_x</th>\n",
       "      <th>page_y</th>\n",
       "      <th>page_x</th>\n",
       "      <th>page_y</th>\n",
       "    </tr>\n",
       "  </thead>\n",
       "  <tbody>\n",
       "    <tr>\n",
       "      <th>70414</th>\n",
       "      <td>460438</td>\n",
       "      <td>2015-01-26</td>\n",
       "      <td>Desktop</td>\n",
       "      <td>Male</td>\n",
       "      <td>home_page</td>\n",
       "      <td>NaN</td>\n",
       "      <td>NaN</td>\n",
       "      <td>NaN</td>\n",
       "    </tr>\n",
       "    <tr>\n",
       "      <th>12347</th>\n",
       "      <td>393440</td>\n",
       "      <td>2015-03-29</td>\n",
       "      <td>Desktop</td>\n",
       "      <td>Male</td>\n",
       "      <td>home_page</td>\n",
       "      <td>search_page</td>\n",
       "      <td>NaN</td>\n",
       "      <td>NaN</td>\n",
       "    </tr>\n",
       "    <tr>\n",
       "      <th>84452</th>\n",
       "      <td>483724</td>\n",
       "      <td>2015-03-21</td>\n",
       "      <td>Mobile</td>\n",
       "      <td>Male</td>\n",
       "      <td>home_page</td>\n",
       "      <td>NaN</td>\n",
       "      <td>NaN</td>\n",
       "      <td>NaN</td>\n",
       "    </tr>\n",
       "    <tr>\n",
       "      <th>82974</th>\n",
       "      <td>508798</td>\n",
       "      <td>2015-04-03</td>\n",
       "      <td>Mobile</td>\n",
       "      <td>Male</td>\n",
       "      <td>home_page</td>\n",
       "      <td>NaN</td>\n",
       "      <td>NaN</td>\n",
       "      <td>NaN</td>\n",
       "    </tr>\n",
       "    <tr>\n",
       "      <th>61520</th>\n",
       "      <td>117185</td>\n",
       "      <td>2015-04-26</td>\n",
       "      <td>Mobile</td>\n",
       "      <td>Female</td>\n",
       "      <td>home_page</td>\n",
       "      <td>NaN</td>\n",
       "      <td>NaN</td>\n",
       "      <td>NaN</td>\n",
       "    </tr>\n",
       "  </tbody>\n",
       "</table>\n",
       "</div>"
      ],
      "text/plain": [
       "       user_id        date   device     sex     page_x       page_y page_x  \\\n",
       "70414   460438  2015-01-26  Desktop    Male  home_page          NaN    NaN   \n",
       "12347   393440  2015-03-29  Desktop    Male  home_page  search_page    NaN   \n",
       "84452   483724  2015-03-21   Mobile    Male  home_page          NaN    NaN   \n",
       "82974   508798  2015-04-03   Mobile    Male  home_page          NaN    NaN   \n",
       "61520   117185  2015-04-26   Mobile  Female  home_page          NaN    NaN   \n",
       "\n",
       "      page_y  \n",
       "70414    NaN  \n",
       "12347    NaN  \n",
       "84452    NaN  \n",
       "82974    NaN  \n",
       "61520    NaN  "
      ]
     },
     "execution_count": 27,
     "metadata": {},
     "output_type": "execute_result"
    }
   ],
   "source": [
    "merge_table.sample(5)"
   ]
  },
  {
   "cell_type": "code",
   "execution_count": 28,
   "metadata": {},
   "outputs": [],
   "source": [
    "merge_table.columns = ['user_id', 'date', 'device', 'sex', 'funnel1', 'funnel2', 'funnel3', 'funnel4']"
   ]
  },
  {
   "cell_type": "code",
   "execution_count": 29,
   "metadata": {},
   "outputs": [
    {
     "data": {
      "text/html": [
       "<div>\n",
       "<style scoped>\n",
       "    .dataframe tbody tr th:only-of-type {\n",
       "        vertical-align: middle;\n",
       "    }\n",
       "\n",
       "    .dataframe tbody tr th {\n",
       "        vertical-align: top;\n",
       "    }\n",
       "\n",
       "    .dataframe thead th {\n",
       "        text-align: right;\n",
       "    }\n",
       "</style>\n",
       "<table border=\"1\" class=\"dataframe\">\n",
       "  <thead>\n",
       "    <tr style=\"text-align: right;\">\n",
       "      <th></th>\n",
       "      <th>user_id</th>\n",
       "      <th>date</th>\n",
       "      <th>device</th>\n",
       "      <th>sex</th>\n",
       "      <th>funnel1</th>\n",
       "      <th>funnel2</th>\n",
       "      <th>funnel3</th>\n",
       "      <th>funnel4</th>\n",
       "    </tr>\n",
       "  </thead>\n",
       "  <tbody>\n",
       "    <tr>\n",
       "      <th>46938</th>\n",
       "      <td>766828</td>\n",
       "      <td>2015-04-06</td>\n",
       "      <td>Mobile</td>\n",
       "      <td>Female</td>\n",
       "      <td>home_page</td>\n",
       "      <td>search_page</td>\n",
       "      <td>NaN</td>\n",
       "      <td>NaN</td>\n",
       "    </tr>\n",
       "    <tr>\n",
       "      <th>77314</th>\n",
       "      <td>734626</td>\n",
       "      <td>2015-03-03</td>\n",
       "      <td>Desktop</td>\n",
       "      <td>Male</td>\n",
       "      <td>home_page</td>\n",
       "      <td>search_page</td>\n",
       "      <td>NaN</td>\n",
       "      <td>NaN</td>\n",
       "    </tr>\n",
       "    <tr>\n",
       "      <th>46895</th>\n",
       "      <td>937069</td>\n",
       "      <td>2015-02-11</td>\n",
       "      <td>Mobile</td>\n",
       "      <td>Male</td>\n",
       "      <td>home_page</td>\n",
       "      <td>NaN</td>\n",
       "      <td>NaN</td>\n",
       "      <td>NaN</td>\n",
       "    </tr>\n",
       "    <tr>\n",
       "      <th>29056</th>\n",
       "      <td>392784</td>\n",
       "      <td>2015-03-09</td>\n",
       "      <td>Mobile</td>\n",
       "      <td>Male</td>\n",
       "      <td>home_page</td>\n",
       "      <td>search_page</td>\n",
       "      <td>payment_page</td>\n",
       "      <td>NaN</td>\n",
       "    </tr>\n",
       "    <tr>\n",
       "      <th>27186</th>\n",
       "      <td>769146</td>\n",
       "      <td>2015-04-01</td>\n",
       "      <td>Desktop</td>\n",
       "      <td>Male</td>\n",
       "      <td>home_page</td>\n",
       "      <td>search_page</td>\n",
       "      <td>NaN</td>\n",
       "      <td>NaN</td>\n",
       "    </tr>\n",
       "  </tbody>\n",
       "</table>\n",
       "</div>"
      ],
      "text/plain": [
       "       user_id        date   device     sex    funnel1      funnel2  \\\n",
       "46938   766828  2015-04-06   Mobile  Female  home_page  search_page   \n",
       "77314   734626  2015-03-03  Desktop    Male  home_page  search_page   \n",
       "46895   937069  2015-02-11   Mobile    Male  home_page          NaN   \n",
       "29056   392784  2015-03-09   Mobile    Male  home_page  search_page   \n",
       "27186   769146  2015-04-01  Desktop    Male  home_page  search_page   \n",
       "\n",
       "            funnel3 funnel4  \n",
       "46938           NaN     NaN  \n",
       "77314           NaN     NaN  \n",
       "46895           NaN     NaN  \n",
       "29056  payment_page     NaN  \n",
       "27186           NaN     NaN  "
      ]
     },
     "execution_count": 29,
     "metadata": {},
     "output_type": "execute_result"
    }
   ],
   "source": [
    "merge_table.sample(5)"
   ]
  },
  {
   "cell_type": "code",
   "execution_count": 37,
   "metadata": {},
   "outputs": [
    {
     "data": {
      "text/plain": [
       "user_id    1.000000\n",
       "date       1.000000\n",
       "device     1.000000\n",
       "sex        1.000000\n",
       "funnel1    1.000000\n",
       "funnel2    0.500000\n",
       "funnel3    0.066704\n",
       "funnel4    0.005000\n",
       "dtype: float64"
      ]
     },
     "execution_count": 37,
     "metadata": {},
     "output_type": "execute_result"
    }
   ],
   "source": [
    "merge_table.count()/merge_table.user_id.count()"
   ]
  },
  {
   "cell_type": "code",
   "execution_count": 38,
   "metadata": {},
   "outputs": [
    {
     "data": {
      "text/plain": [
       "array(['Desktop', 'Mobile'], dtype=object)"
      ]
     },
     "execution_count": 38,
     "metadata": {},
     "output_type": "execute_result"
    }
   ],
   "source": [
    "merge_table.device.unique()"
   ]
  },
  {
   "cell_type": "code",
   "execution_count": 153,
   "metadata": {},
   "outputs": [
    {
     "name": "stdout",
     "output_type": "stream",
     "text": [
      "Funnel conversion rate for customer group using  Desktop :\n",
      " funnel1    0.665929\n",
      "funnel2    0.332965\n",
      "funnel3    0.033296\n",
      "funnel4    0.001659\n",
      "dtype: float64\n",
      "Funnel conversion rate for customer group using  Mobile :\n",
      " funnel1    0.334071\n",
      "funnel2    0.167035\n",
      "funnel3    0.033407\n",
      "funnel4    0.003341\n",
      "dtype: float64\n"
     ]
    }
   ],
   "source": [
    "funnel = {}\n",
    "for each in merge_table.device.unique():\n",
    "    funnel[each] = merge_table[merge_table.device == each][['funnel1','funnel2','funnel3','funnel4']].count()/merge_table.user_id.count()\n",
    "    print('Funnel conversion rate for customer group using ', each, ':\\n',merge_table[merge_table.device == each][['funnel1','funnel2','funnel3','funnel4']].count()/merge_table.user_id.count())\n",
    "    "
   ]
  },
  {
   "cell_type": "code",
   "execution_count": 154,
   "metadata": {},
   "outputs": [
    {
     "data": {
      "text/plain": [
       "(0.0, 0.7)"
      ]
     },
     "execution_count": 154,
     "metadata": {},
     "output_type": "execute_result"
    },
    {
     "data": {
      "image/png": "[encoded data removed]",
      "text/plain": [
       "<Figure size 864x864 with 2 Axes>"
      ]
     },
     "metadata": {
      "needs_background": "light"
     },
     "output_type": "display_data"
    }
   ],
   "source": [
    "plt.figure(figsize=(12,12))\n",
    "plt.subplot(2,2,1)\n",
    "sns.barplot(funnel['Desktop'].index, funnel['Desktop'].values)\n",
    "plt.title('Funnel conversion rate for customer group using Desktop')\n",
    "plt.ylabel('Conversion rate')\n",
    "plt.ylim(0,0.7)\n",
    "plt.subplot(2,2,2)\n",
    "sns.barplot(funnel['Mobile'].index, funnel['Mobile'].values)\n",
    "plt.title('Funnel conversion rate for customer group using Mobile')\n",
    "plt.ylabel('Conversion rate')\n",
    "plt.ylim(0,0.7)\n"
   ]
  },
  {
   "cell_type": "code",
   "execution_count": 155,
   "metadata": {},
   "outputs": [],
   "source": [
    "funnelm_prep=pd.DataFrame({'funnel':funnel['Mobile'].index,'conversion':funnel['Mobile'].values, 'device': 'Mobile'})\n",
    "funneld_prep=pd.DataFrame({'funnel':funnel['Desktop'].index,'conversion':funnel['Desktop'].values, 'device': 'Desktop'})"
   ]
  },
  {
   "cell_type": "code",
   "execution_count": 156,
   "metadata": {},
   "outputs": [],
   "source": [
    "temp = [funnelm_prep, funneld_prep]\n",
    "funnel_prep=pd.concat(temp)"
   ]
  },
  {
   "cell_type": "code",
   "execution_count": 98,
   "metadata": {},
   "outputs": [
    {
     "data": {
      "text/html": [
       "<div>\n",
       "<style scoped>\n",
       "    .dataframe tbody tr th:only-of-type {\n",
       "        vertical-align: middle;\n",
       "    }\n",
       "\n",
       "    .dataframe tbody tr th {\n",
       "        vertical-align: top;\n",
       "    }\n",
       "\n",
       "    .dataframe thead th {\n",
       "        text-align: right;\n",
       "    }\n",
       "</style>\n",
       "<table border=\"1\" class=\"dataframe\">\n",
       "  <thead>\n",
       "    <tr style=\"text-align: right;\">\n",
       "      <th></th>\n",
       "      <th>funnel</th>\n",
       "      <th>conversion</th>\n",
       "      <th>device</th>\n",
       "    </tr>\n",
       "  </thead>\n",
       "  <tbody>\n",
       "    <tr>\n",
       "      <th>1</th>\n",
       "      <td>funnel2</td>\n",
       "      <td>0.167035</td>\n",
       "      <td>Mobile</td>\n",
       "    </tr>\n",
       "    <tr>\n",
       "      <th>0</th>\n",
       "      <td>funnel1</td>\n",
       "      <td>0.665929</td>\n",
       "      <td>Desktop</td>\n",
       "    </tr>\n",
       "    <tr>\n",
       "      <th>2</th>\n",
       "      <td>funnel3</td>\n",
       "      <td>0.033407</td>\n",
       "      <td>Mobile</td>\n",
       "    </tr>\n",
       "    <tr>\n",
       "      <th>3</th>\n",
       "      <td>funnel4</td>\n",
       "      <td>0.003341</td>\n",
       "      <td>Mobile</td>\n",
       "    </tr>\n",
       "    <tr>\n",
       "      <th>2</th>\n",
       "      <td>funnel3</td>\n",
       "      <td>0.033296</td>\n",
       "      <td>Desktop</td>\n",
       "    </tr>\n",
       "    <tr>\n",
       "      <th>0</th>\n",
       "      <td>funnel1</td>\n",
       "      <td>0.334071</td>\n",
       "      <td>Mobile</td>\n",
       "    </tr>\n",
       "  </tbody>\n",
       "</table>\n",
       "</div>"
      ],
      "text/plain": [
       "    funnel  conversion   device\n",
       "1  funnel2    0.167035   Mobile\n",
       "0  funnel1    0.665929  Desktop\n",
       "2  funnel3    0.033407   Mobile\n",
       "3  funnel4    0.003341   Mobile\n",
       "2  funnel3    0.033296  Desktop\n",
       "0  funnel1    0.334071   Mobile"
      ]
     },
     "execution_count": 98,
     "metadata": {},
     "output_type": "execute_result"
    }
   ],
   "source": [
    "funnel_prep.sample(6)"
   ]
  },
  {
   "cell_type": "code",
   "execution_count": 115,
   "metadata": {},
   "outputs": [
    {
     "data": {
      "image/png": "[encoded data removed]",
      "text/plain": [
       "<Figure size 864x1152 with 1 Axes>"
      ]
     },
     "metadata": {
      "needs_background": "light"
     },
     "output_type": "display_data"
    }
   ],
   "source": [
    "plt.figure(figsize=(12,16))\n",
    "splot = sns.barplot(x='funnel', y='conversion', hue='device', data=funnel_prep)\n",
    "for each in splot.patches:\n",
    "    splot.annotate(format(each.get_height(), '.4f'), (each.get_x() + each.get_width()/4, each.get_height()+0.01))"
   ]
  },
  {
   "cell_type": "markdown",
   "metadata": {},
   "source": [
    "## Mobile has better retention rate through the funnel\n",
    "## Desktop has almost doubled user visited the home page\n",
    "## Mobile user has better final purchase rate"
   ]
  },
  {
   "cell_type": "code",
   "execution_count": 158,
   "metadata": {},
   "outputs": [
    {
     "data": {
      "text/plain": [
       "0    0.334071\n",
       "Name: conversion, dtype: float64"
      ]
     },
     "execution_count": 158,
     "metadata": {},
     "output_type": "execute_result"
    }
   ],
   "source": [
    "funnel_prep.loc[(funnel_prep['device'] == 'Mobile') & (funnel_prep['funnel'] == 'funnel1'),'conversion']"
   ]
  },
  {
   "cell_type": "code",
   "execution_count": 206,
   "metadata": {
    "scrolled": false
   },
   "outputs": [
    {
     "name": "stdout",
     "output_type": "stream",
     "text": [
      "[0.334070796460177]\n",
      "[0.334070796460177]\n",
      "[0.334070796460177]\n",
      "[0.1670353982300885]\n",
      "[0.1670353982300885]\n",
      "[0.0334070796460177]\n",
      "[0.0334070796460177]\n",
      "[0.00334070796460177]\n",
      "[0.665929203539823]\n",
      "[0.665929203539823]\n",
      "[0.665929203539823]\n",
      "[0.3329646017699115]\n",
      "[0.3329646017699115]\n",
      "[0.03329646017699115]\n",
      "[0.03329646017699115]\n",
      "[0.00165929203539823]\n"
     ]
    },
    {
     "data": {
      "text/plain": [
       "0    1.000000\n",
       "1    0.500000\n",
       "2    0.200000\n",
       "3    0.100000\n",
       "0    1.000000\n",
       "1    0.500000\n",
       "2    0.100000\n",
       "3    0.049834\n",
       "Name: retention, dtype: float64"
      ]
     },
     "execution_count": 206,
     "metadata": {},
     "output_type": "execute_result"
    }
   ],
   "source": [
    "for i in funnel_prep.device.unique():\n",
    "    j_pre = 'funnel1'\n",
    "    for j in funnel_prep.funnel.unique():         \n",
    "        funnel_prep.loc[(funnel_prep['device'] == i) & (funnel_prep['funnel'] == j), 'conversion']\n",
    "        funnel_prep.loc[(funnel_prep['device'] == i) & (funnel_prep['funnel'] == j), 'retention'] = \\\n",
    "        funnel_prep.loc[(funnel_prep['device'] == i) & (funnel_prep['funnel'] == j), 'conversion']\\\n",
    "        .tolist()[0]/funnel_prep.loc[(funnel_prep['device'] == i) & (funnel_prep['funnel'] == j_pre), 'conversion']\\\n",
    "        .tolist()[0]\n",
    "        print(funnel_prep.loc[(funnel_prep['device'] == i) & (funnel_prep['funnel'] == j_pre), 'conversion'].tolist())\n",
    "        print(funnel_prep.loc[(funnel_prep['device'] == i) & (funnel_prep['funnel'] == j), 'conversion'].tolist())\n",
    "        j_pre = j\n",
    "\n",
    "funnel_prep.retention"
   ]
  },
  {
   "cell_type": "code",
   "execution_count": 207,
   "metadata": {
    "scrolled": false
   },
   "outputs": [
    {
     "data": {
      "text/plain": [
       "<matplotlib.axes._subplots.AxesSubplot at 0x274ad26c8d0>"
      ]
     },
     "execution_count": 207,
     "metadata": {},
     "output_type": "execute_result"
    },
    {
     "data": {
      "image/png": "[encoded data removed]",
      "text/plain": [
       "<Figure size 864x864 with 1 Axes>"
      ]
     },
     "metadata": {
      "needs_background": "light"
     },
     "output_type": "display_data"
    }
   ],
   "source": [
    "plt.figure(figsize=(12,12))\n",
    "sns.barplot(x='funnel', y='retention', hue='device', data=funnel_prep)\n",
    "plt.title('retention rate through different funnel levels')"
   ]
  },
  {
   "cell_type": "markdown",
   "metadata": {},
   "source": [
    "## The Mobile and Desktop users have similar retention rate through the first two funnels. Howeve the Mobile has almost doubled retention rate in the later funnels: from search paget to payment page and from payment page to payment confirm page."
   ]
  },
  {
   "cell_type": "code",
   "execution_count": 117,
   "metadata": {
    "collapsed": true
   },
   "outputs": [
    {
     "name": "stdout",
     "output_type": "stream",
     "text": [
      "Funnel conversion rate for Female customers:\n",
      " funnel1    0.498617\n",
      "funnel2    0.250841\n",
      "funnel3    0.034292\n",
      "funnel4    0.002666\n",
      "dtype: float64\n",
      "Funnel conversion rate for Male customers:\n",
      " funnel1    0.501383\n",
      "funnel2    0.249159\n",
      "funnel3    0.032412\n",
      "funnel4    0.002334\n",
      "dtype: float64\n"
     ]
    }
   ],
   "source": [
    "funnel = {}\n",
    "for each in merge_table.sex.unique():\n",
    "    funnel[each] = merge_table[merge_table.sex == each][['funnel1','funnel2','funnel3','funnel4']].count()/merge_table.user_id.count()\n",
    "    print('Funnel conversion rate for', each, 'customers:\\n',merge_table[merge_table.sex == each][['funnel1','funnel2','funnel3','funnel4']].count()/merge_table.user_id.count())\n",
    "    "
   ]
  },
  {
   "cell_type": "code",
   "execution_count": 118,
   "metadata": {},
   "outputs": [],
   "source": [
    "funnelm_prep=pd.DataFrame({'funnel':funnel['Female'].index,'conversion':funnel['Female'].values, 'sex': 'Female'})\n",
    "funneld_prep=pd.DataFrame({'funnel':funnel['Male'].index,'conversion':funnel['Male'].values, 'sex': 'Male'})"
   ]
  },
  {
   "cell_type": "code",
   "execution_count": 119,
   "metadata": {},
   "outputs": [],
   "source": [
    "temp = [funnelm_prep, funneld_prep]\n",
    "funnel_prep=pd.concat(temp)"
   ]
  },
  {
   "cell_type": "code",
   "execution_count": 120,
   "metadata": {},
   "outputs": [
    {
     "data": {
      "image/png": "[encoded data removed]",
      "text/plain": [
       "<Figure size 864x1152 with 1 Axes>"
      ]
     },
     "metadata": {
      "needs_background": "light"
     },
     "output_type": "display_data"
    }
   ],
   "source": [
    "plt.figure(figsize=(12,16))\n",
    "splot = sns.barplot(x='funnel', y='conversion', hue='sex', data=funnel_prep)\n",
    "for each in splot.patches:\n",
    "    splot.annotate(format(each.get_height(), '.4f'), (each.get_x() + each.get_width()/4, each.get_height()+0.01))"
   ]
  },
  {
   "cell_type": "markdown",
   "metadata": {},
   "source": [
    "## The customer gender is uniformly distributed through different funnel stage"
   ]
  },
  {
   "cell_type": "code",
   "execution_count": 123,
   "metadata": {},
   "outputs": [],
   "source": [
    "throughput=merge_table.loc[merge_table['funnel4'].notna()]"
   ]
  },
  {
   "cell_type": "code",
   "execution_count": 126,
   "metadata": {},
   "outputs": [
    {
     "name": "stdout",
     "output_type": "stream",
     "text": [
      "<class 'pandas.core.frame.DataFrame'>\n",
      "Int64Index: 452 entries, 61 to 90343\n",
      "Data columns (total 8 columns):\n",
      "user_id    452 non-null int64\n",
      "date       452 non-null object\n",
      "device     452 non-null object\n",
      "sex        452 non-null object\n",
      "funnel1    452 non-null object\n",
      "funnel2    452 non-null object\n",
      "funnel3    452 non-null object\n",
      "funnel4    452 non-null object\n",
      "dtypes: int64(1), object(7)\n",
      "memory usage: 31.8+ KB\n"
     ]
    }
   ],
   "source": [
    "throughput.info()"
   ]
  },
  {
   "cell_type": "code",
   "execution_count": 129,
   "metadata": {},
   "outputs": [
    {
     "data": {
      "text/plain": [
       "452"
      ]
     },
     "execution_count": 129,
     "metadata": {},
     "output_type": "execute_result"
    }
   ],
   "source": [
    "len(throughput.user_id.unique())"
   ]
  },
  {
   "cell_type": "markdown",
   "metadata": {},
   "source": [
    "## There is no repeated user_id in the list\n",
    "## let's take a look of the relationship between date and the conversion rate on the day"
   ]
  },
  {
   "cell_type": "code",
   "execution_count": 134,
   "metadata": {},
   "outputs": [],
   "source": [
    "date_group=throughput.groupby(['date'])['user_id'].count()"
   ]
  },
  {
   "cell_type": "code",
   "execution_count": 148,
   "metadata": {},
   "outputs": [
    {
     "data": {
      "text/plain": [
       "<matplotlib.legend.Legend at 0x274b0d20cf8>"
      ]
     },
     "execution_count": 148,
     "metadata": {},
     "output_type": "execute_result"
    },
    {
     "data": {
      "image/png": "[encoded data removed]",
      "text/plain": [
       "<Figure size 1152x1152 with 1 Axes>"
      ]
     },
     "metadata": {
      "needs_background": "light"
     },
     "output_type": "display_data"
    }
   ],
   "source": [
    "import matplotlib.ticker as ticker\n",
    "\n",
    "plt.figure(figsize=(16,16))\n",
    "ma_10 = date_group.rolling(window=10).mean()\n",
    "ma_30 = date_group.rolling(window=30).mean()\n",
    "ax=sns.lineplot(data=date_group, label='data')\n",
    "sns.lineplot(data=ma_10, label='SMA 10 days')\n",
    "sns.lineplot(data=ma_30, label='SMA 30 days')\n",
    "ax.xaxis.set_major_locator(ticker.MultipleLocator(10))\n",
    "plt.legend(loc=2)"
   ]
  },
  {
   "cell_type": "markdown",
   "metadata": {},
   "source": [
    "## We see an over all conversion drop after about 2 months, i.e. from 2015-3 on."
   ]
  },
  {
   "cell_type": "code",
   "execution_count": 222,
   "metadata": {
    "scrolled": true
   },
   "outputs": [
    {
     "name": "stderr",
     "output_type": "stream",
     "text": [
      "b:\\program files\\phthon\\lib\\site-packages\\ipykernel_launcher.py:1: SettingWithCopyWarning: \n",
      "A value is trying to be set on a copy of a slice from a DataFrame.\n",
      "Try using .loc[row_indexer,col_indexer] = value instead\n",
      "\n",
      "See the caveats in the documentation: http://pandas.pydata.org/pandas-docs/stable/indexing.html#indexing-view-versus-copy\n",
      "  \"\"\"Entry point for launching an IPython kernel.\n",
      "b:\\program files\\phthon\\lib\\site-packages\\ipykernel_launcher.py:2: SettingWithCopyWarning: \n",
      "A value is trying to be set on a copy of a slice from a DataFrame.\n",
      "Try using .loc[row_indexer,col_indexer] = value instead\n",
      "\n",
      "See the caveats in the documentation: http://pandas.pydata.org/pandas-docs/stable/indexing.html#indexing-view-versus-copy\n",
      "  \n",
      "b:\\program files\\phthon\\lib\\site-packages\\ipykernel_launcher.py:3: SettingWithCopyWarning: \n",
      "A value is trying to be set on a copy of a slice from a DataFrame.\n",
      "Try using .loc[row_indexer,col_indexer] = value instead\n",
      "\n",
      "See the caveats in the documentation: http://pandas.pydata.org/pandas-docs/stable/indexing.html#indexing-view-versus-copy\n",
      "  This is separate from the ipykernel package so we can avoid doing imports until\n"
     ]
    },
    {
     "data": {
      "text/html": [
       "<div>\n",
       "<style scoped>\n",
       "    .dataframe tbody tr th:only-of-type {\n",
       "        vertical-align: middle;\n",
       "    }\n",
       "\n",
       "    .dataframe tbody tr th {\n",
       "        vertical-align: top;\n",
       "    }\n",
       "\n",
       "    .dataframe thead th {\n",
       "        text-align: right;\n",
       "    }\n",
       "</style>\n",
       "<table border=\"1\" class=\"dataframe\">\n",
       "  <thead>\n",
       "    <tr style=\"text-align: right;\">\n",
       "      <th></th>\n",
       "      <th>user_id</th>\n",
       "      <th>date</th>\n",
       "      <th>device</th>\n",
       "      <th>sex</th>\n",
       "      <th>funnel1</th>\n",
       "      <th>funnel2</th>\n",
       "      <th>funnel3</th>\n",
       "      <th>funnel4</th>\n",
       "      <th>week</th>\n",
       "      <th>day</th>\n",
       "      <th>dayofweek</th>\n",
       "    </tr>\n",
       "  </thead>\n",
       "  <tbody>\n",
       "    <tr>\n",
       "      <th>44226</th>\n",
       "      <td>287132</td>\n",
       "      <td>2015-03-08</td>\n",
       "      <td>Mobile</td>\n",
       "      <td>Female</td>\n",
       "      <td>home_page</td>\n",
       "      <td>search_page</td>\n",
       "      <td>payment_page</td>\n",
       "      <td>payment_confirmation_page</td>\n",
       "      <td>10</td>\n",
       "      <td>8</td>\n",
       "      <td>6</td>\n",
       "    </tr>\n",
       "    <tr>\n",
       "      <th>46728</th>\n",
       "      <td>971840</td>\n",
       "      <td>2015-04-27</td>\n",
       "      <td>Mobile</td>\n",
       "      <td>Female</td>\n",
       "      <td>home_page</td>\n",
       "      <td>search_page</td>\n",
       "      <td>payment_page</td>\n",
       "      <td>payment_confirmation_page</td>\n",
       "      <td>18</td>\n",
       "      <td>27</td>\n",
       "      <td>0</td>\n",
       "    </tr>\n",
       "    <tr>\n",
       "      <th>46388</th>\n",
       "      <td>409001</td>\n",
       "      <td>2015-02-17</td>\n",
       "      <td>Desktop</td>\n",
       "      <td>Female</td>\n",
       "      <td>home_page</td>\n",
       "      <td>search_page</td>\n",
       "      <td>payment_page</td>\n",
       "      <td>payment_confirmation_page</td>\n",
       "      <td>8</td>\n",
       "      <td>17</td>\n",
       "      <td>1</td>\n",
       "    </tr>\n",
       "    <tr>\n",
       "      <th>8656</th>\n",
       "      <td>622779</td>\n",
       "      <td>2015-02-14</td>\n",
       "      <td>Mobile</td>\n",
       "      <td>Female</td>\n",
       "      <td>home_page</td>\n",
       "      <td>search_page</td>\n",
       "      <td>payment_page</td>\n",
       "      <td>payment_confirmation_page</td>\n",
       "      <td>7</td>\n",
       "      <td>14</td>\n",
       "      <td>5</td>\n",
       "    </tr>\n",
       "    <tr>\n",
       "      <th>34541</th>\n",
       "      <td>812258</td>\n",
       "      <td>2015-01-19</td>\n",
       "      <td>Mobile</td>\n",
       "      <td>Female</td>\n",
       "      <td>home_page</td>\n",
       "      <td>search_page</td>\n",
       "      <td>payment_page</td>\n",
       "      <td>payment_confirmation_page</td>\n",
       "      <td>4</td>\n",
       "      <td>19</td>\n",
       "      <td>0</td>\n",
       "    </tr>\n",
       "  </tbody>\n",
       "</table>\n",
       "</div>"
      ],
      "text/plain": [
       "       user_id       date   device     sex    funnel1      funnel2  \\\n",
       "44226   287132 2015-03-08   Mobile  Female  home_page  search_page   \n",
       "46728   971840 2015-04-27   Mobile  Female  home_page  search_page   \n",
       "46388   409001 2015-02-17  Desktop  Female  home_page  search_page   \n",
       "8656    622779 2015-02-14   Mobile  Female  home_page  search_page   \n",
       "34541   812258 2015-01-19   Mobile  Female  home_page  search_page   \n",
       "\n",
       "            funnel3                    funnel4  week  day  dayofweek  \n",
       "44226  payment_page  payment_confirmation_page    10    8          6  \n",
       "46728  payment_page  payment_confirmation_page    18   27          0  \n",
       "46388  payment_page  payment_confirmation_page     8   17          1  \n",
       "8656   payment_page  payment_confirmation_page     7   14          5  \n",
       "34541  payment_page  payment_confirmation_page     4   19          0  "
      ]
     },
     "execution_count": 222,
     "metadata": {},
     "output_type": "execute_result"
    }
   ],
   "source": [
    "throughput['date'] = pd.to_datetime(throughput['date'])\n",
    "throughput['week'] = throughput['date'].dt.week\n",
    "throughput['dayofweek'] = throughput['date'].dt.dayofweek\n",
    "throughput.sample(5)"
   ]
  },
  {
   "cell_type": "code",
   "execution_count": 223,
   "metadata": {},
   "outputs": [
    {
     "data": {
      "text/plain": [
       "Text(0.5, 1.0, 'throughput count per week')"
      ]
     },
     "execution_count": 223,
     "metadata": {},
     "output_type": "execute_result"
    },
    {
     "data": {
      "image/png": "[encoded data removed]",
      "text/plain": [
       "<Figure size 1152x1152 with 1 Axes>"
      ]
     },
     "metadata": {
      "needs_background": "light"
     },
     "output_type": "display_data"
    }
   ],
   "source": [
    "plt.figure(figsize=(16,16))\n",
    "sns.countplot(throughput.week)\n",
    "plt.title('throughput count per week')"
   ]
  },
  {
   "cell_type": "code",
   "execution_count": 224,
   "metadata": {},
   "outputs": [
    {
     "data": {
      "text/plain": [
       "Text(0.5, 1.0, 'throughput count per dayofweek')"
      ]
     },
     "execution_count": 224,
     "metadata": {},
     "output_type": "execute_result"
    },
    {
     "data": {
      "image/png": "[encoded data removed]",
      "text/plain": [
       "<Figure size 1152x1152 with 1 Axes>"
      ]
     },
     "metadata": {
      "needs_background": "light"
     },
     "output_type": "display_data"
    }
   ],
   "source": [
    "plt.figure(figsize=(16,16))\n",
    "sns.countplot(throughput.dayofweek)\n",
    "plt.title('throughput count per dayofweek')"
   ]
  },
  {
   "cell_type": "markdown",
   "metadata": {},
   "source": [
    "## There is no obvious trend and cycles in the overall conversion rate in terms of week and day of week."
   ]
  },
  {
   "cell_type": "markdown",
   "metadata": {},
   "source": [
    "## To sum up:\n",
    "1, The conversion rate has drop significantly after 2015-3, need to dig deep on what has changed after that date.\n",
    "2, The overall conversion rate on Mobile devices is much higher than on Desktops especially after search page funnel, need to either improve the user experience on Desktop or increase the traffic on the Mobile devices."
   ]
  },
  {
   "cell_type": "code",
   "execution_count": null,
   "metadata": {},
   "outputs": [],
   "source": []
  }
 ],
 "metadata": {
  "kernelspec": {
   "display_name": "Python 3",
   "language": "python",
   "name": "python3"
  },
  "language_info": {
   "codemirror_mode": {
    "name": "ipython",
    "version": 3
   },
   "file_extension": ".py",
   "mimetype": "text/x-python",
   "name": "python",
   "nbconvert_exporter": "python",
   "pygments_lexer": "ipython3",
   "version": "3.7.0"
  }
 },
 "nbformat": 4,
 "nbformat_minor": 4
}
