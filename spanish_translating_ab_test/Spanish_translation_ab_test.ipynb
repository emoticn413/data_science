{
 "cells": [
  {
   "cell_type": "markdown",
   "metadata": {},
   "source": [
    "# Spanish Translation A/B Test\n",
    "\n",
    "## Goal\n",
    "A/B tests play a huge role in website optimization. Analyzing A/B tests data is a very important\n",
    "data scientist responsibility. Especially, data scientists have to make sure that results are\n",
    "reliable, trustworthy, and conclusions can be drawn.\n",
    "Furthermore, companies often run tens, if not hundreds, of A/B tests at the same time. Manually\n",
    "analyzing all of them would require lot of time and people. Therefore, it is common practice to\n",
    "look at the typical A/B test analysis steps and try to automate as much as possible. This frees\n",
    "up time for the data scientists to work on more high level topics.\n",
    "In this challenge, you will have to analyze results from an A/B test. Also, you will be asked to\n",
    "design an algorithm to automate some steps.\n",
    "## Challenge Description\n",
    "Company XYZ is a worldwide e-commerce site with localized versions of the site.\n",
    "\n",
    "A data scientist at XYZ noticed that Spain-based users have a much higher conversion rate than\n",
    "any other Spanish-speaking country. She therefore went and talked to the international team in\n",
    "charge of Spain And LatAm to see if they had any ideas about why that was happening.\n",
    "\n",
    "Spain and LatAm country manager suggested that one reason could be translation. All Spanishspeaking\n",
    "countries had the same translation of the site which was written by a Spaniard. They\n",
    "agreed to try a test where each country would have its one translation written by a local. That is,\n",
    "Argentinian users would see a translation written by an Argentinian, Mexican users by a Mexican\n",
    "and so on. Obviously, nothing would change for users from Spain.\n",
    "After they run the test however, they are really surprised cause the test is negative. I.e., it\n",
    "appears that the non-localized translation was doing better!\n",
    "You are asked to:\n",
    "\n",
    "Confirm that the test is actually negative. That is, it appears that the old version of the\n",
    "site with just one translation across Spain and LatAm performs better\n",
    "Explain why that might be happening. Are the localized translations really worse?\n",
    "7\n",
    "If you identified what was wrong, design an algorithm that would return FALSE if the\n",
    "same problem is happening in the future and TRUE if everything is good and the results\n",
    "can be trusted."
   ]
  },
  {
   "cell_type": "markdown",
   "metadata": {},
   "source": [
    "## In this test, we are defining a one tailed Null hypothesis(H0): The test group performs better than or equally good as the control group. Alternative hypothesis(H1): The test group performs worse than the control group."
   ]
  },
  {
   "cell_type": "code",
   "execution_count": 1,
   "metadata": {},
   "outputs": [],
   "source": [
    "import numpy as np\n",
    "import pandas as pd\n",
    "import matplotlib.pyplot as plt\n",
    "import seaborn as sns\n",
    "import time\n",
    "\n",
    "from sklearn.preprocessing import OneHotEncoder, LabelEncoder, StandardScaler\n",
    "from sklearn import linear_model, preprocessing, tree, model_selection\n",
    "from sklearn.model_selection import cross_val_score, train_test_split\n",
    "from sklearn.naive_bayes import GaussianNB\n",
    "from sklearn.svm import SVC\n",
    "from sklearn.neural_network import MLPClassifier\n",
    "from sklearn.ensemble import AdaBoostClassifier, RandomForestClassifier, VotingClassifier, RandomForestRegressor, BaggingClassifier"
   ]
  },
  {
   "cell_type": "code",
   "execution_count": 2,
   "metadata": {},
   "outputs": [],
   "source": [
    "test_table = pd.read_csv('test_table.csv')"
   ]
  },
  {
   "cell_type": "code",
   "execution_count": 3,
   "metadata": {},
   "outputs": [],
   "source": [
    "user_table = pd.read_csv('user_table.csv')"
   ]
  },
  {
   "cell_type": "code",
   "execution_count": 4,
   "metadata": {},
   "outputs": [],
   "source": [
    "merge_table = pd.merge(test_table, user_table, on='user_id')"
   ]
  },
  {
   "cell_type": "code",
   "execution_count": 5,
   "metadata": {},
   "outputs": [
    {
     "data": {
      "text/html": [
       "<div>\n",
       "<style scoped>\n",
       "    .dataframe tbody tr th:only-of-type {\n",
       "        vertical-align: middle;\n",
       "    }\n",
       "\n",
       "    .dataframe tbody tr th {\n",
       "        vertical-align: top;\n",
       "    }\n",
       "\n",
       "    .dataframe thead th {\n",
       "        text-align: right;\n",
       "    }\n",
       "</style>\n",
       "<table border=\"1\" class=\"dataframe\">\n",
       "  <thead>\n",
       "    <tr style=\"text-align: right;\">\n",
       "      <th></th>\n",
       "      <th>user_id</th>\n",
       "      <th>date</th>\n",
       "      <th>source</th>\n",
       "      <th>device</th>\n",
       "      <th>browser_language</th>\n",
       "      <th>ads_channel</th>\n",
       "      <th>browser</th>\n",
       "      <th>conversion</th>\n",
       "      <th>test</th>\n",
       "      <th>sex</th>\n",
       "      <th>age</th>\n",
       "      <th>country</th>\n",
       "    </tr>\n",
       "  </thead>\n",
       "  <tbody>\n",
       "    <tr>\n",
       "      <th>58904</th>\n",
       "      <td>857984</td>\n",
       "      <td>2015-12-02</td>\n",
       "      <td>Ads</td>\n",
       "      <td>Web</td>\n",
       "      <td>ES</td>\n",
       "      <td>Google</td>\n",
       "      <td>Chrome</td>\n",
       "      <td>0</td>\n",
       "      <td>1</td>\n",
       "      <td>M</td>\n",
       "      <td>20</td>\n",
       "      <td>Mexico</td>\n",
       "    </tr>\n",
       "  </tbody>\n",
       "</table>\n",
       "</div>"
      ],
      "text/plain": [
       "       user_id        date source device browser_language ads_channel browser  \\\n",
       "58904   857984  2015-12-02    Ads    Web               ES      Google  Chrome   \n",
       "\n",
       "       conversion  test sex  age country  \n",
       "58904           0     1   M   20  Mexico  "
      ]
     },
     "execution_count": 5,
     "metadata": {},
     "output_type": "execute_result"
    }
   ],
   "source": [
    "merge_table.sample()"
   ]
  },
  {
   "cell_type": "code",
   "execution_count": 6,
   "metadata": {},
   "outputs": [
    {
     "name": "stdout",
     "output_type": "stream",
     "text": [
      "<class 'pandas.core.frame.DataFrame'>\n",
      "Int64Index: 452867 entries, 0 to 452866\n",
      "Data columns (total 12 columns):\n",
      " #   Column            Non-Null Count   Dtype \n",
      "---  ------            --------------   ----- \n",
      " 0   user_id           452867 non-null  int64 \n",
      " 1   date              452867 non-null  object\n",
      " 2   source            452867 non-null  object\n",
      " 3   device            452867 non-null  object\n",
      " 4   browser_language  452867 non-null  object\n",
      " 5   ads_channel       181693 non-null  object\n",
      " 6   browser           452867 non-null  object\n",
      " 7   conversion        452867 non-null  int64 \n",
      " 8   test              452867 non-null  int64 \n",
      " 9   sex               452867 non-null  object\n",
      " 10  age               452867 non-null  int64 \n",
      " 11  country           452867 non-null  object\n",
      "dtypes: int64(4), object(8)\n",
      "memory usage: 44.9+ MB\n"
     ]
    }
   ],
   "source": [
    "merge_table.info()"
   ]
  },
  {
   "cell_type": "code",
   "execution_count": 7,
   "metadata": {},
   "outputs": [
    {
     "data": {
      "text/html": [
       "<div>\n",
       "<style scoped>\n",
       "    .dataframe tbody tr th:only-of-type {\n",
       "        vertical-align: middle;\n",
       "    }\n",
       "\n",
       "    .dataframe tbody tr th {\n",
       "        vertical-align: top;\n",
       "    }\n",
       "\n",
       "    .dataframe thead th {\n",
       "        text-align: right;\n",
       "    }\n",
       "</style>\n",
       "<table border=\"1\" class=\"dataframe\">\n",
       "  <thead>\n",
       "    <tr style=\"text-align: right;\">\n",
       "      <th></th>\n",
       "      <th>user_id</th>\n",
       "      <th>conversion</th>\n",
       "      <th>test</th>\n",
       "      <th>age</th>\n",
       "    </tr>\n",
       "  </thead>\n",
       "  <tbody>\n",
       "    <tr>\n",
       "      <th>count</th>\n",
       "      <td>452867.000000</td>\n",
       "      <td>452867.000000</td>\n",
       "      <td>452867.000000</td>\n",
       "      <td>452867.000000</td>\n",
       "    </tr>\n",
       "    <tr>\n",
       "      <th>mean</th>\n",
       "      <td>499944.805166</td>\n",
       "      <td>0.049560</td>\n",
       "      <td>0.476462</td>\n",
       "      <td>27.130740</td>\n",
       "    </tr>\n",
       "    <tr>\n",
       "      <th>std</th>\n",
       "      <td>288676.264784</td>\n",
       "      <td>0.217034</td>\n",
       "      <td>0.499446</td>\n",
       "      <td>6.776678</td>\n",
       "    </tr>\n",
       "    <tr>\n",
       "      <th>min</th>\n",
       "      <td>1.000000</td>\n",
       "      <td>0.000000</td>\n",
       "      <td>0.000000</td>\n",
       "      <td>18.000000</td>\n",
       "    </tr>\n",
       "    <tr>\n",
       "      <th>25%</th>\n",
       "      <td>249819.000000</td>\n",
       "      <td>0.000000</td>\n",
       "      <td>0.000000</td>\n",
       "      <td>22.000000</td>\n",
       "    </tr>\n",
       "    <tr>\n",
       "      <th>50%</th>\n",
       "      <td>500019.000000</td>\n",
       "      <td>0.000000</td>\n",
       "      <td>0.000000</td>\n",
       "      <td>26.000000</td>\n",
       "    </tr>\n",
       "    <tr>\n",
       "      <th>75%</th>\n",
       "      <td>749543.000000</td>\n",
       "      <td>0.000000</td>\n",
       "      <td>1.000000</td>\n",
       "      <td>31.000000</td>\n",
       "    </tr>\n",
       "    <tr>\n",
       "      <th>max</th>\n",
       "      <td>1000000.000000</td>\n",
       "      <td>1.000000</td>\n",
       "      <td>1.000000</td>\n",
       "      <td>70.000000</td>\n",
       "    </tr>\n",
       "  </tbody>\n",
       "</table>\n",
       "</div>"
      ],
      "text/plain": [
       "              user_id     conversion           test            age\n",
       "count   452867.000000  452867.000000  452867.000000  452867.000000\n",
       "mean    499944.805166       0.049560       0.476462      27.130740\n",
       "std     288676.264784       0.217034       0.499446       6.776678\n",
       "min          1.000000       0.000000       0.000000      18.000000\n",
       "25%     249819.000000       0.000000       0.000000      22.000000\n",
       "50%     500019.000000       0.000000       0.000000      26.000000\n",
       "75%     749543.000000       0.000000       1.000000      31.000000\n",
       "max    1000000.000000       1.000000       1.000000      70.000000"
      ]
     },
     "execution_count": 7,
     "metadata": {},
     "output_type": "execute_result"
    }
   ],
   "source": [
    "merge_table.describe()"
   ]
  },
  {
   "cell_type": "markdown",
   "metadata": {},
   "source": [
    "Summary:\n",
    "average conversion for all groups: 0.0496\n",
    "test group/control group ratio: 0.476\n",
    "average age: 27.131"
   ]
  },
  {
   "cell_type": "code",
   "execution_count": 8,
   "metadata": {
    "scrolled": true
   },
   "outputs": [
    {
     "data": {
      "text/html": [
       "<div>\n",
       "<style scoped>\n",
       "    .dataframe tbody tr th:only-of-type {\n",
       "        vertical-align: middle;\n",
       "    }\n",
       "\n",
       "    .dataframe tbody tr th {\n",
       "        vertical-align: top;\n",
       "    }\n",
       "\n",
       "    .dataframe thead th {\n",
       "        text-align: right;\n",
       "    }\n",
       "</style>\n",
       "<table border=\"1\" class=\"dataframe\">\n",
       "  <thead>\n",
       "    <tr style=\"text-align: right;\">\n",
       "      <th></th>\n",
       "      <th>source</th>\n",
       "      <th>device</th>\n",
       "      <th>browser_language</th>\n",
       "      <th>ads_channel</th>\n",
       "      <th>browser</th>\n",
       "      <th>sex</th>\n",
       "      <th>country</th>\n",
       "    </tr>\n",
       "  </thead>\n",
       "  <tbody>\n",
       "    <tr>\n",
       "      <th>count</th>\n",
       "      <td>452867</td>\n",
       "      <td>452867</td>\n",
       "      <td>452867</td>\n",
       "      <td>181693</td>\n",
       "      <td>452867</td>\n",
       "      <td>452867</td>\n",
       "      <td>452867</td>\n",
       "    </tr>\n",
       "    <tr>\n",
       "      <th>unique</th>\n",
       "      <td>3</td>\n",
       "      <td>2</td>\n",
       "      <td>3</td>\n",
       "      <td>5</td>\n",
       "      <td>7</td>\n",
       "      <td>2</td>\n",
       "      <td>17</td>\n",
       "    </tr>\n",
       "    <tr>\n",
       "      <th>top</th>\n",
       "      <td>Ads</td>\n",
       "      <td>Web</td>\n",
       "      <td>ES</td>\n",
       "      <td>Facebook</td>\n",
       "      <td>Android_App</td>\n",
       "      <td>M</td>\n",
       "      <td>Mexico</td>\n",
       "    </tr>\n",
       "    <tr>\n",
       "      <th>freq</th>\n",
       "      <td>181693</td>\n",
       "      <td>251316</td>\n",
       "      <td>377160</td>\n",
       "      <td>68358</td>\n",
       "      <td>154977</td>\n",
       "      <td>264485</td>\n",
       "      <td>128484</td>\n",
       "    </tr>\n",
       "  </tbody>\n",
       "</table>\n",
       "</div>"
      ],
      "text/plain": [
       "        source  device browser_language ads_channel      browser     sex  \\\n",
       "count   452867  452867           452867      181693       452867  452867   \n",
       "unique       3       2                3           5            7       2   \n",
       "top        Ads     Web               ES    Facebook  Android_App       M   \n",
       "freq    181693  251316           377160       68358       154977  264485   \n",
       "\n",
       "       country  \n",
       "count   452867  \n",
       "unique      17  \n",
       "top     Mexico  \n",
       "freq    128484  "
      ]
     },
     "execution_count": 8,
     "metadata": {},
     "output_type": "execute_result"
    }
   ],
   "source": [
    "merge_table[['source', 'device', 'browser_language', 'ads_channel', 'browser', 'sex', 'country']].describe()"
   ]
  },
  {
   "cell_type": "code",
   "execution_count": 9,
   "metadata": {},
   "outputs": [
    {
     "data": {
      "text/plain": [
       "[181693, 180436, 90738]"
      ]
     },
     "execution_count": 9,
     "metadata": {},
     "output_type": "execute_result"
    }
   ],
   "source": [
    "merge_table['source'].value_counts().tolist()"
   ]
  },
  {
   "cell_type": "code",
   "execution_count": 10,
   "metadata": {},
   "outputs": [
    {
     "name": "stdout",
     "output_type": "stream",
     "text": [
      "Ads       0.401206\n",
      "SEO       0.398430\n",
      "Direct    0.200363\n",
      "Name: source, dtype: float64\n",
      "Web       0.554944\n",
      "Mobile    0.445056\n",
      "Name: device, dtype: float64\n",
      "ES       0.832827\n",
      "EN       0.139288\n",
      "Other    0.027885\n",
      "Name: browser_language, dtype: float64\n",
      "Facebook    0.376228\n",
      "Google      0.374880\n",
      "Yahoo       0.150853\n",
      "Bing        0.075237\n",
      "Other       0.022802\n",
      "Name: ads_channel, dtype: float64\n",
      "Android_App    0.342213\n",
      "Chrome         0.224839\n",
      "IE             0.136146\n",
      "Iphone_App     0.102843\n",
      "Safari         0.090607\n",
      "FireFox        0.089918\n",
      "Opera          0.013434\n",
      "Name: browser, dtype: float64\n",
      "M    0.584024\n",
      "F    0.415976\n",
      "Name: sex, dtype: float64\n",
      "Mexico         0.283712\n",
      "Colombia       0.119373\n",
      "Spain          0.114343\n",
      "Argentina      0.103194\n",
      "Peru           0.074340\n",
      "Venezuela      0.070780\n",
      "Chile          0.043582\n",
      "Ecuador        0.035099\n",
      "Guatemala      0.033398\n",
      "Bolivia        0.024564\n",
      "Honduras       0.018919\n",
      "El Salvador    0.018052\n",
      "Paraguay       0.016223\n",
      "Nicaragua      0.014845\n",
      "Costa Rica     0.011723\n",
      "Uruguay        0.009129\n",
      "Panama         0.008724\n",
      "Name: country, dtype: float64\n"
     ]
    }
   ],
   "source": [
    "for col in ['source', 'device', 'browser_language', 'ads_channel', 'browser', 'sex', 'country']:\n",
    "    print(merge_table[col].value_counts()/merge_table[col].count())"
   ]
  },
  {
   "cell_type": "code",
   "execution_count": 11,
   "metadata": {},
   "outputs": [
    {
     "data": {
      "text/plain": [
       "0.04949461913438926"
      ]
     },
     "execution_count": 11,
     "metadata": {},
     "output_type": "execute_result"
    }
   ],
   "source": [
    "merge_table.loc[(merge_table.country == 'Mexico') & (merge_table.test == 0) & (merge_table.conversion == 1), 'conversion'].count()/merge_table.loc[(merge_table.country == 'Mexico') & (merge_table.test == 0), 'conversion'].count()"
   ]
  },
  {
   "cell_type": "code",
   "execution_count": 12,
   "metadata": {
    "scrolled": true
   },
   "outputs": [
    {
     "name": "stdout",
     "output_type": "stream",
     "text": [
      "conversion rate for Spain, with control group is 0.07971882121200417\n",
      "conversion rate for Spain, with test group is nan\n",
      "conversion rate for Mexico, with control group is 0.04949461913438926\n",
      "conversion rate for Mexico, with test group is 0.05118630882924932\n"
     ]
    },
    {
     "name": "stderr",
     "output_type": "stream",
     "text": [
      "b:\\program files\\phthon\\lib\\site-packages\\ipykernel_launcher.py:5: RuntimeWarning: invalid value encountered in long_scalars\n",
      "  \"\"\"\n"
     ]
    },
    {
     "name": "stdout",
     "output_type": "stream",
     "text": [
      "conversion rate for Venezuela, with control group is 0.05034367453093071\n",
      "conversion rate for Venezuela, with test group is 0.04897830870795347\n",
      "conversion rate for Bolivia, with control group is 0.04936936936936937\n",
      "conversion rate for Bolivia, with test group is 0.04790096878363832\n",
      "conversion rate for Colombia, with control group is 0.052089486119314826\n",
      "conversion rate for Colombia, with test group is 0.05057096247960848\n",
      "conversion rate for Uruguay, with control group is 0.012048192771084338\n",
      "conversion rate for Uruguay, with test group is 0.012906695348211886\n",
      "conversion rate for El Salvador, with control group is 0.053554040895813046\n",
      "conversion rate for El Salvador, with test group is 0.04794688959921318\n",
      "conversion rate for Nicaragua, with control group is 0.05264697279906405\n",
      "conversion rate for Nicaragua, with test group is 0.05417675544794189\n",
      "conversion rate for Peru, with control group is 0.04991404351176715\n",
      "conversion rate for Peru, with test group is 0.05060427457284039\n",
      "conversion rate for Costa Rica, with control group is 0.05225563909774436\n",
      "conversion rate for Costa Rica, with test group is 0.05473763684409211\n",
      "conversion rate for Chile, with control group is 0.048107175479549374\n",
      "conversion rate for Chile, with test group is 0.051295022258195065\n",
      "conversion rate for Argentina, with control group is 0.015070542967079948\n",
      "conversion rate for Argentina, with test group is 0.013725018059234288\n",
      "conversion rate for Ecuador, with control group is 0.04915380786460926\n",
      "conversion rate for Ecuador, with test group is 0.04898842091869195\n",
      "conversion rate for Guatemala, with control group is 0.05064287588559433\n",
      "conversion rate for Guatemala, with test group is 0.04864720778355325\n",
      "conversion rate for Honduras, with control group is 0.050905755560651224\n",
      "conversion rate for Honduras, with test group is 0.04753981459472308\n",
      "conversion rate for Paraguay, with control group is 0.048493150684931506\n",
      "conversion rate for Paraguay, with test group is 0.04922910467946984\n",
      "conversion rate for Panama, with control group is 0.04679552390640895\n",
      "conversion rate for Panama, with test group is 0.04937027707808564\n"
     ]
    },
    {
     "data": {
      "text/plain": [
       "<Figure size 1800x648 with 0 Axes>"
      ]
     },
     "metadata": {},
     "output_type": "display_data"
    },
    {
     "data": {
      "image/png": "[encoded data removed]",
      "text/plain": [
       "<Figure size 402.375x360 with 1 Axes>"
      ]
     },
     "metadata": {
      "needs_background": "light"
     },
     "output_type": "display_data"
    }
   ],
   "source": [
    "#Calculate the conversion rate for different countries:\n",
    "testorcontrol = {0: 'control', 1: 'test'}\n",
    "for each in merge_table['country'].unique():\n",
    "    for group in testorcontrol:\n",
    "        convert_rate = merge_table.loc[(merge_table.country == each) & (merge_table.test == group) & (merge_table.conversion == 1), 'conversion'].count()/merge_table.loc[(merge_table.country == each) & (merge_table.test == group), 'conversion'].count()\n",
    "        merge_table.loc[(merge_table.country == each) & (merge_table.test == group), 'convert_rate'] = convert_rate\n",
    "        print('conversion rate for {}, with {} group is {}'.format(each, testorcontrol[group], convert_rate))\n",
    "\n",
    "fig = plt.figure(figsize=(25,9))   \n",
    "sns.catplot(x='country', y='convert_rate', hue='test', data=merge_table, kind='bar', palette='muted')\n",
    "plt.show()"
   ]
  },
  {
   "cell_type": "code",
   "execution_count": 13,
   "metadata": {},
   "outputs": [
    {
     "data": {
      "text/plain": [
       "<Figure size 1800x648 with 0 Axes>"
      ]
     },
     "metadata": {},
     "output_type": "display_data"
    },
    {
     "data": {
      "image/png": "[encoded data removed]",
      "text/plain": [
       "<Figure size 1122.38x360 with 1 Axes>"
      ]
     },
     "metadata": {
      "needs_background": "light"
     },
     "output_type": "display_data"
    }
   ],
   "source": [
    "plt.figure(figsize=(25,9))   \n",
    "sns.catplot(x='country', y='convert_rate', hue='test', data=merge_table, kind='bar', palette='muted', height=5, aspect=3)\n",
    "plt.show()"
   ]
  },
  {
   "cell_type": "markdown",
   "metadata": {},
   "source": [
    "### From the plot above, we see 8 out of 17 countries have improved conversion rate, while 8 out of 17 has worse conversion rate, and Spain has no test group. By counting the improved conversion rate for countries, we don't conclude a worse conversion rate for test group."
   ]
  },
  {
   "cell_type": "code",
   "execution_count": 14,
   "metadata": {},
   "outputs": [
    {
     "name": "stdout",
     "output_type": "stream",
     "text": [
      "Before removing 'spain', the total number of user in control group is 237093, test group is 215774\n",
      "After removing 'spain', the total number of user in control group is 185311, test group is 215774\n",
      "After removing 'spain', the total conversion rate for control group is 0.04829179055749524，for test group is 0.043411161678422794\n"
     ]
    }
   ],
   "source": [
    "##Remove 'Spain' from the table to compare the control and test group.\n",
    "temp_table = merge_table.drop(merge_table.loc[merge_table['country'] == 'Spain'].index)\n",
    "control_conv = temp_table.loc[(temp_table['test'] == 0)&(temp_table['conversion'] == 1),'conversion'].count()/temp_table.loc[(temp_table['test'] == 0),'conversion'].count()\n",
    "test_conv = temp_table.loc[(temp_table['test'] == 1)&(temp_table['conversion'] == 1),'conversion'].count()/temp_table.loc[(temp_table['test'] == 1),'conversion'].count()\n",
    "\n",
    "print('Before removing \\'spain\\', the total number of user in control group is {}, test group is {}'.format(merge_table.loc[(merge_table['test'] == 0),'conversion'].count(), merge_table.loc[(merge_table['test'] == 1),'conversion'].count()))\n",
    "print('After removing \\'spain\\', the total number of user in control group is {}, test group is {}'.format(temp_table.loc[(temp_table['test'] == 0),'conversion'].count(), temp_table.loc[(temp_table['test'] == 1),'conversion'].count()))\n",
    "print('After removing \\'spain\\', the total conversion rate for control group is {}，for test group is {}'.format(control_conv, test_conv))"
   ]
  },
  {
   "cell_type": "markdown",
   "metadata": {},
   "source": [
    "### All users from Spain are in the control group, once we remove the users from Spain, the control and test data are imbalanced!! The total conversion rate for the control group is 0.04829179055749524 is larger than the total conversion rate for the test group is 0.043411161678422794. From this metric, control group is better."
   ]
  },
  {
   "cell_type": "code",
   "execution_count": 15,
   "metadata": {},
   "outputs": [
    {
     "name": "stdout",
     "output_type": "stream",
     "text": [
      "conversion change for Spain is nan\n",
      "conversion change for Mexico is 0.03417926482607676\n",
      "conversion change for Venezuela is -0.02712090119958048\n",
      "conversion change for Bolivia is -0.029743150550391957\n",
      "conversion change for Colombia is -0.02915221003002565\n",
      "conversion change for Uruguay is 0.07125571390158647\n",
      "conversion change for El Salvador is -0.10470080693832817\n",
      "conversion change for Nicaragua is 0.029057371536184814\n",
      "conversion change for Peru is 0.013828394025231047\n",
      "conversion change for Costa Rica is 0.047497223059604514\n",
      "conversion change for Chile is 0.06626551542193249\n",
      "conversion change for Argentina is -0.08928178040995713\n",
      "conversion change for Ecuador is -0.0033646822718772893\n",
      "conversion change for Guatemala is -0.039406689828386625\n",
      "conversion change for Honduras is -0.06612102951537217\n",
      "conversion change for Paraguay is 0.015176452429745102\n",
      "conversion change for Panama is 0.05502135582082975\n"
     ]
    }
   ],
   "source": [
    "##How about we calculate the conversion change for the test group of each countries?\n",
    "for each in merge_table['country'].unique():\n",
    "    convert_change = (merge_table.loc[(merge_table['country'] == each) & (merge_table['test'] == 1), 'convert_rate'].mean() -\\\n",
    "    merge_table.loc[(merge_table['country'] == each) & (merge_table['test'] == 0), 'convert_rate'].mean()) / merge_table.loc\\\n",
    "    [(merge_table['country'] == each) & (merge_table['test'] == 0), 'convert_rate'].mean()\n",
    "    merge_table.loc[(merge_table.country == each), 'convert_change'] = convert_change\n",
    "    print('conversion change for {} is {}'.format(each, convert_change))"
   ]
  },
  {
   "cell_type": "code",
   "execution_count": 16,
   "metadata": {
    "scrolled": true
   },
   "outputs": [
    {
     "data": {
      "image/png": "[encoded data removed]",
      "text/plain": [
       "<Figure size 1800x648 with 1 Axes>"
      ]
     },
     "metadata": {
      "needs_background": "light"
     },
     "output_type": "display_data"
    }
   ],
   "source": [
    "plt.figure(figsize=(25,9))   \n",
    "sns.barplot(x='country', y='convert_change', data=merge_table)\n",
    "plt.show()"
   ]
  },
  {
   "cell_type": "code",
   "execution_count": 17,
   "metadata": {
    "scrolled": true
   },
   "outputs": [
    {
     "name": "stdout",
     "output_type": "stream",
     "text": [
      "conversion change for Spain is nan\n",
      "conversion change for Mexico is 0.03417926482607676\n",
      "conversion change for Venezuela is -0.02712090119958048\n",
      "conversion change for Bolivia is -0.029743150550391957\n",
      "conversion change for Colombia is -0.02915221003002565\n",
      "conversion change for Uruguay is 0.07125571390158647\n",
      "conversion change for El Salvador is -0.10470080693832817\n",
      "conversion change for Nicaragua is 0.029057371536184814\n",
      "conversion change for Peru is 0.013828394025231047\n",
      "conversion change for Costa Rica is 0.047497223059604514\n",
      "conversion change for Chile is 0.06626551542193249\n",
      "conversion change for Argentina is -0.08928178040995713\n",
      "conversion change for Ecuador is -0.0033646822718772893\n",
      "conversion change for Guatemala is -0.039406689828386625\n",
      "conversion change for Honduras is -0.06612102951537217\n",
      "conversion change for Paraguay is 0.015176452429745102\n",
      "conversion change for Panama is 0.05502135582082975\n",
      "[nan, 0.03417926482607676, -0.02712090119958048, -0.029743150550391957, -0.02915221003002565, 0.07125571390158647, -0.10470080693832817, 0.029057371536184814, 0.013828394025231047, 0.047497223059604514, 0.06626551542193249, -0.08928178040995713, -0.0033646822718772893, -0.039406689828386625, -0.06612102951537217, 0.015176452429745102, 0.05502135582082975]\n",
      "-0.05660995972272854\n"
     ]
    }
   ],
   "source": [
    "temp = []\n",
    "for each in merge_table['country'].unique():\n",
    "    convert_change = (merge_table.loc[(merge_table['country'] == each) & (merge_table['test'] == 1), 'convert_rate'].mean() -\\\n",
    "    merge_table.loc[(merge_table['country'] == each) & (merge_table['test'] == 0), 'convert_rate'].mean()) / merge_table.loc\\\n",
    "    [(merge_table['country'] == each) & (merge_table['test'] == 0), 'convert_rate'].mean()\n",
    "    merge_table.loc[(merge_table.country == each), 'convert_change'] = convert_change\n",
    "    temp.append(convert_change)\n",
    "    print('conversion change for {} is {}'.format(each, convert_change))\n",
    "print(temp)\n",
    "print(sum(temp[1:]))"
   ]
  },
  {
   "cell_type": "markdown",
   "metadata": {},
   "source": [
    "### The sum of the convert change is negative, which means the unweighted convert change for the test group is also slightly worse than the control group."
   ]
  },
  {
   "cell_type": "code",
   "execution_count": 18,
   "metadata": {},
   "outputs": [],
   "source": [
    "!jt -t oceans16"
   ]
  },
  {
   "cell_type": "markdown",
   "metadata": {},
   "source": [
    "## From the analysis above, we found the total converted rate for test group is worse. However, there are other insights uncovered:\n",
    "    ### Comparing the test and control groups, we have equal number of countries with improved and degradated conversion rate\n",
    "    ### The control group has much less users comparing to the test group after removing the users from Spain!!\n",
    "    ### The control group has larger overall converted rate comparing to the test group. (0.048 vs 0.043)\n",
    "    ### Without the bias of the number of users from different countries, the sum of the change of convert rate is slightly worse in test group than control group. (-0.057)\n",
    "    ### The three countries with biggest improved conversion are: Uruguay, Chile and Panama.\n",
    "    ### The three countries with biggest worsen conversion are: El Salvador, Argentina and Honduras\n",
    "    With the user distribution, we can find out that we have considerably more users from the countries with biggest worsen conversion rate, therefore the overall conversion rate is negatively affected by those countries.\n",
    "    Mexico         0.283712\n",
    "    Colombia       0.119373\n",
    "    Spain          0.114343\n",
    "    Argentina      0.103194 #\n",
    "    Peru           0.074340\n",
    "    Venezuela      0.070780\n",
    "    Chile          0.043582 *\n",
    "    Ecuador        0.035099\n",
    "    Guatemala      0.033398\n",
    "    Bolivia        0.024564\n",
    "    Honduras       0.018919 #\n",
    "    El Salvador    0.018052 #\n",
    "    Paraguay       0.016223\n",
    "    Nicaragua      0.014845\n",
    "    Costa Rica     0.011723\n",
    "    Uruguay        0.009129 *\n",
    "    Panama         0.008724 *"
   ]
  },
  {
   "cell_type": "markdown",
   "metadata": {},
   "source": [
    "## A/B testing analysis\n",
    "### The Null hypothesis for this A/B test is that the conversion rate for the test group will be better or equal than the control group assuming the confidence level = 95%/significance level = 0.05 for one-sided test, statistical power is 80%. let's gather some data to calculate the practical significance."
   ]
  },
  {
   "cell_type": "code",
   "execution_count": 19,
   "metadata": {},
   "outputs": [
    {
     "name": "stdout",
     "output_type": "stream",
     "text": [
      "total number for control group is 185311, and total converted number for control group is 8949\n"
     ]
    }
   ],
   "source": [
    "total_cont = temp_table.loc[temp_table['test'] == 0, 'conversion'].count()\n",
    "conv_cont = temp_table.loc[(temp_table['test'] == 0)&(temp_table['conversion'] == 1),'conversion'].count()\n",
    "print('total number for control group is {}, and total converted number for control group is {}'.format(total_cont, conv_cont))"
   ]
  },
  {
   "cell_type": "code",
   "execution_count": 20,
   "metadata": {},
   "outputs": [
    {
     "name": "stdout",
     "output_type": "stream",
     "text": [
      "total number for test group is 215774, and total converted number for test group is 9367\n"
     ]
    }
   ],
   "source": [
    "total_test = temp_table.loc[temp_table['test'] == 1, 'conversion'].count()\n",
    "conv_test = temp_table.loc[(temp_table['test'] == 1)&(temp_table['conversion'] == 1),'conversion'].count()\n",
    "print('total number for test group is {}, and total converted number for test group is {}'.format(total_test, conv_test))"
   ]
  },
  {
   "cell_type": "code",
   "execution_count": 21,
   "metadata": {},
   "outputs": [
    {
     "name": "stdout",
     "output_type": "stream",
     "text": [
      "P_pool is 0.04566613062069137, and SE_pool is 0.000661173334549995\n"
     ]
    }
   ],
   "source": [
    "p_pool = (conv_cont + conv_test)/(total_cont + total_test)\n",
    "SE_pool = np.sqrt(p_pool*(1-p_pool)*(1/total_cont + 1/total_test))\n",
    "print('P_pool is {}, and SE_pool is {}'.format(p_pool, SE_pool))"
   ]
  },
  {
   "cell_type": "code",
   "execution_count": 22,
   "metadata": {},
   "outputs": [
    {
     "name": "stdout",
     "output_type": "stream",
     "text": [
      "confidence interal is between -0.005971564881079937 and -0.003789692877064953\n"
     ]
    }
   ],
   "source": [
    "d_hat = conv_test/total_test - conv_cont/total_cont\n",
    "#assume the confidence level(one tailed): 95%  => z=1.65\n",
    "margin = 1.65 * SE_pool\n",
    "#confidence interval = (d_hat - margin, d_hat + margin)\n",
    "conf_int_low = d_hat - margin\n",
    "conf_int_high = d_hat + margin\n",
    "print('confidence interal is between {} and {}'.format(conf_int_low, conf_int_high))"
   ]
  },
  {
   "cell_type": "code",
   "execution_count": 23,
   "metadata": {},
   "outputs": [
    {
     "name": "stdout",
     "output_type": "stream",
     "text": [
      "p_cont is 0.04829179055749524, p_test is 0.043411161678422794\n",
      "SE_cont is 0.000498009883851952, SE_test is 0.0004386961288573613\n",
      "Z score is  -7.353913821211865\n"
     ]
    }
   ],
   "source": [
    "##is the test result significant? here is how we evaluate the result.\n",
    "p_cont = conv_cont/total_cont\n",
    "p_test = conv_test/total_test\n",
    "\n",
    "print('p_cont is {}, p_test is {}'.format(p_cont, p_test))\n",
    "\n",
    "SE_cont = np.sqrt(p_cont*(1-p_cont)/total_cont)\n",
    "SE_test = np.sqrt(p_test*(1-p_test)/total_test)\n",
    "\n",
    "print('SE_cont is {}, SE_test is {}'.format(SE_cont, SE_test))\n",
    "\n",
    "Zscore = (p_test - p_cont)/np.sqrt(SE_cont**2 + SE_test**2)\n",
    "\n",
    "print('Z score is ',Zscore)"
   ]
  },
  {
   "cell_type": "markdown",
   "metadata": {},
   "source": [
    "## Z score of -7.354 at a one-tailed hypothesis with significance level: 0.05 has p-value <0.00001, which rejects the H0, and the result is significant\n",
    "\n",
    "https://www.socscistatistics.com/pvalues/normaldistribution.aspx"
   ]
  },
  {
   "cell_type": "markdown",
   "metadata": {},
   "source": [
    "![jupyter](https://github.com/emoticn413/data_science/blob/master/spanish_translating_ab_test/2_sample_t_test.jpg?raw=true)"
   ]
  },
  {
   "cell_type": "markdown",
   "metadata": {},
   "source": [
    "## Another diagram to show the result: with H0: Control group <= test group, HA: Control group > test group. z_score = -7.354 is much less than -1.65 (the z_score at significance level), which indicates that the result is statistically and practically significant and we can reject our Null hypothesis.\n",
    "\n",
    "https://www.evanmiller.org/ab-testing/t-test.html"
   ]
  },
  {
   "cell_type": "code",
   "execution_count": 24,
   "metadata": {},
   "outputs": [
    {
     "data": {
      "image/png": "[encoded data removed]",
      "text/plain": [
       "<Figure size 1800x648 with 1 Axes>"
      ]
     },
     "metadata": {
      "needs_background": "light"
     },
     "output_type": "display_data"
    }
   ],
   "source": [
    "##dig more about the distribution for the control and test groups\n",
    "plt.figure(figsize=(25,9))   \n",
    "sns.countplot(x='country', data=temp_table.loc[temp_table['test'] == 1], order=temp_table['country'].value_counts().index)\n",
    "plt.title('plot of country vs users for test group')\n",
    "plt.show()"
   ]
  },
  {
   "cell_type": "code",
   "execution_count": 25,
   "metadata": {},
   "outputs": [
    {
     "data": {
      "image/png": "[encoded data removed]",
      "text/plain": [
       "<Figure size 1800x648 with 1 Axes>"
      ]
     },
     "metadata": {
      "needs_background": "light"
     },
     "output_type": "display_data"
    }
   ],
   "source": [
    "##dig more about the distribution for the control and test groups\n",
    "plt.figure(figsize=(25,9))   \n",
    "sns.countplot(x='country', data=temp_table.loc[temp_table['test'] == 0], order=temp_table['country'].value_counts().index)\n",
    "plt.title('plot of country vs users for control group')\n",
    "plt.show()"
   ]
  },
  {
   "cell_type": "markdown",
   "metadata": {},
   "source": [
    "## IS the test group really worse in conversion rate than the control group??\n",
    "# Not necessarily!\n",
    "## The Argentina and Uruguay users has been imbalancedly distributed between the control and test groups!!The Argertina user has a decreased conversion rate while the Uruguay user has an increased conversion rate in the test group comparing to the control group. But the test group has way more Argentina users, which negatively affected the overall conversion rate!!"
   ]
  },
  {
   "cell_type": "code",
   "execution_count": 26,
   "metadata": {},
   "outputs": [
    {
     "name": "stdout",
     "output_type": "stream",
     "text": [
      "Before removing any country grouped users, the total number of user in control group is 237093, test group is 215774\n",
      "After removing 'spain', the total number of user in control group is 185311, test group is 215774\n",
      "After removing 'spain', 'Argentina', 'Uruguay' the total number of user in control group is 175540, test group is 174678\n",
      "After removing 'spain', the total conversion rate for control group is 0.05014811438988265，for test group is 0.050412759477438486\n"
     ]
    }
   ],
   "source": [
    "##test to remove the users from these two countries and calculate the conversion rate:\n",
    "temp2_table = temp_table.drop(temp_table.loc[(temp_table['country'] == 'Argentina') | (temp_table['country'] == 'Uruguay')].index)\n",
    "\n",
    "control_conv2 = temp2_table.loc[(temp2_table['test'] == 0)&(temp2_table['conversion'] == 1),'conversion'].count()/temp2_table.loc[(temp2_table['test'] == 0),'conversion'].count()\n",
    "test_conv2 = temp2_table.loc[(temp2_table['test'] == 1)&(temp2_table['conversion'] == 1),'conversion'].count()/temp2_table.loc[(temp2_table['test'] == 1),'conversion'].count()\n",
    "\n",
    "print('Before removing any country grouped users, the total number of user in control group is {}, test group is {}'.format(merge_table.loc[(merge_table['test'] == 0),'conversion'].count(), merge_table.loc[(merge_table['test'] == 1),'conversion'].count()))\n",
    "print('After removing \\'spain\\', the total number of user in control group is {}, test group is {}'.format(temp_table.loc[(temp_table['test'] == 0),'conversion'].count(), temp_table.loc[(temp_table['test'] == 1),'conversion'].count()))\n",
    "print('After removing \\'spain\\', \\'Argentina\\', \\'Uruguay\\' the total number of user in control group is {}, test group is {}'.format(temp2_table.loc[(temp2_table['test'] == 0),'conversion'].count(), temp2_table.loc[(temp2_table['test'] == 1),'conversion'].count()))\n",
    "print('After removing \\'spain\\', the total conversion rate for control group is {}，for test group is {}'.format(control_conv2, test_conv2))"
   ]
  },
  {
   "cell_type": "code",
   "execution_count": 27,
   "metadata": {},
   "outputs": [
    {
     "name": "stdout",
     "output_type": "stream",
     "text": [
      "total number for control group is 175540, and total converted number for control group is 8803\n",
      "total number for test group is 174678, and total converted number for test group is 8806\n"
     ]
    }
   ],
   "source": [
    "total_cont2 = temp2_table.loc[temp2_table['test'] == 0, 'conversion'].count()\n",
    "conv_cont2 = temp2_table.loc[(temp2_table['test'] == 0)&(temp2_table['conversion'] == 1),'conversion'].count()\n",
    "print('total number for control group is {}, and total converted number for control group is {}'.format(total_cont2, conv_cont2))\n",
    "\n",
    "total_test2 = temp2_table.loc[temp2_table['test'] == 1, 'conversion'].count()\n",
    "conv_test2 = temp2_table.loc[(temp2_table['test'] == 1)&(temp2_table['conversion'] == 1),'conversion'].count()\n",
    "print('total number for test group is {}, and total converted number for test group is {}'.format(total_test2, conv_test2))"
   ]
  },
  {
   "cell_type": "markdown",
   "metadata": {},
   "source": [
    "## After removing Spain, Argentina, Uruguay from the data table, the split between the control and test group is more even."
   ]
  },
  {
   "cell_type": "code",
   "execution_count": 28,
   "metadata": {},
   "outputs": [
    {
     "name": "stdout",
     "output_type": "stream",
     "text": [
      "p_cont is 0.05014811438988265, p_test is 0.050412759477438486\n",
      "SE_cont is 0.0005209154056286376, SE_test is 0.0005235022649556877\n",
      "Z score is  0.35834660267840246\n"
     ]
    }
   ],
   "source": [
    "##After removing users from \\'spain\\', \\'Argentina\\', \\'Uruguay\\' is the test result significant? here is how we evaluate the result.\n",
    "p_cont2 = conv_cont2/total_cont2\n",
    "p_test2 = conv_test2/total_test2\n",
    "\n",
    "print('p_cont is {}, p_test is {}'.format(p_cont2, p_test2))\n",
    "\n",
    "SE_cont2 = np.sqrt(p_cont2*(1-p_cont2)/total_cont2)\n",
    "SE_test2 = np.sqrt(p_test2*(1-p_test2)/total_test2)\n",
    "\n",
    "print('SE_cont is {}, SE_test is {}'.format(SE_cont2, SE_test2))\n",
    "\n",
    "Zscore2 = (p_test2 - p_cont2)/np.sqrt(SE_cont2**2 + SE_test2**2)\n",
    "\n",
    "print('Z score is ',Zscore2)"
   ]
  },
  {
   "cell_type": "markdown",
   "metadata": {},
   "source": [
    "![t_test2](https://github.com/emoticn413/data_science/blob/master/spanish_translating_ab_test/2_sample_t_test_2.jpg?raw=true)"
   ]
  },
  {
   "cell_type": "markdown",
   "metadata": {},
   "source": [
    "## From the analysis, the test group has better convert rate than the control group after removing Spain, Argentina, Uruguay. However, the Z_score = 0.358 is smaller than 1.65 (z_score at the significance level). For P_value, we have p_value = 1, which is bigger than 0.05. Therefore, H0 is failed to be rejected."
   ]
  },
  {
   "cell_type": "markdown",
   "metadata": {},
   "source": [
    "### What is the conversion vs date relationship?"
   ]
  },
  {
   "cell_type": "code",
   "execution_count": 29,
   "metadata": {},
   "outputs": [
    {
     "data": {
      "text/plain": [
       "date\n",
       "2015-11-30    0.051452\n",
       "2015-12-01    0.047685\n",
       "2015-12-02    0.051157\n",
       "2015-12-03    0.050525\n",
       "2015-12-04    0.050817\n",
       "Name: conversion, dtype: float64"
      ]
     },
     "execution_count": 29,
     "metadata": {},
     "output_type": "execute_result"
    }
   ],
   "source": [
    "temp2_table[temp2_table['test'] == 1].groupby(['date']).conversion.mean()"
   ]
  },
  {
   "cell_type": "code",
   "execution_count": 30,
   "metadata": {},
   "outputs": [
    {
     "data": {
      "text/plain": [
       "date\n",
       "2015-11-30    0.053032\n",
       "2015-12-01    0.048181\n",
       "2015-12-02    0.050185\n",
       "2015-12-03    0.051098\n",
       "2015-12-04    0.048999\n",
       "Name: conversion, dtype: float64"
      ]
     },
     "execution_count": 30,
     "metadata": {},
     "output_type": "execute_result"
    }
   ],
   "source": [
    "temp2_table[temp2_table['test'] == 0].groupby(['date']).conversion.mean()"
   ]
  },
  {
   "cell_type": "code",
   "execution_count": 31,
   "metadata": {},
   "outputs": [
    {
     "data": {
      "image/png": "[encoded data removed]",
      "text/plain": [
       "<Figure size 432x288 with 1 Axes>"
      ]
     },
     "metadata": {
      "needs_background": "light"
     },
     "output_type": "display_data"
    }
   ],
   "source": [
    "fig = temp2_table[temp2_table['test'] == 0].groupby(['date']).conversion.mean().plot()\n",
    "temp2_table[temp2_table['test'] == 1].groupby(['date']).conversion.mean().plot(ax=fig)\n",
    "plt.legend(['control', 'test'])\n",
    "plt.title('conversion rate vs date')\n",
    "plt.ylabel('conversion')\n",
    "plt.show()"
   ]
  },
  {
   "cell_type": "markdown",
   "metadata": {},
   "source": [
    "### From the conversion vs date plot, we can tell the two groups have the similar overall trend. However the test group has an fast increasing conversion rate than the control group after Dec 2nd, which is possible to be the transition period leads to larger conversion rate after the switching the translation style."
   ]
  },
  {
   "cell_type": "markdown",
   "metadata": {},
   "source": [
    "## With the testing period of 5 days, and sample size of 175,000 per group, averagely 35,000/day for each group. Let's double check the ab testing setup"
   ]
  },
  {
   "cell_type": "code",
   "execution_count": 32,
   "metadata": {},
   "outputs": [
    {
     "data": {
      "text/plain": [
       "176368"
      ]
     },
     "execution_count": 32,
     "metadata": {},
     "output_type": "execute_result"
    }
   ],
   "source": [
    "from scipy.stats import norm, zscore\n",
    "\n",
    "def sample_power_probtest(p1, p2, power=0.8, sig=0.05):\n",
    "    z = norm.isf([sig]) #one-sided t test\n",
    "    zp = -1 * norm.isf([power]) \n",
    "    d = (p1-p2)\n",
    "    s =2*((p1+p2) /2)*(1-((p1+p2) /2))\n",
    "    n = s * ((zp + z)**2) / (d**2)\n",
    "    return int(round(n[0]))\n",
    "\n",
    "sample_power_probtest(p_cont, p_cont*1.0375)"
   ]
  },
  {
   "cell_type": "markdown",
   "metadata": {},
   "source": [
    "## The current sample size is rougly good for Minimum Detectable Effect(MDE) of 3.75%. let's draw a plot to find out the relationship between MDE and sample size."
   ]
  },
  {
   "cell_type": "code",
   "execution_count": 38,
   "metadata": {},
   "outputs": [
    {
     "name": "stdout",
     "output_type": "stream",
     "text": [
      "[(6238, 0.01), (815, 0.03), (248, 0.06), (129, 0.09), (83, 0.12), (59, 0.15), (39, 0.2)]\n"
     ]
    }
   ],
   "source": [
    "mde_analysis = []\n",
    "for mde in [0.01, 0.03, 0.06, 0.09, 0.12, 0.15, 0.2]:\n",
    "    samplesize = sample_power_probtest(p_cont, p_cont + mde)      #absolute MDE is usually used\n",
    "    mde_analysis.append((samplesize, mde))\n",
    "    \n",
    "print(mde_analysis)"
   ]
  },
  {
   "cell_type": "code",
   "execution_count": 39,
   "metadata": {},
   "outputs": [],
   "source": [
    "xs = [x[0] for x in mde_analysis]\n",
    "ys = [x[1]*100 for x in mde_analysis]\n",
    "xs2 = [x[0]/35000 for x in mde_analysis]"
   ]
  },
  {
   "cell_type": "code",
   "execution_count": 40,
   "metadata": {},
   "outputs": [
    {
     "data": {
      "image/png": "[encoded data removed]",
      "text/plain": [
       "<Figure size 864x864 with 2 Axes>"
      ]
     },
     "metadata": {
      "needs_background": "light"
     },
     "output_type": "display_data"
    }
   ],
   "source": [
    "plt.figure(figsize=(12,12))\n",
    "plt.subplot(2,2,1)\n",
    "plt.plot(xs, ys)\n",
    "plt.xlabel('minimum sample size required')\n",
    "plt.ylabel('minimum detectable effect (%)')\n",
    "plt.subplot(2,2,2)\n",
    "plt.plot(xs2, ys)\n",
    "plt.xlabel('minimum estimated testing time required (days)')\n",
    "plt.ylabel('minimum detectable effect (%)')\n",
    "plt.show()"
   ]
  },
  {
   "cell_type": "markdown",
   "metadata": {},
   "source": [
    "## The sample size is sufficient for MDE of 3.75% and larger. There is not a big issue with the sample size."
   ]
  },
  {
   "cell_type": "markdown",
   "metadata": {},
   "source": [
    "## Since the test group isn't practically significent after discarding the biased datasets. We could have designed an algorithm to detect the imbalanced traffic distribution for future test."
   ]
  },
  {
   "cell_type": "code",
   "execution_count": 36,
   "metadata": {},
   "outputs": [],
   "source": [
    "## Let's assume 4% maximum variance allowed traffic distribution differences between the test and control groups.\n",
    "\n",
    "def sanity_check(table_in):\n",
    "    newtable = table_in.loc[table_in['country'] != 'Spain']\n",
    "    countrylist = newtable['country'].unique()\n",
    "    for each in countrylist:\n",
    "        print(each)\n",
    "        testcount = newtable.loc[(newtable['test'] == 1) & (newtable['country'] == each), 'conversion'].count()\n",
    "        controlcount = newtable.loc[(newtable['test'] == 0) & (newtable['country'] == each), 'conversion'].count()\n",
    "        print(testcount, controlcount)\n",
    "        if abs(testcount - controlcount)*2/(testcount + controlcount) >= 0.8:\n",
    "            print('Imbalanced data selection is detected for {}'.format(each))\n",
    "            return False\n",
    "        else:\n",
    "            continue\n",
    "    return True"
   ]
  },
  {
   "cell_type": "code",
   "execution_count": 37,
   "metadata": {
    "scrolled": true
   },
   "outputs": [
    {
     "name": "stdout",
     "output_type": "stream",
     "text": [
      "Mexico\n",
      "64275 64209\n",
      "Venezuela\n",
      "15905 16149\n",
      "Bolivia\n",
      "5574 5550\n",
      "Colombia\n",
      "26972 27088\n",
      "Uruguay\n",
      "3719 415\n",
      "Imbalanced data selection is detected for Uruguay\n"
     ]
    },
    {
     "data": {
      "text/plain": [
       "False"
      ]
     },
     "execution_count": 37,
     "metadata": {},
     "output_type": "execute_result"
    }
   ],
   "source": [
    "sanity_check(merge_table)"
   ]
  },
  {
   "cell_type": "markdown",
   "metadata": {},
   "source": [
    "# Summary:\n",
    "## Without any data treatment, the A/B test has suggested the test group is inferior than the control group, HOWEVER:\n",
    "    1, The test group and control group has obvious data selection bias over Argentina and Uruguay, which has led to a biased conclusion. We could use the sanity check to QC the imbalanced traffic distribution issue in future.\n",
    "    2, The time span for the test could be longer as we see the test group shows an increase trend of conversion rate while the control group shows the opposite. We need data covering a longer time to draw a more comprehensive conclusion.\n",
    "    3, The current test shows some countries are subject to positive influence while some countries are opposite, we could consider launch the new translation version only for the countries where we see the positive impact."
   ]
  },
  {
   "cell_type": "code",
   "execution_count": null,
   "metadata": {},
   "outputs": [],
   "source": []
  }
 ],
 "metadata": {
  "kernelspec": {
   "display_name": "Python 3",
   "language": "python",
   "name": "python3"
  },
  "language_info": {
   "codemirror_mode": {
    "name": "ipython",
    "version": 3
   },
   "file_extension": ".py",
   "mimetype": "text/x-python",
   "name": "python",
   "nbconvert_exporter": "python",
   "pygments_lexer": "ipython3",
   "version": "3.7.0"
  }
 },
 "nbformat": 4,
 "nbformat_minor": 4
}
